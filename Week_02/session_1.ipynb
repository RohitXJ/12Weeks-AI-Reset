{
 "cells": [
  {
   "cell_type": "markdown",
   "id": "0822c3fe",
   "metadata": {},
   "source": [
    "# Built-in Data Structures Review"
   ]
  },
  {
   "cell_type": "markdown",
   "id": "6221e21b",
   "metadata": {},
   "source": [
    "## List"
   ]
  },
  {
   "cell_type": "markdown",
   "id": "0d5aa725",
   "metadata": {},
   "source": [
    "### Write a Python program to find the second largest number in a list."
   ]
  },
  {
   "cell_type": "code",
   "execution_count": 11,
   "id": "5bd61440",
   "metadata": {},
   "outputs": [
    {
     "name": "stdout",
     "output_type": "stream",
     "text": [
      "8\n"
     ]
    }
   ],
   "source": [
    "lst = [5,4,3,7,9,6,8,2,0]\n",
    "lst.sort()\n",
    "print(lst[-2])"
   ]
  },
  {
   "cell_type": "markdown",
   "id": "6d7300b0",
   "metadata": {},
   "source": [
    "### Remove all duplicates from a list without using set()."
   ]
  },
  {
   "cell_type": "code",
   "execution_count": 13,
   "id": "ee33aebb",
   "metadata": {},
   "outputs": [
    {
     "data": {
      "text/plain": [
       "[4, 1, 2, 3, 5, 6]"
      ]
     },
     "execution_count": 13,
     "metadata": {},
     "output_type": "execute_result"
    }
   ],
   "source": [
    "lst = [4,4,1,2,1,3,5,1,6,2,4]\n",
    "uniq_lst = []\n",
    "for i in lst:\n",
    "    if i not in uniq_lst:\n",
    "        uniq_lst.append(i)\n",
    "\n",
    "uniq_lst"
   ]
  },
  {
   "cell_type": "markdown",
   "id": "497ca520",
   "metadata": {},
   "source": [
    "### Reverse a list in-place without using slicing."
   ]
  },
  {
   "cell_type": "code",
   "execution_count": 14,
   "id": "7145d9aa",
   "metadata": {},
   "outputs": [
    {
     "data": {
      "text/plain": [
       "[3, 1, 6, 7]"
      ]
     },
     "execution_count": 14,
     "metadata": {},
     "output_type": "execute_result"
    }
   ],
   "source": [
    "lst = [7,6,1,3]\n",
    "lst.reverse()\n",
    "lst"
   ]
  },
  {
   "cell_type": "markdown",
   "id": "afd4bd3b",
   "metadata": {},
   "source": [
    "### Find the common elements between two lists."
   ]
  },
  {
   "cell_type": "code",
   "execution_count": 17,
   "id": "5f4338a5",
   "metadata": {},
   "outputs": [
    {
     "data": {
      "text/plain": [
       "[0, 11]"
      ]
     },
     "execution_count": 17,
     "metadata": {},
     "output_type": "execute_result"
    }
   ],
   "source": [
    "lst_a = [0,11,6,37,45,20]\n",
    "lst_b = [9,65,11,70,5,0]\n",
    "\n",
    "lst_a = set(lst_a)\n",
    "lst_b = set(lst_b)\n",
    "\n",
    "common_elm = lst_a.intersection(lst_b)\n",
    "common_elm = list(common_elm)\n",
    "\n",
    "common_elm"
   ]
  },
  {
   "cell_type": "markdown",
   "id": "c7b84755",
   "metadata": {},
   "source": [
    "### Given a list of integers, move all zeros to the end while maintaining order."
   ]
  },
  {
   "cell_type": "code",
   "execution_count": 22,
   "id": "cef14193",
   "metadata": {},
   "outputs": [
    {
     "data": {
      "text/plain": [
       "[4, 1, 5, 2, 7, 0, 0, 0]"
      ]
     },
     "execution_count": 22,
     "metadata": {},
     "output_type": "execute_result"
    }
   ],
   "source": [
    "lst = [4,0,1,0,5,2,0,7]\n",
    "result = [num for num in lst if num != 0] + [0] * lst.count(0)\n",
    "result"
   ]
  },
  {
   "cell_type": "markdown",
   "id": "1076a8a2",
   "metadata": {},
   "source": [
    "## Tuple"
   ]
  },
  {
   "cell_type": "markdown",
   "id": "8e6639f6",
   "metadata": {},
   "source": [
    "### Write a program to count how many times each element appears in a tuple."
   ]
  },
  {
   "cell_type": "code",
   "execution_count": 24,
   "id": "501772a4",
   "metadata": {},
   "outputs": [
    {
     "name": "stdout",
     "output_type": "stream",
     "text": [
      "Count of 5 = 2\n",
      "Count of 1 = 2\n",
      "Count of 3 = 1\n",
      "Count of 4 = 1\n",
      "Count of 2 = 1\n",
      "Count of 6 = 1\n"
     ]
    }
   ],
   "source": [
    "tpl = (5,1,3,4,2,1,5,6)\n",
    "counted = []\n",
    "for i in tpl:\n",
    "    if i not in counted:\n",
    "        counted.append(i)\n",
    "        print(f\"Count of {i} = {tpl.count(i)}\")"
   ]
  },
  {
   "cell_type": "markdown",
   "id": "a33a1e36",
   "metadata": {},
   "source": [
    "### Given a tuple of tuples like ((1, 2), (3, 4), (5, 6)), convert it to a flat list [1, 2, 3, 4, 5, 6]."
   ]
  },
  {
   "cell_type": "code",
   "execution_count": 25,
   "id": "4dee2263",
   "metadata": {},
   "outputs": [
    {
     "data": {
      "text/plain": [
       "[1, 2, 3, 4, 5, 6]"
      ]
     },
     "execution_count": 25,
     "metadata": {},
     "output_type": "execute_result"
    }
   ],
   "source": [
    "tpl = ((1, 2), (3, 4), (5, 6))\n",
    "main_lst = [num for nums in tpl for num in nums]\n",
    "main_lst"
   ]
  },
  {
   "cell_type": "markdown",
   "id": "d8638e1f",
   "metadata": {},
   "source": [
    "### Find the maximum and minimum elements in a tuple without using max() or min()."
   ]
  },
  {
   "cell_type": "code",
   "execution_count": 27,
   "id": "4789f847",
   "metadata": {},
   "outputs": [
    {
     "name": "stdout",
     "output_type": "stream",
     "text": [
      "Max = 7 | Min = -6\n"
     ]
    }
   ],
   "source": [
    "tpl = (4,5,-1,7,2,-6,4,7)\n",
    "\n",
    "max = float(\"-inf\")\n",
    "min = float(\"inf\")\n",
    "\n",
    "for i in tpl:\n",
    "    if i > max:\n",
    "        max = i\n",
    "    if i < min:\n",
    "        min = i\n",
    "\n",
    "print(f\"Max = {max} | Min = {min}\")"
   ]
  },
  {
   "cell_type": "markdown",
   "id": "4308d612",
   "metadata": {},
   "source": [
    "## Set"
   ]
  },
  {
   "cell_type": "markdown",
   "id": "6e9d751e",
   "metadata": {},
   "source": [
    "### Find all unique elements that appear in either of two lists."
   ]
  },
  {
   "cell_type": "code",
   "execution_count": 4,
   "id": "6045b0c6",
   "metadata": {},
   "outputs": [
    {
     "name": "stdout",
     "output_type": "stream",
     "text": [
      "Common elements in lst1 and lst2 = {1, 2, 4, 7}\n"
     ]
    }
   ],
   "source": [
    "lst1 = [4,6,7,6,4,2,1]\n",
    "lst2 = [1,0,7,2,0,1,4]\n",
    "set1 = set(lst1)\n",
    "set2 = set(lst2)\n",
    "print(f\"Common elements in lst1 and lst2 = {set1.intersection(set2)}\")"
   ]
  },
  {
   "cell_type": "markdown",
   "id": "2d2ed86e",
   "metadata": {},
   "source": [
    "### Check if one set is a subset of another."
   ]
  },
  {
   "cell_type": "code",
   "execution_count": 8,
   "id": "ca4f5f8f",
   "metadata": {},
   "outputs": [
    {
     "name": "stdout",
     "output_type": "stream",
     "text": [
      "set2 is a subset of set1\n"
     ]
    }
   ],
   "source": [
    "set1 = {1,2,3,4,5}\n",
    "set2 = {1,2,3}\n",
    "\n",
    "if set1.issubset(set2):\n",
    "    print(\"set1 is a subset of set2\")\n",
    "elif set2.issubset(set1):\n",
    "    print(\"set2 is a subset of set1\")\n",
    "else:\n",
    "    print(\"No subset relationship found\")"
   ]
  },
  {
   "cell_type": "markdown",
   "id": "36a1f092",
   "metadata": {},
   "source": [
    "### Given a list of numbers, print the ones that appear only once."
   ]
  },
  {
   "cell_type": "code",
   "execution_count": 11,
   "id": "91f4d0f5",
   "metadata": {},
   "outputs": [
    {
     "name": "stdout",
     "output_type": "stream",
     "text": [
      "4 1 5 2 7 "
     ]
    }
   ],
   "source": [
    "lst = [4,0,1,0,5,2,0,7]\n",
    "for i in lst:\n",
    "    if lst.count(i)==1:\n",
    "        print(i,end=\" \")"
   ]
  },
  {
   "cell_type": "markdown",
   "id": "9ed67e17",
   "metadata": {},
   "source": [
    "### Find the symmetric difference between two sets."
   ]
  },
  {
   "cell_type": "code",
   "execution_count": 12,
   "id": "0ed01766",
   "metadata": {},
   "outputs": [
    {
     "name": "stdout",
     "output_type": "stream",
     "text": [
      "Symmetric difference between a and b: {1, 2, 5, 6}\n"
     ]
    }
   ],
   "source": [
    "# Example sets\n",
    "a = {1, 2, 3, 4}\n",
    "b = {3, 4, 5, 6}\n",
    "\n",
    "sym_diff = a.symmetric_difference(b)\n",
    "print(f\"Symmetric difference between a and b: {sym_diff}\")"
   ]
  },
  {
   "cell_type": "markdown",
   "id": "899740b0",
   "metadata": {},
   "source": [
    "### Remove all elements from a set that are divisible by 3."
   ]
  },
  {
   "cell_type": "code",
   "execution_count": 13,
   "id": "759680cd",
   "metadata": {},
   "outputs": [
    {
     "data": {
      "text/plain": [
       "{1, 2, 4}"
      ]
     },
     "execution_count": 13,
     "metadata": {},
     "output_type": "execute_result"
    }
   ],
   "source": [
    "a = {elem for elem in a if elem % 3 != 0}\n",
    "a"
   ]
  },
  {
   "cell_type": "markdown",
   "id": "c967ee88",
   "metadata": {},
   "source": [
    "## Dictionary"
   ]
  },
  {
   "cell_type": "markdown",
   "id": "99a731c5",
   "metadata": {},
   "source": [
    "### Count frequency of each character in a string and store it in a dictionary."
   ]
  },
  {
   "cell_type": "code",
   "execution_count": 16,
   "id": "b4655c18",
   "metadata": {},
   "outputs": [],
   "source": [
    "str1 = \"This is a test statement, and is ment to test the count of different words in this string\""
   ]
  },
  {
   "cell_type": "code",
   "execution_count": 17,
   "id": "0fbd624a",
   "metadata": {},
   "outputs": [
    {
     "name": "stdout",
     "output_type": "stream",
     "text": [
      "{'This': 1, 'is': 2, 'a': 1, 'test': 2, 'statement,': 1, 'and': 1, 'ment': 1, 'to': 1, 'the': 1, 'count': 1, 'of': 1, 'different': 1, 'words': 1, 'in': 1, 'this': 1, 'string': 1}\n"
     ]
    }
   ],
   "source": [
    "count_dict = {}\n",
    "for words in str1.split():\n",
    "    if words not in count_dict.keys():\n",
    "        count_dict[words] = str1.split().count(words)\n",
    "\n",
    "print(count_dict)"
   ]
  },
  {
   "cell_type": "markdown",
   "id": "c8b32dfd",
   "metadata": {},
   "source": [
    "### Merge two dictionaries — if a key exists in both, add their values."
   ]
  },
  {
   "cell_type": "code",
   "execution_count": 18,
   "id": "0397f43c",
   "metadata": {},
   "outputs": [],
   "source": [
    "dict1 = {'a': 10, 'b': 20, 'c': 30}\n",
    "dict2 = {'b': 20, 'c': 20, 'd': 30, 'e': 40}"
   ]
  },
  {
   "cell_type": "code",
   "execution_count": 19,
   "id": "40e2442a",
   "metadata": {},
   "outputs": [
    {
     "name": "stdout",
     "output_type": "stream",
     "text": [
      "{'a': 10, 'b': 40, 'c': 50, 'd': 30, 'e': 40}\n"
     ]
    }
   ],
   "source": [
    "merged_dict = dict1.copy()\n",
    "for key, value in dict2.items():\n",
    "    if key in merged_dict:\n",
    "        merged_dict[key] += value\n",
    "    else:\n",
    "        merged_dict[key] = value\n",
    "print(merged_dict)"
   ]
  },
  {
   "cell_type": "markdown",
   "id": "9e7009d2",
   "metadata": {},
   "source": [
    "### Find the key with the maximum value in a dictionary."
   ]
  },
  {
   "cell_type": "code",
   "execution_count": 6,
   "id": "a619e299",
   "metadata": {},
   "outputs": [
    {
     "name": "stdout",
     "output_type": "stream",
     "text": [
      "Max Value's Key Value = C\n"
     ]
    }
   ],
   "source": [
    "dict = {'A':25 , 'B':41 , 'C':95} \n",
    "MAX = float(\"-inf\")\n",
    "MAX_KEY = ''\n",
    "for i in dict.keys():\n",
    "    if dict[i] > MAX:\n",
    "        MAX = dict[i]\n",
    "        MAX_KEY = i\n",
    "\n",
    "print(f\"Max Value's Key Value = {MAX_KEY}\")"
   ]
  },
  {
   "cell_type": "markdown",
   "id": "3edc2978",
   "metadata": {},
   "source": [
    "### Invert a dictionary (swap keys and values)."
   ]
  },
  {
   "cell_type": "code",
   "execution_count": 10,
   "id": "1fa0fd26",
   "metadata": {},
   "outputs": [
    {
     "name": "stdout",
     "output_type": "stream",
     "text": [
      "{25: 'A', 41: 'B', 95: 'C'}\n"
     ]
    }
   ],
   "source": [
    "dict = {'A':25 , 'B':41 , 'C':95} \n",
    "new_dict = {}\n",
    "for pair in dict.keys():\n",
    "    new_key = dict[pair]\n",
    "    new_dict[new_key] = pair\n",
    "del dict\n",
    "print(new_dict)"
   ]
  },
  {
   "cell_type": "markdown",
   "id": "a744557e",
   "metadata": {},
   "source": [
    "### Remove all items from a dictionary whose value is below a given threshold."
   ]
  },
  {
   "cell_type": "code",
   "execution_count": 11,
   "id": "27aa139a",
   "metadata": {},
   "outputs": [],
   "source": [
    "threshold = 40\n",
    "dict = {'A':75 , 'B':39 , 'C':95 , 'D':25}"
   ]
  },
  {
   "cell_type": "code",
   "execution_count": 24,
   "id": "d0652853",
   "metadata": {},
   "outputs": [
    {
     "name": "stdout",
     "output_type": "stream",
     "text": [
      "{'A': 75, 'C': 95}\n"
     ]
    }
   ],
   "source": [
    "new_dict = {}\n",
    "for i in dict.keys():\n",
    "    if dict[i] > threshold:\n",
    "        new_dict[i] = dict[i]\n",
    "\n",
    "print(new_dict)\n",
    "del dict"
   ]
  },
  {
   "cell_type": "markdown",
   "id": "588a5630",
   "metadata": {},
   "source": [
    "### Sort a dictionary by its values in descending order."
   ]
  },
  {
   "cell_type": "code",
   "execution_count": 25,
   "id": "c8efa351",
   "metadata": {},
   "outputs": [
    {
     "name": "stdout",
     "output_type": "stream",
     "text": [
      "Before {'A': 75, 'B': 39, 'C': 95, 'D': 25}\n",
      "After {'D': 25, 'B': 39, 'A': 75, 'C': 95}\n"
     ]
    }
   ],
   "source": [
    "dict_1 = {'A':75 , 'B':39 , 'C':95 , 'D':25}\n",
    "sorted_dict = dict(sorted(dict_1.items() , key=lambda item: item[1]))\n",
    "print(f\"Before {dict_1}\")\n",
    "print(f\"After {sorted_dict}\")"
   ]
  },
  {
   "cell_type": "markdown",
   "id": "cd522fec",
   "metadata": {},
   "source": [
    "### Given a list of words, create a dictionary where keys are word lengths and values are lists of words of that length."
   ]
  },
  {
   "cell_type": "code",
   "execution_count": 26,
   "id": "5a99a694",
   "metadata": {},
   "outputs": [
    {
     "name": "stdout",
     "output_type": "stream",
     "text": [
      "{5: ['apple'], 3: ['bat', 'car', 'dog', 'fan'], 8: ['elephant'], 4: ['goat']}\n"
     ]
    }
   ],
   "source": [
    "words = [\"apple\", \"bat\", \"car\", \"dog\", \"elephant\", \"fan\", \"goat\"]\n",
    "length_dict = {}\n",
    "for word in words:\n",
    "    l = len(word)\n",
    "    if l not in length_dict:\n",
    "        length_dict[l] = []\n",
    "    length_dict[l].append(word)\n",
    "print(length_dict)"
   ]
  }
 ],
 "metadata": {
  "kernelspec": {
   "display_name": "base",
   "language": "python",
   "name": "python3"
  },
  "language_info": {
   "codemirror_mode": {
    "name": "ipython",
    "version": 3
   },
   "file_extension": ".py",
   "mimetype": "text/x-python",
   "name": "python",
   "nbconvert_exporter": "python",
   "pygments_lexer": "ipython3",
   "version": "3.12.7"
  }
 },
 "nbformat": 4,
 "nbformat_minor": 5
}
