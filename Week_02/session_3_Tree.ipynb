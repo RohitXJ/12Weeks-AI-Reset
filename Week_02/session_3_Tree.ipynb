{
 "cells": [
  {
   "cell_type": "markdown",
   "id": "7f94f2fb",
   "metadata": {},
   "source": [
    "# Tree (Binary Search Tree)"
   ]
  },
  {
   "cell_type": "markdown",
   "id": "96c8ebf4",
   "metadata": {},
   "source": [
    "### Q1. BST Node & Insertion: Create a TreeNode class (data, left, right). Implement a recursive $\\mathbf{insert(root, val)}$ function that places a new value correctly in the BST. "
   ]
  },
  {
   "cell_type": "code",
   "execution_count": 17,
   "id": "105cbda5",
   "metadata": {},
   "outputs": [],
   "source": [
    "class TreeNode():\n",
    "    def __init__(self,data):\n",
    "        self.data = data\n",
    "        self.left = None\n",
    "        self.right = None"
   ]
  },
  {
   "cell_type": "code",
   "execution_count": 18,
   "id": "e740536e",
   "metadata": {},
   "outputs": [],
   "source": [
    "def insert(root,value):\n",
    "    if root == None:\n",
    "        return TreeNode(value)\n",
    "    if value < root.data:\n",
    "        root.left = insert(root.left,value)\n",
    "    elif value > root.data:\n",
    "        root.right = insert(root.right,value)\n",
    "    return root"
   ]
  },
  {
   "cell_type": "code",
   "execution_count": 19,
   "id": "84d706e9",
   "metadata": {},
   "outputs": [],
   "source": [
    "root = None\n",
    "for key in [40,30,80,10,50,20]:\n",
    "    root = insert(root,key)"
   ]
  },
  {
   "cell_type": "markdown",
   "id": "a4bc4308",
   "metadata": {},
   "source": [
    "### Q2. Tree Traversal (Inorder): Implement the $\\mathbf{inorder\\_traversal(root)}$ function (Left $\\rightarrow$ Root $\\rightarrow$ Right). What property does this specific traversal yield for a BST?"
   ]
  },
  {
   "cell_type": "code",
   "execution_count": 20,
   "id": "4d70b8b3",
   "metadata": {},
   "outputs": [],
   "source": [
    "def inorder_traversal(root):\n",
    "    if root:\n",
    "        inorder_traversal(root.left)\n",
    "        print(root.data,end=\" \")\n",
    "        inorder_traversal(root.right)"
   ]
  },
  {
   "cell_type": "code",
   "execution_count": 21,
   "id": "1e8f4c87",
   "metadata": {},
   "outputs": [
    {
     "name": "stdout",
     "output_type": "stream",
     "text": [
      "10 20 30 40 50 80 "
     ]
    }
   ],
   "source": [
    "inorder_traversal(root)"
   ]
  },
  {
   "cell_type": "markdown",
   "id": "3cb46e27",
   "metadata": {},
   "source": [
    "### Q3. Search and Find Min/Max: Implement a recursive $\\mathbf{search(root, val)}$ function. Also, implement $\\mathbf{find\\_min(root)}$ (find the smallest value)."
   ]
  },
  {
   "cell_type": "code",
   "execution_count": 22,
   "id": "0316a097",
   "metadata": {},
   "outputs": [],
   "source": [
    "def search(root,val):\n",
    "    if root == None or root.data == val:\n",
    "        return root\n",
    "    \n",
    "    if val < root.data:\n",
    "        return search(root.left,val)\n",
    "    return search(root.right,val)\n",
    "\n",
    "def find_min(root):\n",
    "    while root.left != None:\n",
    "        root = root.left\n",
    "    \n",
    "    return root.data"
   ]
  },
  {
   "cell_type": "code",
   "execution_count": 23,
   "id": "755d624b",
   "metadata": {},
   "outputs": [
    {
     "name": "stdout",
     "output_type": "stream",
     "text": [
      "Found\n",
      "Not Found\n"
     ]
    }
   ],
   "source": [
    "print(f\"{\"Found\" if search(root,20) else \"Not Found\"}\")\n",
    "print(f\"{\"Found\" if search(root,60) else \"Not Found\"}\")"
   ]
  },
  {
   "cell_type": "code",
   "execution_count": 24,
   "id": "f37691c9",
   "metadata": {},
   "outputs": [
    {
     "name": "stdout",
     "output_type": "stream",
     "text": [
      "Min Value : 10\n"
     ]
    }
   ],
   "source": [
    "print(f\"Min Value : {find_min(root)}\")"
   ]
  },
  {
   "cell_type": "markdown",
   "id": "2279b0a7",
   "metadata": {},
   "source": [
    "### Q4. Find the Height/Max Depth: Implement $\\mathbf{max\\_depth(root)}$ to find the length of the longest path from the root to a leaf node. (Use recursion)."
   ]
  },
  {
   "cell_type": "code",
   "execution_count": 25,
   "id": "fcd6ff7a",
   "metadata": {},
   "outputs": [],
   "source": [
    "def max_depth(root):\n",
    "    if root is None:\n",
    "        return 0\n",
    "    return 1 + max(max_depth(root.left),max_depth(root.right))"
   ]
  },
  {
   "cell_type": "code",
   "execution_count": 26,
   "id": "e2242aea",
   "metadata": {},
   "outputs": [
    {
     "name": "stdout",
     "output_type": "stream",
     "text": [
      "Height : 4\n"
     ]
    }
   ],
   "source": [
    "print(f\"Height : {max_depth(root)}\")"
   ]
  },
  {
   "cell_type": "markdown",
   "id": "2aee9454",
   "metadata": {},
   "source": [
    "### Q5. Level Order Traversal (BFS): Implement $\\mathbf{level\\_order\\_traversal(root)}$ using a Queue (your previous work!). This prints nodes level by level."
   ]
  },
  {
   "cell_type": "code",
   "execution_count": 32,
   "id": "cf4fbd3b",
   "metadata": {},
   "outputs": [],
   "source": [
    "from collections import deque\n",
    "\n",
    "def level_order_traversal(root):\n",
    "    if not root:\n",
    "        return\n",
    "    queue = deque([root])\n",
    "    while queue:\n",
    "        node_at_current_level = []\n",
    "        for _ in range(len(queue)):\n",
    "            node = queue.popleft()\n",
    "            node_at_current_level.append(node.data)\n",
    "            if node.left:\n",
    "                queue.append(node.left)\n",
    "            if node.right:\n",
    "                queue.append(node.right)\n",
    "        print(node_at_current_level)\n"
   ]
  },
  {
   "cell_type": "code",
   "execution_count": 33,
   "id": "37ab3023",
   "metadata": {},
   "outputs": [
    {
     "name": "stdout",
     "output_type": "stream",
     "text": [
      "[40]\n",
      "[30, 80]\n",
      "[10, 50]\n",
      "[20]\n"
     ]
    }
   ],
   "source": [
    "level_order_traversal(root)"
   ]
  },
  {
   "cell_type": "markdown",
   "id": "3de42557",
   "metadata": {},
   "source": [
    "### Q6. Validate a BST: Write a function $\\mathbf{is\\_valid\\_bst(root)}$ that verifies if a given binary tree is a true BST. (Hint: A simple inorder traversal check isn't sufficient; you need to pass min/max constraints recursively.)"
   ]
  },
  {
   "cell_type": "code",
   "execution_count": 35,
   "id": "e1f030f1",
   "metadata": {},
   "outputs": [],
   "source": [
    "def is_valid_bst(root):\n",
    "    def helper(node, low, high):\n",
    "        if node is None:\n",
    "            return True\n",
    "        val = node.data\n",
    "        if val <= low or val >= high:\n",
    "            return False\n",
    "        return helper(node.left, low, val) and helper(node.right, val, high)\n",
    "    \n",
    "    return helper(root, float('-inf'), float('inf'))"
   ]
  },
  {
   "cell_type": "code",
   "execution_count": 36,
   "id": "4d4b2cee",
   "metadata": {},
   "outputs": [
    {
     "data": {
      "text/plain": [
       "True"
      ]
     },
     "execution_count": 36,
     "metadata": {},
     "output_type": "execute_result"
    }
   ],
   "source": [
    "is_valid_bst(root)"
   ]
  }
 ],
 "metadata": {
  "kernelspec": {
   "display_name": "base",
   "language": "python",
   "name": "python3"
  },
  "language_info": {
   "codemirror_mode": {
    "name": "ipython",
    "version": 3
   },
   "file_extension": ".py",
   "mimetype": "text/x-python",
   "name": "python",
   "nbconvert_exporter": "python",
   "pygments_lexer": "ipython3",
   "version": "3.12.7"
  }
 },
 "nbformat": 4,
 "nbformat_minor": 5
}
