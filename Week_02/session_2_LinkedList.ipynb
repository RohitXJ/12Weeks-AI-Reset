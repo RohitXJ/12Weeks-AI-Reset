{
 "cells": [
  {
   "cell_type": "markdown",
   "id": "32031fc0",
   "metadata": {},
   "source": [
    "# Linked List"
   ]
  },
  {
   "cell_type": "markdown",
   "id": "364c79a9",
   "metadata": {},
   "source": [
    "### Q1. Node and Head Implementation: Define a Node class and a SinglyLinkedList class with a $\\mathbf{head}$ attribute. Implement $\\mathbf{insert\\_at\\_end(data)}$."
   ]
  },
  {
   "cell_type": "code",
   "execution_count": 1,
   "id": "26f85761",
   "metadata": {},
   "outputs": [],
   "source": [
    "class Node:\n",
    "    def __init__(self,data):\n",
    "        self.data = data\n",
    "        self.next = None"
   ]
  },
  {
   "cell_type": "code",
   "execution_count": 2,
   "id": "07bbab3d",
   "metadata": {},
   "outputs": [],
   "source": [
    "class SinglyLinkedList:\n",
    "    def __init__(self):\n",
    "        self.head = None\n",
    "    \n",
    "    def insert_at_end(self,data):\n",
    "        new_node = Node(data)\n",
    "        if self.head == None:\n",
    "            self.head = new_node\n",
    "            return\n",
    "        \n",
    "        last_node = self.head\n",
    "        while last_node.next:\n",
    "            last_node = last_node.next\n",
    "        last_node.next = new_node\n"
   ]
  },
  {
   "cell_type": "code",
   "execution_count": 3,
   "id": "ae008893",
   "metadata": {},
   "outputs": [],
   "source": [
    "ls = SinglyLinkedList()\n",
    "ls.insert_at_end(1)\n",
    "ls.insert_at_end(3)\n",
    "ls.insert_at_end(7)"
   ]
  },
  {
   "cell_type": "markdown",
   "id": "61a0a26e",
   "metadata": {},
   "source": [
    "### Q2. Traversal and Printing: Implement a $\\mathbf{print\\_list()}$ method that iterates from the head to the tail, printing each node's data."
   ]
  },
  {
   "cell_type": "code",
   "execution_count": 4,
   "id": "45b3ddba",
   "metadata": {},
   "outputs": [],
   "source": [
    "class SinglyLinkedList:\n",
    "    def __init__(self):\n",
    "        self.head = None\n",
    "    \n",
    "    def insert_at_end(self,data):\n",
    "        new_node = Node(data)\n",
    "        if self.head == None:\n",
    "            self.head = new_node\n",
    "            return\n",
    "        \n",
    "        last_node = self.head\n",
    "        while last_node.next:\n",
    "            last_node = last_node.next\n",
    "        last_node.next = new_node\n",
    "    \n",
    "    def print_list(self):\n",
    "        if self.head == None:\n",
    "            print(\"The linked list is empty!\")\n",
    "        last_node = self.head\n",
    "        \n",
    "        while True:\n",
    "            print(f\"[{last_node.data}] - > \",end=\"\")\n",
    "            last_node = last_node.next\n",
    "            if last_node == None:\n",
    "                break"
   ]
  },
  {
   "cell_type": "code",
   "execution_count": 5,
   "id": "77c0e1b9",
   "metadata": {},
   "outputs": [
    {
     "name": "stdout",
     "output_type": "stream",
     "text": [
      "[1] - > [3] - > [7] - > "
     ]
    }
   ],
   "source": [
    "ls = SinglyLinkedList()\n",
    "ls.insert_at_end(1)\n",
    "ls.insert_at_end(3)\n",
    "ls.insert_at_end(7)\n",
    "ls.print_list()"
   ]
  },
  {
   "cell_type": "markdown",
   "id": "d338929a",
   "metadata": {},
   "source": [
    "### Q3. Insertion and Deletion at Head: Implement $\\mathbf{insert\\_at\\_beginning(data)}$ and $\\mathbf{delete\\_head()}$."
   ]
  },
  {
   "cell_type": "code",
   "execution_count": 6,
   "id": "c67d22f1",
   "metadata": {},
   "outputs": [],
   "source": [
    "class SinglyLinkedList:\n",
    "    def __init__(self):\n",
    "        self.head = None\n",
    "    \n",
    "    def insert_at_end(self,data):\n",
    "        new_node = Node(data)\n",
    "        if self.head == None:\n",
    "            self.head = new_node\n",
    "            return\n",
    "        \n",
    "        last_node = self.head\n",
    "        while last_node.next:\n",
    "            last_node = last_node.next\n",
    "        last_node.next = new_node\n",
    "    \n",
    "    def print_list(self):\n",
    "        if self.head == None:\n",
    "            print(\"The linked list is empty!\")\n",
    "        last_node = self.head\n",
    "        \n",
    "        while True:\n",
    "            print(f\"[{last_node.data}] - > \",end=\"\")\n",
    "            last_node = last_node.next\n",
    "            if last_node == None:\n",
    "                break\n",
    "    \n",
    "    def insert_at_beginning(self,data):\n",
    "        new_node = Node(data)\n",
    "        new_node.next = self.head\n",
    "        self.head = new_node\n",
    "\n",
    "    def delete_head(self):\n",
    "        self.head = self.head.next"
   ]
  },
  {
   "cell_type": "code",
   "execution_count": 7,
   "id": "92f89425",
   "metadata": {},
   "outputs": [
    {
     "name": "stdout",
     "output_type": "stream",
     "text": [
      "[1] - > [3] - > [7] - > "
     ]
    }
   ],
   "source": [
    "ls = SinglyLinkedList()\n",
    "ls.insert_at_end(1)\n",
    "ls.insert_at_end(3)\n",
    "ls.insert_at_end(7)\n",
    "ls.print_list()"
   ]
  },
  {
   "cell_type": "code",
   "execution_count": 8,
   "id": "b2f2701f",
   "metadata": {},
   "outputs": [
    {
     "name": "stdout",
     "output_type": "stream",
     "text": [
      "[0] - > [1] - > [3] - > [7] - > "
     ]
    }
   ],
   "source": [
    "ls.insert_at_beginning(0)\n",
    "ls.print_list()"
   ]
  },
  {
   "cell_type": "code",
   "execution_count": 9,
   "id": "20bdd126",
   "metadata": {},
   "outputs": [
    {
     "name": "stdout",
     "output_type": "stream",
     "text": [
      "[1] - > [3] - > [7] - > "
     ]
    }
   ],
   "source": [
    "ls.delete_head()\n",
    "ls.print_list()"
   ]
  },
  {
   "cell_type": "markdown",
   "id": "33c430d4",
   "metadata": {},
   "source": [
    "### Q4. Deletion by Value: Implement $\\mathbf{delete\\_by\\_value(target)}$ to find and remove the first node whose data matches the target."
   ]
  },
  {
   "cell_type": "code",
   "execution_count": 10,
   "id": "4b8017ad",
   "metadata": {},
   "outputs": [],
   "source": [
    "class SinglyLinkedList:\n",
    "    def __init__(self):\n",
    "        self.head = None\n",
    "    \n",
    "    def insert_at_end(self,data):\n",
    "        new_node = Node(data)\n",
    "        if self.head == None:\n",
    "            self.head = new_node\n",
    "            return\n",
    "        \n",
    "        last_node = self.head\n",
    "        while last_node.next:\n",
    "            last_node = last_node.next\n",
    "        last_node.next = new_node\n",
    "    \n",
    "    def print_list(self):\n",
    "        if self.head == None:\n",
    "            print(\"The linked list is empty!\")\n",
    "\n",
    "        last_node = self.head\n",
    "        while True:\n",
    "            print(f\"[{last_node.data}] - > \",end=\"\")\n",
    "            last_node = last_node.next\n",
    "            if last_node == None:\n",
    "                break\n",
    "    \n",
    "    def delete_by_value(self,target):\n",
    "        counter_1 = self.head\n",
    "        counter_2 = self.head\n",
    "        \n",
    "        if counter_1.data == target and counter_1 == self.head:\n",
    "            self.head = counter_1.next\n",
    "            return\n",
    "        \n",
    "        while True:\n",
    "            counter_1 = counter_1.next\n",
    "            if counter_1.data == target:\n",
    "                counter_2.next = counter_1.next\n",
    "                return\n",
    "            if counter_1.next == None:\n",
    "                break\n",
    "            counter_2 = counter_2.next\n",
    "        \n",
    "        print(f\"Value {target} not found\")\n"
   ]
  },
  {
   "cell_type": "code",
   "execution_count": 11,
   "id": "e8511cff",
   "metadata": {},
   "outputs": [
    {
     "name": "stdout",
     "output_type": "stream",
     "text": [
      "[1] - > [3] - > [5] - > [7] - > [9] - > "
     ]
    }
   ],
   "source": [
    "ls = SinglyLinkedList()\n",
    "ls.insert_at_end(1)\n",
    "ls.insert_at_end(3)\n",
    "ls.insert_at_end(5)\n",
    "ls.insert_at_end(7)\n",
    "ls.insert_at_end(9)\n",
    "ls.print_list()"
   ]
  },
  {
   "cell_type": "code",
   "execution_count": 12,
   "id": "c998b678",
   "metadata": {},
   "outputs": [
    {
     "name": "stdout",
     "output_type": "stream",
     "text": [
      "[1] - > [3] - > [7] - > [9] - > "
     ]
    }
   ],
   "source": [
    "ls.delete_by_value(5)\n",
    "ls.print_list()"
   ]
  },
  {
   "cell_type": "code",
   "execution_count": 13,
   "id": "e0b7c0d1",
   "metadata": {},
   "outputs": [
    {
     "name": "stdout",
     "output_type": "stream",
     "text": [
      "Value 6 not found\n",
      "[1] - > [3] - > [7] - > [9] - > "
     ]
    }
   ],
   "source": [
    "ls.delete_by_value(6)\n",
    "ls.print_list()"
   ]
  },
  {
   "cell_type": "markdown",
   "id": "025ab09d",
   "metadata": {},
   "source": [
    "### Q5. Reverse the Linked List: Write a function that reverses the entire list by changing the $\\mathbf{next}$ pointers, solving the problem in-place (without creating new nodes)."
   ]
  },
  {
   "cell_type": "code",
   "execution_count": 14,
   "id": "deab1956",
   "metadata": {},
   "outputs": [],
   "source": [
    "class SinglyLinkedList:\n",
    "    def __init__(self):\n",
    "        self.head = None\n",
    "    \n",
    "    def insert_at_end(self,data):\n",
    "        new_node = Node(data)\n",
    "        if self.head == None:\n",
    "            self.head = new_node\n",
    "            return\n",
    "        \n",
    "        last_node = self.head\n",
    "        while last_node.next:\n",
    "            last_node = last_node.next\n",
    "        last_node.next = new_node\n",
    "    \n",
    "    def print_list(self):\n",
    "        if self.head == None:\n",
    "            print(\"The linked list is empty!\")\n",
    "            return\n",
    "\n",
    "        last_node = self.head\n",
    "        while last_node:\n",
    "            print(f\"[{last_node.data}] - > \", end=\"\")\n",
    "            last_node = last_node.next\n",
    "        print()\n",
    "\n",
    "    def reverse(self):\n",
    "        prev = None\n",
    "        current = self.head\n",
    "        while current:\n",
    "            nxt = current.next\n",
    "            current.next = prev\n",
    "            prev = current\n",
    "            current = nxt\n",
    "        self.head = prev\n",
    "\n",
    "\n"
   ]
  },
  {
   "cell_type": "code",
   "execution_count": 15,
   "id": "e9bd89e0",
   "metadata": {},
   "outputs": [
    {
     "name": "stdout",
     "output_type": "stream",
     "text": [
      "Before reverse:\n",
      "[1] - > [3] - > [5] - > [7] - > \n",
      "After reverse:\n",
      "[7] - > [5] - > [3] - > [1] - > \n"
     ]
    }
   ],
   "source": [
    "ls = SinglyLinkedList()\n",
    "ls.insert_at_end(1)\n",
    "ls.insert_at_end(3)\n",
    "ls.insert_at_end(5)\n",
    "ls.insert_at_end(7)\n",
    "print(\"Before reverse:\")\n",
    "ls.print_list()\n",
    "ls.reverse()\n",
    "print(\"After reverse:\")\n",
    "ls.print_list()"
   ]
  },
  {
   "cell_type": "markdown",
   "id": "8f59b34e",
   "metadata": {},
   "source": [
    "### Q6. Middle Node (Fast/Slow Pointers): Write a function to find and return the middle node of the list in a single pass. (Hint: Use two pointers, one moving twice as fast as the other)."
   ]
  },
  {
   "cell_type": "code",
   "execution_count": 16,
   "id": "3c8ca8de",
   "metadata": {},
   "outputs": [],
   "source": [
    "class SinglyLinkedList:\n",
    "    def __init__(self):\n",
    "        self.head = None\n",
    "    \n",
    "    def insert_at_end(self, data):\n",
    "        \"\"\"Inserts a new node at the end of the list.\"\"\"\n",
    "        new_node = Node(data)\n",
    "        if self.head is None:\n",
    "            self.head = new_node\n",
    "            return\n",
    "        \n",
    "        last_node = self.head\n",
    "        while last_node.next:\n",
    "            last_node = last_node.next\n",
    "        last_node.next = new_node\n",
    "    \n",
    "    def print_list(self):\n",
    "        \"\"\"Prints the entire list.\"\"\"\n",
    "        if self.head is None:\n",
    "            print(\"The linked list is empty!\")\n",
    "            return\n",
    "\n",
    "        current_node = self.head\n",
    "        while current_node:\n",
    "            print(f\"[{current_node.data}] -> \", end=\"\")\n",
    "            current_node = current_node.next\n",
    "        print(\"None\") \n",
    "    \n",
    "    def find_middle_node(self):\n",
    "        if self.head is None:\n",
    "            return None\n",
    "        \n",
    "        slow = self.head\n",
    "        fast = self.head\n",
    "        \n",
    "        while fast is not None and fast.next is not None:\n",
    "            slow = slow.next\n",
    "            fast = fast.next.next\n",
    "            \n",
    "        return slow"
   ]
  },
  {
   "cell_type": "code",
   "execution_count": 17,
   "id": "072f1548",
   "metadata": {},
   "outputs": [
    {
     "name": "stdout",
     "output_type": "stream",
     "text": [
      "List (Even length):\n",
      "[10] -> [20] -> [30] -> [40] -> [50] -> [60] -> None\n",
      "Middle Node Data (Even): 40\n"
     ]
    }
   ],
   "source": [
    "my_list = SinglyLinkedList()\n",
    "items = [10, 20, 30, 40, 50,60]\n",
    "for item in items:\n",
    "    my_list.insert_at_end(item)\n",
    "\n",
    "print(\"List (Even length):\")\n",
    "my_list.print_list()\n",
    "\n",
    "middle_node_even = my_list.find_middle_node()\n",
    "print(f\"Middle Node Data (Even): {middle_node_even.data}\")"
   ]
  }
 ],
 "metadata": {
  "kernelspec": {
   "display_name": "base",
   "language": "python",
   "name": "python3"
  },
  "language_info": {
   "codemirror_mode": {
    "name": "ipython",
    "version": 3
   },
   "file_extension": ".py",
   "mimetype": "text/x-python",
   "name": "python",
   "nbconvert_exporter": "python",
   "pygments_lexer": "ipython3",
   "version": "3.12.7"
  }
 },
 "nbformat": 4,
 "nbformat_minor": 5
}
