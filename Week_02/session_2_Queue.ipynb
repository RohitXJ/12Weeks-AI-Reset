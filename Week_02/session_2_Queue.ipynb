{
 "cells": [
  {
   "cell_type": "markdown",
   "id": "f3056a11",
   "metadata": {},
   "source": [
    "# Queue"
   ]
  },
  {
   "cell_type": "markdown",
   "id": "bf509e16",
   "metadata": {},
   "source": [
    "### Q1. Basic deque Implementation: Implement a Queue class using Python's $\\mathbf{collections.deque}$. Implement $\\mathbf{enqueue()}$, $\\mathbf{dequeue()}$, and $\\mathbf{front()}$ (peek)."
   ]
  },
  {
   "cell_type": "code",
   "execution_count": 1,
   "id": "6eaf902e",
   "metadata": {},
   "outputs": [],
   "source": [
    "from collections import deque\n",
    "\n",
    "class Queue:\n",
    "    def __init__(self,len = 5):\n",
    "        self.queue = deque(maxlen=len)\n",
    "\n",
    "    def enqueue(self,item):\n",
    "        self.queue.append(item)\n",
    "\n",
    "    def dequeue(self):\n",
    "        return self.queue.popleft()\n",
    "    \n",
    "    def front(self):\n",
    "        return self.queue[0]"
   ]
  },
  {
   "cell_type": "code",
   "execution_count": 19,
   "id": "b382d4dc",
   "metadata": {},
   "outputs": [
    {
     "name": "stdout",
     "output_type": "stream",
     "text": [
      "Whole Queue  deque([10, 20, 40], maxlen=3)\n",
      "Dequeed  10\n",
      "Peek  40\n",
      "Whole Queue  deque([], maxlen=3)\n"
     ]
    }
   ],
   "source": [
    "qu = Queue(3)\n",
    "\n",
    "qu.enqueue(10)\n",
    "qu.enqueue(20)\n",
    "qu.enqueue(40)\n",
    "\n",
    "print(\"Whole Queue \",qu.queue)\n",
    "print(\"Dequeed \",qu.dequeue())\n",
    "qu.dequeue()\n",
    "print(\"Peek \",qu.front())\n",
    "qu.dequeue()\n",
    "print(\"Whole Queue \",qu.queue)"
   ]
  },
  {
   "cell_type": "markdown",
   "id": "001e92d3",
   "metadata": {},
   "source": [
    "### Q2. Error Handling: Modify $\\mathbf{dequeue()}$ to raise an appropriate exception (e.g., IndexError) if the queue is empty."
   ]
  },
  {
   "cell_type": "code",
   "execution_count": 6,
   "id": "a4dbbb09",
   "metadata": {},
   "outputs": [],
   "source": [
    "from collections import deque\n",
    "\n",
    "class Queue:\n",
    "    def __init__(self,len = 5):\n",
    "        self.queue = deque(maxlen=len)\n",
    "\n",
    "    def enqueue(self,item):\n",
    "        self.queue.append(item)\n",
    "\n",
    "    def dequeue(self):\n",
    "        try:\n",
    "            return self.queue.popleft()\n",
    "        except IndexError:\n",
    "            return \"The queue is Empty\"\n",
    "    \n",
    "    def front(self):\n",
    "        return self.queue[0]"
   ]
  },
  {
   "cell_type": "code",
   "execution_count": 7,
   "id": "24ca8dbb",
   "metadata": {},
   "outputs": [
    {
     "name": "stdout",
     "output_type": "stream",
     "text": [
      "10\n",
      "20\n",
      "The queue is Empty\n"
     ]
    }
   ],
   "source": [
    "qu = Queue(2)\n",
    "qu.enqueue(10)\n",
    "qu.enqueue(20)\n",
    "print(qu.dequeue())\n",
    "print(qu.dequeue())\n",
    "print(qu.dequeue())"
   ]
  },
  {
   "cell_type": "markdown",
   "id": "ec2ccda0",
   "metadata": {},
   "source": [
    "### Q3. Circular Queue (Fixed Size): Implement a Circular Queue with a fixed maximum size $K$. This requires handling the wraparound of indices in an array/list."
   ]
  },
  {
   "cell_type": "code",
   "execution_count": 53,
   "id": "743be0c9",
   "metadata": {},
   "outputs": [],
   "source": [
    "from collections import deque\n",
    "\n",
    "class CircularQueue:\n",
    "    def __init__(self, k):\n",
    "        self.queue = deque(maxlen=k)\n",
    "        self.max_size = k\n",
    "\n",
    "    def enqueue(self, item):\n",
    "        if len(self.queue) == self.max_size:\n",
    "            print(\"Queue is full. Cannot enqueue:\", item)\n",
    "        else:\n",
    "            self.queue.append(item)\n",
    "\n",
    "    def dequeue(self):\n",
    "        if not self.queue:\n",
    "            print(\"Queue is empty. Cannot dequeue.\")\n",
    "            return None\n",
    "        return self.queue.popleft()\n",
    "\n",
    "    def front(self):\n",
    "        if not self.queue:\n",
    "            print(\"Queue is empty. No front element.\")\n",
    "            return None\n",
    "        return self.queue[0]\n",
    "\n",
    "    def rear(self):\n",
    "        if not self.queue:\n",
    "            print(\"Queue is empty. No rear element.\")\n",
    "            return None\n",
    "        return self.queue[-1]\n",
    "\n",
    "    def is_empty(self):\n",
    "        return len(self.queue) == 0\n",
    "\n",
    "    def is_full(self):\n",
    "        return len(self.queue) == self.max_size\n",
    "\n",
    "    def __str__(self):\n",
    "        return f\"CircularQueue({list(self.queue)})\""
   ]
  },
  {
   "cell_type": "code",
   "execution_count": 54,
   "id": "4cfac43c",
   "metadata": {},
   "outputs": [
    {
     "name": "stdout",
     "output_type": "stream",
     "text": [
      "Enqueue 1, 2, 3\n",
      "CircularQueue([1, 2, 3])\n",
      "Try to enqueue 4 (should be full):\n",
      "Queue is full. Cannot enqueue: 4\n",
      "CircularQueue([1, 2, 3])\n",
      "Dequeue: 1\n",
      "CircularQueue([2, 3])\n",
      "Enqueue 4:\n",
      "CircularQueue([2, 3, 4])\n"
     ]
    }
   ],
   "source": [
    "cq = CircularQueue(3)\n",
    "print(\"Enqueue 1, 2, 3\")\n",
    "cq.enqueue(1)\n",
    "cq.enqueue(2)\n",
    "cq.enqueue(3)\n",
    "print(cq)\n",
    "\n",
    "print(\"Try to enqueue 4 (should be full):\")\n",
    "cq.enqueue(4)\n",
    "print(cq)\n",
    "\n",
    "print(\"Dequeue:\", cq.dequeue())\n",
    "print(cq)\n",
    "\n",
    "print(\"Enqueue 4:\")\n",
    "cq.enqueue(4)\n",
    "print(cq)"
   ]
  },
  {
   "cell_type": "code",
   "execution_count": 55,
   "id": "7ad56107",
   "metadata": {},
   "outputs": [
    {
     "name": "stdout",
     "output_type": "stream",
     "text": [
      "Front: 2\n",
      "Rear: 4\n",
      "Dequeue all:\n",
      "2\n",
      "3\n",
      "4\n",
      "Is empty? True\n",
      "Try to dequeue from empty queue:\n",
      "Queue is empty. Cannot dequeue.\n"
     ]
    }
   ],
   "source": [
    "print(\"Front:\", cq.front())\n",
    "print(\"Rear:\", cq.rear())\n",
    "\n",
    "print(\"Dequeue all:\")\n",
    "print(cq.dequeue())\n",
    "print(cq.dequeue())\n",
    "print(cq.dequeue())\n",
    "print(\"Is empty?\", cq.is_empty())\n",
    "print(\"Try to dequeue from empty queue:\")\n",
    "cq.dequeue()"
   ]
  },
  {
   "cell_type": "markdown",
   "id": "68bbc014",
   "metadata": {},
   "source": [
    "### Q4. Priority Queue Concept: Describe how a Priority Queue differs from a standard Queue, and list one real-world use case (e.g., task scheduling based on priority). Focus on concept mainly"
   ]
  },
  {
   "cell_type": "markdown",
   "id": "3e796080",
   "metadata": {},
   "source": [
    "A Priority Queue is a special type of queue in which each element is associated with a priority.\n",
    "Elements are served based on their priority, not just their order of arrival.\n",
    "- In a standard Queue, elements are processed in FIFO (First-In-First-Out) order.\n",
    "- In a Priority Queue, the element with the highest priority is processed first.\n",
    "\n",
    "Real-world use case:\n",
    "- Task Scheduling: Operating systems use priority queues to schedule tasks, giving preference to higher-priority tasks.\n",
    "\n",
    "Below is a simple implementation using Python's heapq module."
   ]
  },
  {
   "cell_type": "code",
   "execution_count": 67,
   "id": "10774cfe",
   "metadata": {},
   "outputs": [],
   "source": [
    "import heapq\n",
    "\n",
    "# Priority Queue Concept Documentation \n",
    "# This code is prior to the current level of progress and is just for explanation of the concept, will we covered later on.\n",
    "class PriorityQueue:\n",
    "    def __init__(self):\n",
    "        self.heap = []\n",
    "\n",
    "    def enqueue(self, item, priority):\n",
    "        # heapq is a min-heap, so lower priority value means higher priority\n",
    "        heapq.heappush(self.heap, (priority, item))\n",
    "\n",
    "    def dequeue(self):\n",
    "        try:\n",
    "            return heapq.heappop(self.heap)[1]\n",
    "        except IndexError:\n",
    "            return \"Priority Queue is empty, Cannot Dequeue\"\n",
    "\n",
    "    def is_empty(self):\n",
    "        return len(self.heap) == 0"
   ]
  },
  {
   "cell_type": "code",
   "execution_count": 68,
   "id": "0db70948",
   "metadata": {},
   "outputs": [
    {
     "name": "stdout",
     "output_type": "stream",
     "text": [
      "Dequeued: High priority task\n",
      "Dequeued: Medium priority task\n",
      "Dequeued: Low priority task\n",
      "Dequeued: Priority Queue is empty, Cannot Dequeue\n"
     ]
    }
   ],
   "source": [
    "pq = PriorityQueue()\n",
    "pq.enqueue(\"Low priority task\", 5)\n",
    "pq.enqueue(\"High priority task\", 1)\n",
    "pq.enqueue(\"Medium priority task\", 3)\n",
    "\n",
    "print(\"Dequeued:\", pq.dequeue())\n",
    "print(\"Dequeued:\", pq.dequeue())\n",
    "print(\"Dequeued:\", pq.dequeue())\n",
    "print(\"Dequeued:\", pq.dequeue())"
   ]
  },
  {
   "cell_type": "markdown",
   "id": "b98dd49a",
   "metadata": {},
   "source": [
    "### Q5. Implement Queue using Two Stacks: Implement the Queue operations ($\\mathbf{enqueue()}$ and $\\mathbf{dequeue()}$) using two Stack instances."
   ]
  },
  {
   "cell_type": "code",
   "execution_count": 64,
   "id": "b877fb09",
   "metadata": {},
   "outputs": [],
   "source": [
    "class Queue_2Stack:\n",
    "    def __init__(self,size):\n",
    "        self.queue_size = size\n",
    "        self.in_stack = []\n",
    "        self.out_stack = []\n",
    "\n",
    "    def enqueue(self,item):\n",
    "        try:\n",
    "            if len(self.in_stack) + len(self.out_stack) >= self.queue_size:\n",
    "                raise IndexError\n",
    "            else:\n",
    "                self.in_stack.append(item)\n",
    "        except IndexError:\n",
    "            print(f\"Queue is Full, Cannot enqueue {item}\")\n",
    "\n",
    "    def dequeue(self):\n",
    "        if len(self.out_stack) == 0:\n",
    "            self.transfer()\n",
    "        try:\n",
    "            if len(self.in_stack) + len(self.out_stack) == 0:\n",
    "                raise IndexError\n",
    "            else:\n",
    "                return self.out_stack.pop()\n",
    "        except IndexError:\n",
    "            print(\"Queue is Empty\")\n",
    "\n",
    "    def transfer(self):\n",
    "        for _ in range(len(self.in_stack)):\n",
    "            self.out_stack.append(self.in_stack.pop())\n",
    "\n",
    "    def display(self):\n",
    "        print(f\"In_Stack : {self.in_stack}\")\n",
    "        print(f\"Out_Stack : {self.out_stack}\")"
   ]
  },
  {
   "cell_type": "code",
   "execution_count": 87,
   "id": "daa2951b",
   "metadata": {},
   "outputs": [
    {
     "name": "stdout",
     "output_type": "stream",
     "text": [
      "Queue is Full, Cannot enqueue 40\n"
     ]
    }
   ],
   "source": [
    "qu = Queue_2Stack(3)\n",
    "qu.enqueue(10)\n",
    "qu.enqueue(20)\n",
    "qu.enqueue(30)\n",
    "qu.enqueue(40)"
   ]
  },
  {
   "cell_type": "code",
   "execution_count": 88,
   "id": "4c894a75",
   "metadata": {},
   "outputs": [
    {
     "name": "stdout",
     "output_type": "stream",
     "text": [
      "In_Stack : [10, 20, 30]\n",
      "Out_Stack : []\n"
     ]
    }
   ],
   "source": [
    "qu.display()"
   ]
  },
  {
   "cell_type": "code",
   "execution_count": 90,
   "id": "29429e63",
   "metadata": {},
   "outputs": [
    {
     "data": {
      "text/plain": [
       "10"
      ]
     },
     "execution_count": 90,
     "metadata": {},
     "output_type": "execute_result"
    }
   ],
   "source": [
    "qu.dequeue()"
   ]
  },
  {
   "cell_type": "code",
   "execution_count": 91,
   "id": "ca9ba95d",
   "metadata": {},
   "outputs": [
    {
     "name": "stdout",
     "output_type": "stream",
     "text": [
      "In_Stack : []\n",
      "Out_Stack : [30, 20]\n"
     ]
    }
   ],
   "source": [
    "qu.display()"
   ]
  },
  {
   "cell_type": "code",
   "execution_count": 92,
   "id": "cb5b1b4a",
   "metadata": {},
   "outputs": [
    {
     "name": "stdout",
     "output_type": "stream",
     "text": [
      "Queue is Empty\n"
     ]
    }
   ],
   "source": [
    "qu.dequeue()\n",
    "qu.dequeue()\n",
    "qu.dequeue()"
   ]
  },
  {
   "cell_type": "markdown",
   "id": "43b0f0e9",
   "metadata": {},
   "source": [
    "### Q6. Level Order Traversal Concept: Explain how a Queue is fundamentally used to perform Level Order Traversal (Breadth-First Search or BFS) on a Tree or Graph. No code needed, focus on the algorithm."
   ]
  },
  {
   "cell_type": "markdown",
   "id": "0e6a5e15",
   "metadata": {},
   "source": [
    "### Level Order Traversal (BFS) — How a Queue is Used\n",
    "\n",
    "Level Order Traversal (BFS) visits nodes layer by layer (by distance from the root/start). A FIFO queue enforces this order: nodes discovered earlier (closer to the root) are processed before nodes discovered later (deeper levels).\n",
    "\n",
    "Algorithm (tree):\n",
    "1. Initialize an empty queue and enqueue the root node.\n",
    "2. While the queue is not empty:\n",
    "    * Dequeue the front node and process it (e.g., record its value).\n",
    "    * Enqueue the node's children (left then right for binary trees).\n",
    "3. Continue until the queue is empty. Nodes are processed in level order.\n",
    "\n",
    "Algorithm (graph — avoids revisiting):\n",
    "1. Initialize an empty queue and a visited set. Enqueue the start node and mark it visited.\n",
    "2. While the queue is not empty:\n",
    "    - Dequeue the front node and process it.\n",
    "    - For each neighbor of that node:\n",
    "      - If the neighbor is not visited, mark it visited and enqueue it.\n",
    "3. Continue until the queue is empty.\n",
    "\n",
    "Why a queue:\n",
    "- FIFO ensures all nodes at current depth are processed before nodes at next depth.\n",
    "- Enqueuing neighbors as you process a node schedules them for later processing in the correct order.\n",
    "\n",
    "Complexity:\n",
    "- Time: O(V + E) for graphs (each vertex and edge processed once).\n",
    "- Space: O(V) for the queue and visited tracking.\n",
    "\n",
    "Use cases:\n",
    "- Shortest path in unweighted graphs, level-by-level processing of trees, peer-to-peer network discovery, and many scheduling/breadth-first analyses."
   ]
  }
 ],
 "metadata": {
  "kernelspec": {
   "display_name": "base",
   "language": "python",
   "name": "python3"
  },
  "language_info": {
   "codemirror_mode": {
    "name": "ipython",
    "version": 3
   },
   "file_extension": ".py",
   "mimetype": "text/x-python",
   "name": "python",
   "nbconvert_exporter": "python",
   "pygments_lexer": "ipython3",
   "version": "3.12.7"
  }
 },
 "nbformat": 4,
 "nbformat_minor": 5
}
