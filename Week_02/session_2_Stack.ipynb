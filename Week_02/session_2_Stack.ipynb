{
 "cells": [
  {
   "cell_type": "markdown",
   "id": "c95d5b10",
   "metadata": {},
   "source": [
    "# Stack"
   ]
  },
  {
   "cell_type": "markdown",
   "id": "d94106d5",
   "metadata": {},
   "source": [
    "### Implement a stack using a Python list manually."
   ]
  },
  {
   "cell_type": "code",
   "execution_count": 13,
   "id": "5d893a99",
   "metadata": {},
   "outputs": [],
   "source": [
    "class Stack:\n",
    "    stack = []\n",
    "    size = 5\n",
    "\n",
    "    def __init__(self,size):\n",
    "        self.size = size\n",
    "\n",
    "    def _is_empty(self):\n",
    "        return self.stack == []\n",
    "    \n",
    "    def _is_full(self):\n",
    "        return len(self.stack) == self.size\n",
    "\n",
    "    def push(self,item):\n",
    "        if not self._is_full():\n",
    "            self.stack.append(item)\n",
    "        else:\n",
    "            print(f\"Stack Overflow, Cannot Push {item}\")\n",
    "            return None\n",
    "\n",
    "    def pop(self,get = False):\n",
    "        if not self._is_empty():\n",
    "            elm = self.stack[-1]\n",
    "            self.stack.pop()\n",
    "            if get:\n",
    "                return elm\n",
    "        else:\n",
    "            print(\"Stack Underflow, Cannot Pop\")\n",
    "            return \"Nothing\"\n",
    "        \n",
    "    def peek(self):\n",
    "        if self._is_empty():\n",
    "            return \"Nothing to show\"\n",
    "        else:\n",
    "            return f\"{self.stack[-1]}\"\n",
    "    \n",
    "    def display(self):\n",
    "        return self.stack[::-1]"
   ]
  },
  {
   "cell_type": "code",
   "execution_count": 2,
   "id": "b2f56833",
   "metadata": {},
   "outputs": [
    {
     "name": "stdout",
     "output_type": "stream",
     "text": [
      "Stack Overflow, Cannot Push 40\n",
      "[30, 20, 10]\n",
      "Popped :  30\n",
      "[20, 10]\n",
      "Element at top : 20\n",
      "Popped :  10\n",
      "Stack Underflow, Cannot Pop\n",
      "Popped :  Nothing\n"
     ]
    }
   ],
   "source": [
    "stk = Stack(3)\n",
    "stk.push(10)\n",
    "stk.push(20)\n",
    "stk.push(30)\n",
    "stk.push(40)\n",
    "print(stk.display())\n",
    "print(\"Popped : \",stk.pop(get=True))\n",
    "print(stk.display())\n",
    "print(\"Element at top :\",stk.peek())\n",
    "stk.pop()\n",
    "print(\"Popped : \",stk.pop(get=True))\n",
    "print(\"Popped : \",stk.pop(get=True))\n",
    "del stk"
   ]
  },
  {
   "cell_type": "markdown",
   "id": "3481b95c",
   "metadata": {},
   "source": [
    "### Reverse a string using a stack."
   ]
  },
  {
   "cell_type": "code",
   "execution_count": 3,
   "id": "149356c3",
   "metadata": {},
   "outputs": [
    {
     "data": {
      "text/plain": [
       "'olleH'"
      ]
     },
     "execution_count": 3,
     "metadata": {},
     "output_type": "execute_result"
    }
   ],
   "source": [
    "in_str = \"Hello\"\n",
    "\n",
    "str_stk = Stack(len(in_str))\n",
    "\n",
    "for char in in_str:\n",
    "    str_stk.push(char)\n",
    "\n",
    "rev_str = \"\"\n",
    "for i in range(len(in_str)):\n",
    "    rev_str+=str_stk.pop(get=True)\n",
    "\n",
    "rev_str"
   ]
  },
  {
   "cell_type": "markdown",
   "id": "11f61b17",
   "metadata": {},
   "source": [
    "### Check if parentheses in a string are balanced using a stack."
   ]
  },
  {
   "cell_type": "code",
   "execution_count": 4,
   "id": "0b21104e",
   "metadata": {},
   "outputs": [],
   "source": [
    "class ParenthesesChecker:\n",
    "    def __init__(self, expr):\n",
    "        self.expr = expr\n",
    "        self.stack = Stack(len(expr))\n",
    "\n",
    "    def is_balanced(self):\n",
    "        for ch in self.expr:\n",
    "            if ch == '(':\n",
    "                self.stack.push(ch)\n",
    "            elif ch == ')':\n",
    "                if self.stack.peek() == \"Nothing to show\":\n",
    "                    return False\n",
    "                self.stack.pop()\n",
    "        return self.stack.display() == []\n"
   ]
  },
  {
   "cell_type": "code",
   "execution_count": 5,
   "id": "ebf12327",
   "metadata": {},
   "outputs": [
    {
     "name": "stdout",
     "output_type": "stream",
     "text": [
      "Parentheses are not balanced.\n"
     ]
    }
   ],
   "source": [
    "test_str = \"(())())\"\n",
    "checker = ParenthesesChecker(test_str)\n",
    "if checker.is_balanced():\n",
    "    print(\"Parentheses are balanced.\")\n",
    "else:\n",
    "    print(\"Parentheses are not balanced.\")"
   ]
  },
  {
   "cell_type": "markdown",
   "id": "2ae52b28",
   "metadata": {},
   "source": [
    "### Implement min() in stack that returns the minimum element in O(1) time."
   ]
  },
  {
   "cell_type": "code",
   "execution_count": 6,
   "id": "420241bb",
   "metadata": {},
   "outputs": [],
   "source": [
    "class Min_Stack(Stack):\n",
    "    MIN = float(\"inf\")\n",
    "    min_stack = []\n",
    "\n",
    "    def __init__(self, size):\n",
    "        super().__init__(size)\n",
    "\n",
    "    def push(self,item):\n",
    "        if not self._is_full():\n",
    "            self.stack.append(item)\n",
    "            if item < self.MIN:\n",
    "                self.min_stack.append(item)\n",
    "                self.MIN = item\n",
    "        else:\n",
    "            print(f\"Stack Overflow, Cannot Push {item}\")\n",
    "            return None\n",
    "        \n",
    "    def min(self):\n",
    "        return self.min_stack[-1]"
   ]
  },
  {
   "cell_type": "code",
   "execution_count": 7,
   "id": "b81ff60b",
   "metadata": {},
   "outputs": [
    {
     "name": "stdout",
     "output_type": "stream",
     "text": [
      "Minimum element = 5\n",
      "[10, 5]\n"
     ]
    }
   ],
   "source": [
    "stk = Min_Stack(4)\n",
    "stk.push(10)\n",
    "stk.push(40)\n",
    "stk.push(5)\n",
    "stk.push(90)\n",
    "\n",
    "print(f\"Minimum element = {stk.min()}\")\n",
    "print(stk.min_stack)\n",
    "del stk"
   ]
  },
  {
   "cell_type": "markdown",
   "id": "a16037be",
   "metadata": {},
   "source": [
    "### Convert infix expression to postfix using a stack."
   ]
  },
  {
   "cell_type": "code",
   "execution_count": 8,
   "id": "fa2eabb1",
   "metadata": {},
   "outputs": [
    {
     "name": "stdout",
     "output_type": "stream",
     "text": [
      "Infix: a+b*(c^d-e)^(f+g*h)-i\n",
      "Postfix: abcd^e-fgh*+^*+i-9054010\n"
     ]
    }
   ],
   "source": [
    "class InfixToPostfix(Stack):\n",
    "    precedence = {'+':1, '-':1, '*':2, '/':2, '^':3}\n",
    "\n",
    "    def __init__(self, size):\n",
    "        super().__init__(size)\n",
    "\n",
    "    def convert(self, expr):\n",
    "        output = []\n",
    "        for ch in expr:\n",
    "            if ch.isalnum():\n",
    "                output.append(ch)\n",
    "            elif ch == '(':\n",
    "                self.push(ch)\n",
    "            elif ch == ')':\n",
    "                while not self._is_empty() and self.peek() != '(':\n",
    "                    output.append(self.pop(get=True))\n",
    "                self.pop()  # remove '('\n",
    "            else:\n",
    "                while (not self._is_empty() and self.peek() != '(' and\n",
    "                       self.precedence.get(ch, 0) <= self.precedence.get(self.peek(), 0)):\n",
    "                    output.append(self.pop(get=True))\n",
    "                self.push(ch)\n",
    "        while not self._is_empty():\n",
    "            output.append(str(self.pop(get=True)))\n",
    "        return ''.join(output)\n",
    "\n",
    "expr = \"a+b*(c^d-e)^(f+g*h)-i\"\n",
    "converter = InfixToPostfix(len(expr))\n",
    "postfix = converter.convert(expr)\n",
    "print(\"Infix:\", expr)\n",
    "print(\"Postfix:\", postfix)\n"
   ]
  },
  {
   "cell_type": "markdown",
   "id": "53f0f540",
   "metadata": {},
   "source": [
    "### Decimal to Binary: Write a function that takes a decimal number and uses the Stack to output its binary representation."
   ]
  },
  {
   "cell_type": "code",
   "execution_count": 18,
   "id": "0e178cfa",
   "metadata": {},
   "outputs": [
    {
     "name": "stdout",
     "output_type": "stream",
     "text": [
      "Binary value of 10 = 1010\n"
     ]
    }
   ],
   "source": [
    "def dec_to_bin(num):\n",
    "    if num == 0:\n",
    "        return \"0\"\n",
    "    stk = Stack(32)  # 32 bits is enough for most integers\n",
    "    while num > 0:\n",
    "        stk.push(num % 2)\n",
    "        num //= 2\n",
    "    bin_str = \"\"\n",
    "    while not stk._is_empty():\n",
    "        bin_str += str(stk.pop(get=True))\n",
    "    return bin_str\n",
    "val = int(input(\"Enter decial Value : \"))\n",
    "print(f\"Binary value of {val} = {dec_to_bin(val)}\")\n"
   ]
  }
 ],
 "metadata": {
  "kernelspec": {
   "display_name": "base",
   "language": "python",
   "name": "python3"
  },
  "language_info": {
   "codemirror_mode": {
    "name": "ipython",
    "version": 3
   },
   "file_extension": ".py",
   "mimetype": "text/x-python",
   "name": "python",
   "nbconvert_exporter": "python",
   "pygments_lexer": "ipython3",
   "version": "3.12.7"
  }
 },
 "nbformat": 4,
 "nbformat_minor": 5
}
