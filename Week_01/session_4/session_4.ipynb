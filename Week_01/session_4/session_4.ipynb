{
 "cells": [
  {
   "cell_type": "markdown",
   "id": "9b1754b9",
   "metadata": {},
   "source": [
    "# OOP"
   ]
  },
  {
   "cell_type": "markdown",
   "id": "54390a89",
   "metadata": {},
   "source": [
    "### Create a Book class with attributes and a method to display details."
   ]
  },
  {
   "cell_type": "code",
   "execution_count": 1,
   "id": "40edee74",
   "metadata": {},
   "outputs": [
    {
     "name": "stdout",
     "output_type": "stream",
     "text": [
      "Book Name : ABCD\n",
      "Author Name : XYZ\n",
      "Release Year : 2021\n"
     ]
    }
   ],
   "source": [
    "class Book:\n",
    "    book_name = \"ABCD\"\n",
    "    book_author = \"XYZ\"\n",
    "    published_year = 2021\n",
    "\n",
    "    def display_details(self):\n",
    "        print(f\"Book Name : {self.book_name}\")\n",
    "        print(f\"Author Name : {self.book_author}\")\n",
    "        print(f\"Release Year : {self.published_year}\")\n",
    "\n",
    "book = Book()\n",
    "book.display_details()\n"
   ]
  },
  {
   "cell_type": "markdown",
   "id": "f2aa1a85",
   "metadata": {},
   "source": [
    "### Add a counter to count how many objects of Book are created."
   ]
  },
  {
   "cell_type": "code",
   "execution_count": 2,
   "id": "57d9c6ee",
   "metadata": {},
   "outputs": [],
   "source": [
    "class Book:\n",
    "    book_name = \"ABCD\"\n",
    "    book_author = \"XYZ\"\n",
    "    published_year = 2021\n",
    "    obj_count = 0\n",
    "\n",
    "    def __init__(self):\n",
    "        Book.obj_count += 1\n",
    "\n",
    "    def display_details(self):\n",
    "        \n",
    "        print(f\"Book Name : {self.book_name}\")\n",
    "        print(f\"Author Name : {self.book_author}\")\n",
    "        print(f\"Release Year : {self.published_year}\")"
   ]
  },
  {
   "cell_type": "code",
   "execution_count": 3,
   "id": "2a774f26",
   "metadata": {},
   "outputs": [
    {
     "name": "stdout",
     "output_type": "stream",
     "text": [
      "Book Name : ABCD\n",
      "Author Name : XYZ\n",
      "Release Year : 2021\n",
      "Book Name : ABCD\n",
      "Author Name : XYZ\n",
      "Release Year : 2021\n",
      "Number of objects created :  3\n"
     ]
    }
   ],
   "source": [
    "book = Book()\n",
    "book.display_details()\n",
    "\n",
    "book = Book()\n",
    "book.display_details()\n",
    "\n",
    "book = Book()\n",
    "print(\"Number of objects created : \",book.obj_count)"
   ]
  },
  {
   "cell_type": "markdown",
   "id": "50d6f1ac",
   "metadata": {},
   "source": [
    "\n",
    "### Create a Rectangle class with an area() and perimeter() method."
   ]
  },
  {
   "cell_type": "code",
   "execution_count": 4,
   "id": "7cc5ab75",
   "metadata": {},
   "outputs": [],
   "source": [
    "class Rectangle:\n",
    "    def __init__(self,length, width):\n",
    "        self.length = length\n",
    "        self.width = width\n",
    "\n",
    "    def details(self):\n",
    "        return f\"Length = {self.length} | Width = {self.width}\"\n",
    "\n",
    "    def area(self):\n",
    "        return self.length * self.width\n",
    "    \n",
    "    def perimeter(self):\n",
    "        return 2 * (self.length + self.width)"
   ]
  },
  {
   "cell_type": "code",
   "execution_count": 5,
   "id": "672cabd4",
   "metadata": {},
   "outputs": [
    {
     "name": "stdout",
     "output_type": "stream",
     "text": [
      "Details: \n",
      "Length = 15 | Width = 6\n",
      "The Area = 90\n",
      "The Perimeter = 42\n"
     ]
    }
   ],
   "source": [
    "obj1 = Rectangle(15,6)\n",
    "\n",
    "print(f\"Details: \\n{obj1.details()}\")\n",
    "\n",
    "print(f\"The Area = {obj1.area()}\")\n",
    "\n",
    "print(f\"The Perimeter = {obj1.perimeter()}\")"
   ]
  },
  {
   "cell_type": "markdown",
   "id": "841aff00",
   "metadata": {},
   "source": [
    "### Create a BankAccount class – deposit, withdraw, check balance."
   ]
  },
  {
   "cell_type": "code",
   "execution_count": 6,
   "id": "77b1fb66",
   "metadata": {},
   "outputs": [],
   "source": [
    "class BankAccount:\n",
    "    def __init__(self,total_amt):\n",
    "        self.total_amt = total_amt\n",
    "\n",
    "    def deposit(self, depo_amt):\n",
    "        self.total_amt += depo_amt\n",
    "        print(f\"{depo_amt}$ Deposited Successfully\\nCurrent Balance : {self.total_amt}\")\n",
    "\n",
    "    def withdraw(self, withd_amt):\n",
    "        if withd_amt < self.total_amt:\n",
    "            self.total_amt -= withd_amt\n",
    "            print(f\"{withd_amt}$ Withdrawl Successfully\\nCurrent Balance : {self.total_amt}\")\n",
    "        else:\n",
    "            print(\"Insufficient Balance\")\n",
    "\n",
    "    def check_calance(self):\n",
    "        print(f\"Current Balance : {self.total_amt}\")"
   ]
  },
  {
   "cell_type": "code",
   "execution_count": 7,
   "id": "4471643a",
   "metadata": {},
   "outputs": [
    {
     "name": "stdout",
     "output_type": "stream",
     "text": [
      "Current Balance : 100\n",
      "50$ Deposited Successfully\n",
      "Current Balance : 150\n",
      "70$ Withdrawl Successfully\n",
      "Current Balance : 80\n",
      "Insufficient Balance\n",
      "Current Balance : 80\n"
     ]
    }
   ],
   "source": [
    "# Test cases for BankAccount class\n",
    "\n",
    "# Test 1: Create account and check initial balance\n",
    "account = BankAccount(100)\n",
    "account.check_calance()  # Expected: Current Balance : 100\n",
    "\n",
    "# Test 2: Deposit money\n",
    "account.deposit(50)      # Expected: 50$ Deposited Successfully, Current Balance : 150\n",
    "\n",
    "# Test 3: Withdraw money within balance\n",
    "account.withdraw(70)     # Expected: 70$ Withdrawl Successfully, Current Balance : 80\n",
    "\n",
    "# Test 4: Withdraw money exceeding balance\n",
    "account.withdraw(200)    # Expected: Insufficient Balance\n",
    "\n",
    "# Test 5: Check balance after transactions\n",
    "account.check_calance()  # Expected: Current Balance : 80"
   ]
  },
  {
   "cell_type": "markdown",
   "id": "9a3fdfd7",
   "metadata": {},
   "source": [
    "### Make a Student class with both instance and class variables."
   ]
  },
  {
   "cell_type": "code",
   "execution_count": 8,
   "id": "cbe9a76c",
   "metadata": {},
   "outputs": [],
   "source": [
    "class Student:\n",
    "\n",
    "    school_name = \"XYZ School\"  #Class Variable\n",
    "\n",
    "    def __init__(self,name):\n",
    "        self.name = name        #Instance Variable"
   ]
  },
  {
   "cell_type": "code",
   "execution_count": 9,
   "id": "74880947",
   "metadata": {},
   "outputs": [
    {
     "name": "stdout",
     "output_type": "stream",
     "text": [
      "ABC\n",
      "XYZ School\n"
     ]
    }
   ],
   "source": [
    "stud1 = Student(\"ABC\")\n",
    "\n",
    "print(stud1.name)\n",
    "\n",
    "print(stud1.school_name)"
   ]
  },
  {
   "cell_type": "markdown",
   "id": "7315d81a",
   "metadata": {},
   "source": [
    "### Add @classmethod to change class variable for all instances."
   ]
  },
  {
   "cell_type": "code",
   "execution_count": 10,
   "id": "25089b95",
   "metadata": {
    "vscode": {
     "languageId": "ruby"
    }
   },
   "outputs": [],
   "source": [
    "class Student:\n",
    "\n",
    "    school_name = \"XYZ School\"  # Class Variable\n",
    "\n",
    "    def __init__(self, name):\n",
    "        self.name = name        # Instance Variable\n",
    "\n",
    "    @classmethod\n",
    "    def change_school_name(cls, new_name):\n",
    "        cls.school_name = new_name\n",
    "\n",
    "Student.change_school_name(\"ABC School\")"
   ]
  },
  {
   "cell_type": "code",
   "execution_count": 11,
   "id": "15755f21",
   "metadata": {
    "vscode": {
     "languageId": "ruby"
    }
   },
   "outputs": [
    {
     "data": {
      "text/plain": [
       "'ABC School'"
      ]
     },
     "execution_count": 11,
     "metadata": {},
     "output_type": "execute_result"
    }
   ],
   "source": [
    "Student.school_name"
   ]
  },
  {
   "cell_type": "markdown",
   "id": "41ae049d",
   "metadata": {},
   "source": [
    "### Use @staticmethod for a helper that validates marks range (0–100)."
   ]
  },
  {
   "cell_type": "code",
   "execution_count": 12,
   "id": "b689cd4b",
   "metadata": {},
   "outputs": [],
   "source": [
    "class Student:\n",
    "\n",
    "    school_name = \"XYZ School\"  # Class Variable\n",
    "\n",
    "    def __init__(self, name):\n",
    "        self.name = name        # Instance Variable\n",
    "\n",
    "    @staticmethod\n",
    "    def validate_marks(marks):\n",
    "        return 0 <= marks <= 100"
   ]
  },
  {
   "cell_type": "code",
   "execution_count": 13,
   "id": "de6c79c8",
   "metadata": {},
   "outputs": [
    {
     "name": "stdout",
     "output_type": "stream",
     "text": [
      "Are the marks of the student ABC in valid range ? True\n"
     ]
    }
   ],
   "source": [
    "obj1 = Student(\"ABC\")\n",
    "\n",
    "print(f\"Are the marks of the student {obj1.name} in valid range ? {Student.validate_marks(92)}\")"
   ]
  },
  {
   "cell_type": "markdown",
   "id": "37346a8b",
   "metadata": {},
   "source": [
    "### Implement encapsulation: protect balance attribute, use getters/setters."
   ]
  },
  {
   "cell_type": "code",
   "execution_count": 14,
   "id": "4ef3dcc3",
   "metadata": {},
   "outputs": [
    {
     "name": "stdout",
     "output_type": "stream",
     "text": [
      "Initial Balance: 200\n",
      "100$ Deposited Successfully\n",
      "Current Balance : 300\n",
      "50$ Withdrawl Successfully\n",
      "Current Balance : 250\n",
      "Balance after transactions: 250\n",
      "Balance after setter: 500\n",
      "Balance cannot be negative.\n"
     ]
    }
   ],
   "source": [
    "class BankAccount:\n",
    "    def __init__(self, total_amt):\n",
    "        self.__balance = total_amt  # Protected attribute\n",
    "\n",
    "    def deposit(self, depo_amt):\n",
    "        self.__balance += depo_amt\n",
    "        print(f\"{depo_amt}$ Deposited Successfully\\nCurrent Balance : {self.__balance}\")\n",
    "\n",
    "    def withdraw(self, withd_amt):\n",
    "        if withd_amt <= self.__balance:\n",
    "            self.__balance -= withd_amt\n",
    "            print(f\"{withd_amt}$ Withdrawl Successfully\\nCurrent Balance : {self.__balance}\")\n",
    "        else:\n",
    "            print(\"Insufficient Balance\")\n",
    "\n",
    "    def get_balance(self):\n",
    "        return self.__balance\n",
    "\n",
    "    def set_balance(self, new_balance):\n",
    "        if new_balance >= 0:\n",
    "            self.__balance = new_balance\n",
    "        else:\n",
    "            print(\"Balance cannot be negative.\")\n",
    "\n",
    "# Test cases\n",
    "account2 = BankAccount(200)\n",
    "print(\"Initial Balance:\", account2.get_balance())  # Expected: 200\n",
    "\n",
    "account2.deposit(100)  # Expected: 100$ Deposited Successfully, Current Balance : 300\n",
    "account2.withdraw(50)  # Expected: 50$ Withdrawl Successfully, Current Balance : 250\n",
    "\n",
    "print(\"Balance after transactions:\", account2.get_balance())  # Expected: 250\n",
    "\n",
    "account2.set_balance(500)\n",
    "print(\"Balance after setter:\", account2.get_balance())  # Expected: 500\n",
    "\n",
    "account2.set_balance(-100)  # Expected: Balance cannot be negative."
   ]
  },
  {
   "cell_type": "markdown",
   "id": "11a20cf5",
   "metadata": {},
   "source": [
    "### Create parent Person and child Employee with extra attributes."
   ]
  },
  {
   "cell_type": "code",
   "execution_count": 15,
   "id": "55a408c6",
   "metadata": {},
   "outputs": [
    {
     "name": "stdout",
     "output_type": "stream",
     "text": [
      "Person: Alice, Age: 30\n",
      "Employee: Bob, Age: 35, ID: E123, Dept: HR\n"
     ]
    }
   ],
   "source": [
    "class Person:\n",
    "    def __init__(self, name, age):\n",
    "        self.name = name\n",
    "        self.age = age\n",
    "\n",
    "class Employee(Person):\n",
    "    def __init__(self, name, age, employee_id, department):\n",
    "        super().__init__(name, age)\n",
    "        self.employee_id = employee_id\n",
    "        self.department = department\n",
    "\n",
    "\n",
    "person1 = Person(\"Alice\", 30)\n",
    "employee1 = Employee(\"Bob\", 35, \"E123\", \"HR\")\n",
    "\n",
    "print(f\"Person: {person1.name}, Age: {person1.age}\")\n",
    "print(f\"Employee: {employee1.name}, Age: {employee1.age}, ID: {employee1.employee_id}, Dept: {employee1.department}\")"
   ]
  },
  {
   "cell_type": "markdown",
   "id": "7e845b89",
   "metadata": {},
   "source": [
    "### Demonstrate polymorphism with Cat and Dog classes (same method name)."
   ]
  },
  {
   "cell_type": "code",
   "execution_count": 16,
   "id": "96beccf9",
   "metadata": {},
   "outputs": [
    {
     "name": "stdout",
     "output_type": "stream",
     "text": [
      "Meow Meow!\n",
      "Woof Woof!\n",
      "Makes some sound!\n"
     ]
    }
   ],
   "source": [
    "class Animal:\n",
    "    def make_sound(self):\n",
    "        print(\"Makes some sound!\")\n",
    "\n",
    "class Dog(Animal):\n",
    "    def make_sound(self):\n",
    "        print(\"Woof Woof!\")\n",
    "\n",
    "class Cat(Animal):\n",
    "    def make_sound(self):\n",
    "        print(\"Meow Meow!\")\n",
    "\n",
    "cat = Cat()\n",
    "dog = Dog()\n",
    "animal = Animal()\n",
    "\n",
    "cat.make_sound()\n",
    "dog.make_sound()\n",
    "animal.make_sound()"
   ]
  },
  {
   "cell_type": "markdown",
   "id": "7de9681e",
   "metadata": {},
   "source": [
    "### Build an abstract Shape class; implement Circle and Rectangle."
   ]
  },
  {
   "cell_type": "code",
   "execution_count": 17,
   "id": "e2e02d32",
   "metadata": {},
   "outputs": [
    {
     "name": "stdout",
     "output_type": "stream",
     "text": [
      "Area = 81.67\n",
      "Area = 21.00\n"
     ]
    }
   ],
   "source": [
    "from abc import ABC, abstractmethod\n",
    "\n",
    "class Shape(ABC):\n",
    "    @abstractmethod\n",
    "    def Area():\n",
    "        pass\n",
    "\n",
    "class Circle(Shape):\n",
    "    def __init__(self,radius):\n",
    "        self.radius = radius\n",
    "\n",
    "    def Area(self):\n",
    "        return 3.14 * self.radius * self.radius\n",
    "    \n",
    "class Rectangle(Shape):\n",
    "    def __init__(self,length,width):\n",
    "        self.length = length\n",
    "        self.width = width\n",
    "\n",
    "    def Area(self):\n",
    "        return self.length * self.width\n",
    "    \n",
    "circle = Circle(5.1)\n",
    "rect = Rectangle(7,3)\n",
    "\n",
    "print(f\"Area = {circle.Area():.2f}\")\n",
    "print(f\"Area = {rect.Area():.2f}\")"
   ]
  },
  {
   "cell_type": "markdown",
   "id": "a8c72363",
   "metadata": {},
   "source": [
    "### Use __ __str__ __ to show object info neatly."
   ]
  },
  {
   "cell_type": "code",
   "execution_count": 18,
   "id": "25e7dc90",
   "metadata": {},
   "outputs": [
    {
     "name": "stdout",
     "output_type": "stream",
     "text": [
      "Rectangle(Length: 7, Width: 3, Area: 21)\n"
     ]
    }
   ],
   "source": [
    "class Rectangle:\n",
    "    def __init__(self, length, width):\n",
    "        self.length = length\n",
    "        self.width = width\n",
    "\n",
    "    def area(self):\n",
    "        return self.length * self.width\n",
    "\n",
    "    def __str__(self):\n",
    "        return f\"Rectangle(Length: {self.length}, Width: {self.width}, Area: {self.area()})\"\n",
    "\n",
    "rect = Rectangle(7, 3)\n",
    "print(rect)"
   ]
  },
  {
   "cell_type": "markdown",
   "id": "52b6cdc8",
   "metadata": {},
   "source": [
    "# Build a mini library management system (PROJECT):\n",
    "\n",
    "### * Classes: Book, Member, Library\n",
    "### * Features: add books, issue book, return book, show inventory...\n",
    "### * Use encapsulation."
   ]
  },
  {
   "cell_type": "code",
   "execution_count": 22,
   "id": "558566b4",
   "metadata": {},
   "outputs": [
    {
     "data": {
      "text/markdown": [
       "# Library Management System\n",
       "\n",
       "This project is a simple command-line-based Library Management System implemented in Python. It allows users to manage books and members, issue books to members, and handle returns.\n",
       "\n",
       "## Core Components\n",
       "\n",
       "The system is built around a few key classes:\n",
       "\n",
       "### `Book`\n",
       "- Represents a book in the library.\n",
       "- **Attributes**:\n",
       "    - `title`: The title of the book.\n",
       "    - `author`: The author of the book.\n",
       "    - `isbn`: The ISBN of the book.\n",
       "    - `available`: A boolean indicating if the book is currently available.\n",
       "- **Methods**:\n",
       "    - `get_details()`: Returns the book's title and author.\n",
       "    - `is_available()`: Checks if the book is available.\n",
       "    - `mark_issued()`: Marks the book as unavailable.\n",
       "    - `mark_returned()`: Marks the book as available.\n",
       "\n",
       "### `Member`\n",
       "- Represents a library member.\n",
       "- **Attributes**:\n",
       "    - `name`: The name of the member.\n",
       "    - `member_id`: A unique ID for the member.\n",
       "    - `borrowed_books`: A list of `Book` objects the member has borrowed.\n",
       "- **Methods**:\n",
       "    - `borrow_book(book)`: Adds a book to the member's borrowed list.\n",
       "    - `return_book(book)`: Removes a book from the member's borrowed list.\n",
       "\n",
       "### `Library`\n",
       "- The central class that manages the entire system.\n",
       "- Manages a collection of `Book` and `Member` objects.\n",
       "- **Methods**:\n",
       "    - `add_book(book)`: Adds a new book to the library's inventory.\n",
       "    - `add_member(member)`: Registers a new member.\n",
       "    - `issue_book(book_title, member_id)`: Handles the process of a member borrowing a book.\n",
       "    - `return_book_to_library(book_title, member_id)`: Handles the process of a member returning a book.\n",
       "    - `show_inventory()`: Displays all books in the library and their availability status.\n",
       "    - `find_book(title)`: Searches for a book by its title.\n",
       "\n",
       "### `LibraryEntity` (Abstract Base Class)\n",
       "- An abstract class that defines a common interface for the `Book`, `Member`, and `Library` classes. This is intended to enforce a standard structure but is not fully implemented as a true abstract base class in this version.\n",
       "\n",
       "## How It Works\n",
       "\n",
       "The `main.py` script provides a simple command-line interface (CLI) that allows a user to interact with the library. The user can choose from a menu of options to:\n",
       "1.  Add a new book to the inventory.\n",
       "2.  Add a new library member.\n",
       "3.  Issue a book to a member.\n",
       "4.  Return a book.\n",
       "5.  View the entire library inventory.\n",
       "6.  Find a specific book by title.\n",
       "\n",
       "The program runs in a loop, continuously prompting the user for input until they choose to exit.\n"
      ],
      "text/plain": [
       "<IPython.core.display.Markdown object>"
      ]
     },
     "execution_count": 22,
     "metadata": {},
     "output_type": "execute_result"
    }
   ],
   "source": [
    "\n",
    "from IPython.display import Markdown\n",
    "with open('library_management/library_management_project.md', 'r') as f:\n",
    "    content = f.read()\n",
    "Markdown(content)"
   ]
  },
  {
   "cell_type": "code",
   "execution_count": null,
   "id": "4654680c",
   "metadata": {},
   "outputs": [
    {
     "name": "stdout",
     "output_type": "stream",
     "text": [
      "\n",
      "--- Library Management System ---\n",
      "1. Add a new book\n",
      "2. Add a new member\n",
      "3. Issue a book\n",
      "4. Return a book\n",
      "5. Show inventory\n",
      "6. Find a book\n",
      "7. Exit\n",
      "\n",
      "--- Library Inventory ---\n",
      "The Hitchhiker's Guide to the Galaxy By Douglas Adams\n",
      "isbn : 978-0345391803\n",
      " Available Status :Available\n",
      "\n",
      "The Lord of the Rings By J.R.R. Tolkien\n",
      "isbn : 978-0618640157\n",
      " Available Status :Available\n",
      "\n",
      "\n",
      "--- Library Management System ---\n",
      "1. Add a new book\n",
      "2. Add a new member\n",
      "3. Issue a book\n",
      "4. Return a book\n",
      "5. Show inventory\n",
      "6. Find a book\n",
      "7. Exit\n",
      "Book 'Atomic Habits' added successfully.\n",
      "\n",
      "--- Library Management System ---\n",
      "1. Add a new book\n",
      "2. Add a new member\n",
      "3. Issue a book\n",
      "4. Return a book\n",
      "5. Show inventory\n",
      "6. Find a book\n",
      "7. Exit\n",
      "\n",
      "--- Library Inventory ---\n",
      "The Hitchhiker's Guide to the Galaxy By Douglas Adams\n",
      "isbn : 978-0345391803\n",
      " Available Status :Available\n",
      "\n",
      "The Lord of the Rings By J.R.R. Tolkien\n",
      "isbn : 978-0618640157\n",
      " Available Status :Available\n",
      "\n",
      "Atomic Habits By James Clear\n",
      "isbn : 654-9201542106\n",
      " Available Status :Available\n",
      "\n",
      "\n",
      "--- Library Management System ---\n",
      "1. Add a new book\n",
      "2. Add a new member\n",
      "3. Issue a book\n",
      "4. Return a book\n",
      "5. Show inventory\n",
      "6. Find a book\n",
      "7. Exit\n",
      "Book 'Atomic Habits' issued to member Bob.\n",
      "\n",
      "--- Library Management System ---\n",
      "1. Add a new book\n",
      "2. Add a new member\n",
      "3. Issue a book\n",
      "4. Return a book\n",
      "5. Show inventory\n",
      "6. Find a book\n",
      "7. Exit\n",
      "\n",
      "--- Library Inventory ---\n",
      "The Hitchhiker's Guide to the Galaxy By Douglas Adams\n",
      "isbn : 978-0345391803\n",
      " Available Status :Available\n",
      "\n",
      "The Lord of the Rings By J.R.R. Tolkien\n",
      "isbn : 978-0618640157\n",
      " Available Status :Available\n",
      "\n",
      "Atomic Habits By James Clear\n",
      "isbn : 654-9201542106\n",
      " Available Status :Not Available\n",
      "\n",
      "\n",
      "--- Library Management System ---\n",
      "1. Add a new book\n",
      "2. Add a new member\n",
      "3. Issue a book\n",
      "4. Return a book\n",
      "5. Show inventory\n",
      "6. Find a book\n",
      "7. Exit\n",
      "Book 'Atomic Habits' returned by member Bob.\n",
      "\n",
      "--- Library Management System ---\n",
      "1. Add a new book\n",
      "2. Add a new member\n",
      "3. Issue a book\n",
      "4. Return a book\n",
      "5. Show inventory\n",
      "6. Find a book\n",
      "7. Exit\n",
      "Book 'The Lord of the Rings' is in the library.\n",
      "\n",
      "--- Library Management System ---\n",
      "1. Add a new book\n",
      "2. Add a new member\n",
      "3. Issue a book\n",
      "4. Return a book\n",
      "5. Show inventory\n",
      "6. Find a book\n",
      "7. Exit\n",
      "Exiting the program. Goodbye!\n"
     ]
    }
   ],
   "source": [
    "# Execution of the Project file at session_4/library_management/... Check it out to see the source code\n",
    "%run library_management/main.py"
   ]
  },
  {
   "cell_type": "code",
   "execution_count": null,
   "id": "95cc56e5",
   "metadata": {},
   "outputs": [],
   "source": []
  }
 ],
 "metadata": {
  "kernelspec": {
   "display_name": "base",
   "language": "python",
   "name": "python3"
  },
  "language_info": {
   "codemirror_mode": {
    "name": "ipython",
    "version": 3
   },
   "file_extension": ".py",
   "mimetype": "text/x-python",
   "name": "python",
   "nbconvert_exporter": "python",
   "pygments_lexer": "ipython3",
   "version": "3.12.7"
  }
 },
 "nbformat": 4,
 "nbformat_minor": 5
}
