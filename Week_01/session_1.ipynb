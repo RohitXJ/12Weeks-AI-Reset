{
 "cells": [
  {
   "cell_type": "markdown",
   "id": "4235a1a0",
   "metadata": {},
   "source": [
    "# Variables & Data Types"
   ]
  },
  {
   "cell_type": "markdown",
   "id": "b7c45e35",
   "metadata": {},
   "source": [
    "### Write a Python program to swap two numbers without using a third variable."
   ]
  },
  {
   "cell_type": "code",
   "execution_count": 1,
   "id": "5c87a27b",
   "metadata": {},
   "outputs": [
    {
     "name": "stdout",
     "output_type": "stream",
     "text": [
      "Before \n",
      "a -> 5 and b -> 9\n",
      "After \n",
      "a -> 9 and b -> 5\n"
     ]
    }
   ],
   "source": [
    "a,b = 5,9\n",
    "print(f\"Before \\na -> {a} and b -> {b}\")\n",
    "b = a+b\n",
    "a = b - a\n",
    "b = b - a\n",
    "print(f\"After \\na -> {a} and b -> {b}\")\n"
   ]
  },
  {
   "cell_type": "markdown",
   "id": "6d020bc8",
   "metadata": {},
   "source": [
    "### Given a string \"Python is fun\", reverse it without using slicing."
   ]
  },
  {
   "cell_type": "code",
   "execution_count": 2,
   "id": "59388117",
   "metadata": {},
   "outputs": [
    {
     "name": "stdout",
     "output_type": "stream",
     "text": [
      "Reversd String = !nuf si nohtyP\n"
     ]
    }
   ],
   "source": [
    "input_str = \"Python is fun!\"\n",
    "rev_str = \"\"\n",
    "\n",
    "for i in range(len(input_str)-1,-1,-1):\n",
    "    rev_str += input_str[i]\n",
    "print(f\"Reversd String = {rev_str}\") "
   ]
  },
  {
   "cell_type": "markdown",
   "id": "350800e0",
   "metadata": {},
   "source": [
    "### Take a user input number (as a string), and print:\n",
    "* Its integer value\n",
    "* Its float value\n",
    "* Its square"
   ]
  },
  {
   "cell_type": "code",
   "execution_count": 3,
   "id": "84bca654",
   "metadata": {},
   "outputs": [
    {
     "name": "stdout",
     "output_type": "stream",
     "text": [
      "Integer Value - > 45\n",
      "Integer Value - > 45.0\n",
      "Integer Value - > 2025\n"
     ]
    }
   ],
   "source": [
    "num = input(\"Enter a number: \")\n",
    "print(f\"Integer Value - > {int(num)}\")\n",
    "print(f\"Integer Value - > {float(num)}\")\n",
    "print(f\"Integer Value - > {int(num)**2}\")\n"
   ]
  },
  {
   "cell_type": "markdown",
   "id": "23ac3a77",
   "metadata": {},
   "source": [
    "### Check if a given number is even or odd, and print “Even” or “Odd” accordingly."
   ]
  },
  {
   "cell_type": "code",
   "execution_count": 4,
   "id": "c3dc7df1",
   "metadata": {},
   "outputs": [
    {
     "name": "stdout",
     "output_type": "stream",
     "text": [
      "Even Number\n"
     ]
    }
   ],
   "source": [
    "num = int(input(\"Enter a number: \"))\n",
    "\n",
    "if num % 2 == 0:\n",
    "    print(\"Even Number\")\n",
    "else:\n",
    "    print(\"Odd Number\")"
   ]
  },
  {
   "cell_type": "markdown",
   "id": "3982bf2b",
   "metadata": {},
   "source": [
    "### Given a list [12, 4, 56, 8, 90], print:\n",
    "* Sum of all numbers\n",
    "* Maximum and Minimum values\n",
    "* Average"
   ]
  },
  {
   "cell_type": "code",
   "execution_count": 5,
   "id": "4e8d1ac9",
   "metadata": {},
   "outputs": [
    {
     "name": "stdout",
     "output_type": "stream",
     "text": [
      "Sum : 170\n",
      "Max : 90\n",
      "Min : 4\n",
      "Avg : 34.0\n"
     ]
    }
   ],
   "source": [
    "lst = [12,4,56,8,90]\n",
    "\n",
    "print(f\"Sum : {sum(lst)}\")\n",
    "print(f\"Max : {max(lst)}\\nMin : {min(lst)}\")\n",
    "print(f\"Avg : {sum(lst)/len(lst)}\")"
   ]
  },
  {
   "cell_type": "markdown",
   "id": "2515af23",
   "metadata": {},
   "source": [
    "# Conditionals & Loops"
   ]
  },
  {
   "cell_type": "markdown",
   "id": "c8aa5ff8",
   "metadata": {},
   "source": [
    "### Write a program to print all numbers from 1 to 50, but:\n",
    "* Replace multiples of 3 with \"Fizz\".\n",
    "* Multiples of 5 with \"Buzz\".\n",
    "* Multiples of both with \"FizzBuzz\"."
   ]
  },
  {
   "cell_type": "code",
   "execution_count": 6,
   "id": "28dfc391",
   "metadata": {},
   "outputs": [
    {
     "name": "stdout",
     "output_type": "stream",
     "text": [
      "1 2 Fizz 4 Buzz Fizz 7 8 Fizz Buzz \n",
      "\n",
      "11 Fizz 13 14 FizzBuzz 16 17 Fizz 19 Buzz \n",
      "\n",
      "Fizz 22 23 Fizz Buzz 26 Fizz 28 29 FizzBuzz \n",
      "\n",
      "31 32 Fizz 34 Buzz Fizz 37 38 Fizz Buzz \n",
      "\n",
      "41 Fizz 43 44 FizzBuzz 46 47 Fizz 49 Buzz \n",
      "\n"
     ]
    }
   ],
   "source": [
    "for i in range(1,51,1):\n",
    "    if i%3 == 0 and i%5==0:\n",
    "        print(\"FizzBuzz\",end=\" \")\n",
    "    elif i%3 == 0:\n",
    "        print(\"Fizz\",end=\" \")\n",
    "    elif i%5 == 0:\n",
    "        print(\"Buzz\",end=\" \")\n",
    "    else:\n",
    "        print(i,end=\" \")\n",
    "    \n",
    "    if i%10 == 0:\n",
    "        print(\"\\n\")"
   ]
  },
  {
   "cell_type": "markdown",
   "id": "9e82edef",
   "metadata": {},
   "source": [
    "### Write a program to count how many vowels are in a string entered by the user."
   ]
  },
  {
   "cell_type": "code",
   "execution_count": 7,
   "id": "68dccef2",
   "metadata": {},
   "outputs": [
    {
     "name": "stdout",
     "output_type": "stream",
     "text": [
      "The number of vowels in the input string =  8\n"
     ]
    }
   ],
   "source": [
    "in_str = \"Hey there, this is a test string\"\n",
    "in_str = in_str.lower()\n",
    "count = 0\n",
    "for i in in_str:\n",
    "    if i in ['a','e','i','o','u']:\n",
    "        count += 1\n",
    "print(\"The number of vowels in the input string = \",count)"
   ]
  },
  {
   "cell_type": "markdown",
   "id": "370855d6",
   "metadata": {},
   "source": [
    "### Print the multiplication table of any number (up to 10)."
   ]
  },
  {
   "cell_type": "code",
   "execution_count": 10,
   "id": "c347c794",
   "metadata": {},
   "outputs": [
    {
     "name": "stdout",
     "output_type": "stream",
     "text": [
      "7 x 1 = 7\n",
      "7 x 2 = 14\n",
      "7 x 3 = 21\n",
      "7 x 4 = 28\n",
      "7 x 5 = 35\n",
      "7 x 6 = 42\n",
      "7 x 7 = 49\n",
      "7 x 8 = 56\n",
      "7 x 9 = 63\n",
      "7 x 10 = 70\n"
     ]
    }
   ],
   "source": [
    "table_no = 7\n",
    "for i in range(1,11,1):\n",
    "    print(f\"{table_no} x {i} = {table_no*i}\")\n"
   ]
  },
  {
   "cell_type": "markdown",
   "id": "eda59d57",
   "metadata": {},
   "source": [
    "### Find the factorial of a number using both a for loop and a while loop (two versions)."
   ]
  },
  {
   "cell_type": "code",
   "execution_count": 23,
   "id": "c704ddd1",
   "metadata": {},
   "outputs": [
    {
     "name": "stdout",
     "output_type": "stream",
     "text": [
      "Factorial of 7 = 5040\n"
     ]
    }
   ],
   "source": [
    "## For Loop\n",
    "num = 7\n",
    "fact = 1\n",
    "for i in range(1,num+1,1):\n",
    "    fact *= i\n",
    "print(f\"Factorial of {num} = {fact}\")"
   ]
  },
  {
   "cell_type": "code",
   "execution_count": 31,
   "id": "4fa502c2",
   "metadata": {},
   "outputs": [
    {
     "name": "stdout",
     "output_type": "stream",
     "text": [
      "Factorial of 5 = 120\n"
     ]
    }
   ],
   "source": [
    "## While Loop\n",
    "num = 5\n",
    "fact,i = 1,1\n",
    "while i<=num:\n",
    "    fact *= i\n",
    "    i += 1\n",
    "print(f\"Factorial of {num} = {fact}\")"
   ]
  },
  {
   "cell_type": "markdown",
   "id": "f0535823",
   "metadata": {},
   "source": [
    "# Functions"
   ]
  },
  {
   "cell_type": "markdown",
   "id": "8bf15b1a",
   "metadata": {},
   "source": [
    "### Write a function is_prime(n) that returns True if n is a prime number, else False."
   ]
  },
  {
   "cell_type": "code",
   "execution_count": 38,
   "id": "25973a20",
   "metadata": {},
   "outputs": [
    {
     "name": "stdout",
     "output_type": "stream",
     "text": [
      "True\n"
     ]
    }
   ],
   "source": [
    "def is_prime(n):\n",
    "    count = 0\n",
    "    for i in range(1,n+1):\n",
    "        if n%i == 0:\n",
    "            count += 1\n",
    "    if count == 2:\n",
    "        return True\n",
    "    else:\n",
    "        return False\n",
    "    \n",
    "print(is_prime(13))"
   ]
  },
  {
   "cell_type": "markdown",
   "id": "30119761",
   "metadata": {},
   "source": [
    "### Create a function greet(name, age) that prints: <br>\n",
    "\" Hello 'name'! You are 'age' years old. \""
   ]
  },
  {
   "cell_type": "code",
   "execution_count": 41,
   "id": "bfd154bb",
   "metadata": {},
   "outputs": [
    {
     "name": "stdout",
     "output_type": "stream",
     "text": [
      "Hello Abhi! You are 22 years old.\n"
     ]
    }
   ],
   "source": [
    "def greet(name:str, age:int):\n",
    "    print(f\"Hello {name}! You are {age} years old.\")\n",
    "greet(\"Abhi\",22)"
   ]
  },
  {
   "cell_type": "markdown",
   "id": "46e39b5a",
   "metadata": {},
   "source": [
    "### Make a function find_max(lst) that returns the largest element of a list without using max()."
   ]
  },
  {
   "cell_type": "code",
   "execution_count": 42,
   "id": "67b14325",
   "metadata": {},
   "outputs": [
    {
     "name": "stdout",
     "output_type": "stream",
     "text": [
      "67\n"
     ]
    }
   ],
   "source": [
    "def find_max(lst):\n",
    "    MAX = float('-inf')\n",
    "    for i in lst:\n",
    "        if i > MAX:\n",
    "            MAX = i\n",
    "    return MAX\n",
    "\n",
    "print(find_max([2,5,23,67,5,43]))\n"
   ]
  },
  {
   "cell_type": "markdown",
   "id": "5f8417e9",
   "metadata": {},
   "source": [
    "### Write a function that takes a string and returns the count of uppercase, lowercase, digits, and special characters."
   ]
  },
  {
   "cell_type": "code",
   "execution_count": 45,
   "id": "39720eb2",
   "metadata": {},
   "outputs": [
    {
     "name": "stdout",
     "output_type": "stream",
     "text": [
      "Number of Upper Case Characters 3\n",
      "Number of Lower Case Characters 17\n",
      "Number of Digits 2\n",
      "Number of Special Characters 2\n"
     ]
    }
   ],
   "source": [
    "import string\n",
    "\n",
    "def type_count(in_str:str):\n",
    "    up,low,dg,sc = 0,0,0,0\n",
    "    for i in in_str:\n",
    "        if i.isupper():\n",
    "            up += 1\n",
    "        elif i.islower():\n",
    "            low += 1\n",
    "        elif i.isdigit():\n",
    "            dg += 1\n",
    "        elif i in string.punctuation:\n",
    "            sc += 1\n",
    "    return [up,low,dg,sc]\n",
    "\n",
    "in_str = \"This is a Test Statement!! 52\"\n",
    "results = type_count(in_str)\n",
    "print(f\"Number of Upper Case Characters {results[0]}\")\n",
    "print(f\"Number of Lower Case Characters {results[1]}\")\n",
    "print(f\"Number of Digits {results[2]}\")\n",
    "print(f\"Number of Special Characters {results[3]}\")"
   ]
  },
  {
   "cell_type": "markdown",
   "id": "3fbc2303",
   "metadata": {},
   "source": [
    "### Define a function is_palindrome(s) to check if a string is palindrome (e.g., \"madam\")."
   ]
  },
  {
   "cell_type": "code",
   "execution_count": 53,
   "id": "7c778df3",
   "metadata": {},
   "outputs": [
    {
     "name": "stdout",
     "output_type": "stream",
     "text": [
      "Palindrome String\n"
     ]
    }
   ],
   "source": [
    "def is_palindrome(in_str:str):\n",
    "    rev_str = in_str[::-1]\n",
    "    if in_str == rev_str:\n",
    "        print(\"Palindrome String\")\n",
    "    else:\n",
    "        print(\"Non-Palindrome String\")\n",
    "\n",
    "is_palindrome(\"madam\")"
   ]
  },
  {
   "cell_type": "markdown",
   "id": "a3ebd239",
   "metadata": {},
   "source": [
    "# Combined Mini Tasks"
   ]
  },
  {
   "cell_type": "markdown",
   "id": "55bfe5e7",
   "metadata": {},
   "source": [
    "### Write a function that takes a list of numbers and returns a new list with only unique values (no duplicates)."
   ]
  },
  {
   "cell_type": "code",
   "execution_count": 1,
   "id": "88f1d8cc",
   "metadata": {},
   "outputs": [
    {
     "name": "stdout",
     "output_type": "stream",
     "text": [
      "Before [1, 2, 3, 3, 5, 6, 9, 0, 0, 0]\n",
      "After [0, 1, 2, 3, 5, 6, 9]\n"
     ]
    }
   ],
   "source": [
    "def unique_check(lst:list):\n",
    "    return list(set(lst))\n",
    "\n",
    "lst = [1,2,3,3,5,6,9,0,0,0]\n",
    "print(f\"Before {lst}\")\n",
    "print(f\"After {unique_check(lst)}\")"
   ]
  },
  {
   "cell_type": "markdown",
   "id": "b64d0b38",
   "metadata": {},
   "source": [
    "### Create a function student_report(scores) where scores is a dictionary like:\n",
    "\n",
    "{'Alice': 85, 'Bob': 67, 'Charlie': 92}\n",
    "\n",
    "#### Return:\n",
    "* The average score\n",
    "* The student with the highest score\n",
    "* The student with the lowest score"
   ]
  },
  {
   "cell_type": "code",
   "execution_count": 16,
   "id": "9c3fe48b",
   "metadata": {},
   "outputs": [
    {
     "name": "stdout",
     "output_type": "stream",
     "text": [
      "Average Score : 81.33\n",
      "Name of the student with highest score : Charlie 92(Score)\n",
      "Name of the student with lowest score : Bob 67(Score)\n"
     ]
    }
   ],
   "source": [
    "st_dict = {'Alice': 85, 'Bob': 67, 'Charlie': 92}\n",
    "\n",
    "def student_report(scores:dict):\n",
    "    MIN = float('inf')\n",
    "    MIN_std = \"\"\n",
    "    MAX = float('-inf')\n",
    "    MAX_std = \"\"\n",
    "    SUM = 0\n",
    "\n",
    "    for name,marks in scores.items():\n",
    "        SUM += marks\n",
    "        if marks > MAX:\n",
    "            MAX = marks\n",
    "            MAX_std = name\n",
    "        elif marks < MIN:\n",
    "            MIN = marks\n",
    "            MIN_std = name\n",
    "        \n",
    "    print(f\"Average Score : {SUM/len(scores):.2f}\")\n",
    "    print(f\"Name of the student with highest score : {MAX_std} {MAX}(Score)\")\n",
    "    print(f\"Name of the student with lowest score : {MIN_std} {MIN}(Score)\")\n",
    "\n",
    "student_report(st_dict)"
   ]
  },
  {
   "cell_type": "markdown",
   "id": "82f37e1a",
   "metadata": {},
   "source": [
    "### Write a script to read a string and print:\n",
    "\n",
    "* The string in uppercase\n",
    "* The string reversed\n",
    "* The number of words"
   ]
  },
  {
   "cell_type": "code",
   "execution_count": 17,
   "id": "d33b1a96",
   "metadata": {},
   "outputs": [
    {
     "name": "stdout",
     "output_type": "stream",
     "text": [
      "THIS IS A TEST STRING!\n",
      "!gnirtS tseT a si sihT\n",
      "Number of words = 5\n"
     ]
    }
   ],
   "source": [
    "in_str = \"This is a Test String!\"\n",
    "\n",
    "def str_stat(in_str:str):\n",
    "    print(f\"{in_str.upper()}\")\n",
    "    print(f\"{in_str[::-1]}\")\n",
    "    print(f\"Number of words = {len(in_str.split())}\")\n",
    "\n",
    "str_stat(in_str)"
   ]
  }
 ],
 "metadata": {
  "kernelspec": {
   "display_name": ".venv",
   "language": "python",
   "name": "python3"
  },
  "language_info": {
   "codemirror_mode": {
    "name": "ipython",
    "version": 3
   },
   "file_extension": ".py",
   "mimetype": "text/x-python",
   "name": "python",
   "nbconvert_exporter": "python",
   "pygments_lexer": "ipython3",
   "version": "3.12.7"
  }
 },
 "nbformat": 4,
 "nbformat_minor": 5
}
