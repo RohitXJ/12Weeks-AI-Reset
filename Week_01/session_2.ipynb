{
 "cells": [
  {
   "cell_type": "markdown",
   "id": "ff241893",
   "metadata": {},
   "source": [
    "# Smart Logic & List/Dictionaries"
   ]
  },
  {
   "cell_type": "markdown",
   "id": "181d9758",
   "metadata": {},
   "source": [
    "### Given nums = [2, 4, 6, 8, 10], create a list of squares using:\n",
    "\n",
    "* Normal loop\n",
    "* List comprehension"
   ]
  },
  {
   "cell_type": "code",
   "execution_count": 1,
   "id": "41a179b0",
   "metadata": {},
   "outputs": [],
   "source": [
    "nums = [2,4,6,8,10]"
   ]
  },
  {
   "cell_type": "code",
   "execution_count": 3,
   "id": "b45fd5c8",
   "metadata": {},
   "outputs": [
    {
     "name": "stdout",
     "output_type": "stream",
     "text": [
      "[4, 16, 36, 64, 100]\n"
     ]
    }
   ],
   "source": [
    "#Normal Loop\n",
    "norm_list = []\n",
    "for i in range(len(nums)):\n",
    "    norm_list.append(nums[i]**2)\n",
    "print(norm_list)"
   ]
  },
  {
   "cell_type": "code",
   "execution_count": 5,
   "id": "d3c1d1ea",
   "metadata": {},
   "outputs": [
    {
     "name": "stdout",
     "output_type": "stream",
     "text": [
      "[4, 16, 36, 64, 100]\n"
     ]
    }
   ],
   "source": [
    "#List Comprehension\n",
    "comp_lst = [i**2 for i in nums]\n",
    "print(comp_lst)"
   ]
  },
  {
   "cell_type": "markdown",
   "id": "e04f429d",
   "metadata": {},
   "source": [
    "### From the list ['apple','banana','cherry','date'], make a dictionary mapping each fruit → its length."
   ]
  },
  {
   "cell_type": "code",
   "execution_count": 6,
   "id": "1e165a5a",
   "metadata": {},
   "outputs": [
    {
     "name": "stdout",
     "output_type": "stream",
     "text": [
      "{'apple': 5, 'banana': 6, 'cherry': 6, 'date': 4}\n"
     ]
    }
   ],
   "source": [
    "fruits = ['apple','banana','cherry','date']\n",
    "fruit_dict = {fruit:len(fruit) for fruit in fruits}\n",
    "print(fruit_dict)"
   ]
  },
  {
   "cell_type": "markdown",
   "id": "3a156491",
   "metadata": {},
   "source": [
    "### Extract all unique characters from \"dataanalysis\" and return them as a sorted list."
   ]
  },
  {
   "cell_type": "code",
   "execution_count": 7,
   "id": "2308ae0a",
   "metadata": {},
   "outputs": [
    {
     "data": {
      "text/plain": [
       "['a', 'd', 'i', 'l', 'n', 's', 't', 'y']"
      ]
     },
     "execution_count": 7,
     "metadata": {},
     "output_type": "execute_result"
    }
   ],
   "source": [
    "word = \"dataanalysis\"\n",
    "word = sorted(list(set(word)))\n",
    "word"
   ]
  },
  {
   "cell_type": "markdown",
   "id": "93fc507b",
   "metadata": {},
   "source": [
    "### Given a sentence, count the frequency of each vowel using a dictionary comprehension."
   ]
  },
  {
   "cell_type": "code",
   "execution_count": 8,
   "id": "5496ff25",
   "metadata": {},
   "outputs": [
    {
     "data": {
      "text/plain": [
       "{'A': 1, 'E': 7, 'I': 3, 'O': 2, 'U': 0}"
      ]
     },
     "execution_count": 8,
     "metadata": {},
     "output_type": "execute_result"
    }
   ],
   "source": [
    "sentence = \"This is a test sentence for the given problem.\"\n",
    "sentence = sentence.upper()\n",
    "vowel_dict = {vowel:sentence.count(vowel) for vowel in ['A','E','I','O','U']}\n",
    "vowel_dict"
   ]
  },
  {
   "cell_type": "markdown",
   "id": "3bbf8c22",
   "metadata": {},
   "source": [
    "### Write a one-liner to remove all even numbers from [1-20]."
   ]
  },
  {
   "cell_type": "code",
   "execution_count": 9,
   "id": "974f91f4",
   "metadata": {},
   "outputs": [
    {
     "data": {
      "text/plain": [
       "[1, 3, 5, 7, 9, 11, 13, 15, 17, 19]"
      ]
     },
     "execution_count": 9,
     "metadata": {},
     "output_type": "execute_result"
    }
   ],
   "source": [
    "one_liner = [i for i in range(21) if i%2!=0]\n",
    "one_liner"
   ]
  },
  {
   "cell_type": "markdown",
   "id": "e5d56a90",
   "metadata": {},
   "source": [
    "# Lambda, Map, Filter, Reduce"
   ]
  },
  {
   "cell_type": "markdown",
   "id": "8d5a204a",
   "metadata": {},
   "source": [
    "### Use map() to convert a list of Celsius temps [0,10,20,30,40] → Fahrenheit."
   ]
  },
  {
   "cell_type": "code",
   "execution_count": 11,
   "id": "eabe5809",
   "metadata": {},
   "outputs": [
    {
     "data": {
      "text/plain": [
       "[32.0, 50.0, 68.0, 86.0, 104.0]"
      ]
     },
     "execution_count": 11,
     "metadata": {},
     "output_type": "execute_result"
    }
   ],
   "source": [
    "def to_farenheit(c):\n",
    "    return (c * (9/5)) + 32\n",
    "\n",
    "temps = [0,10,20,30,40]\n",
    "farenheit_temp = list(map(to_farenheit,temps))\n",
    "farenheit_temp\n"
   ]
  },
  {
   "cell_type": "markdown",
   "id": "cf77f4dc",
   "metadata": {},
   "source": [
    "### Use filter() to keep only names with length > 5 from ['Rohit','John','Bidisha','Ankur','Chris']."
   ]
  },
  {
   "cell_type": "code",
   "execution_count": 12,
   "id": "3e927dfa",
   "metadata": {},
   "outputs": [
    {
     "data": {
      "text/plain": [
       "['Bidisha']"
      ]
     },
     "execution_count": 12,
     "metadata": {},
     "output_type": "execute_result"
    }
   ],
   "source": [
    "def name_check(name):\n",
    "    return len(name) > 5\n",
    "\n",
    "names = ['Rohit','John','Bidisha','Ankur','Chris']\n",
    "names = list(filter(name_check,names))\n",
    "names"
   ]
  },
  {
   "cell_type": "markdown",
   "id": "f30e096b",
   "metadata": {},
   "source": [
    "### Use reduce() (from functools) to find the product of [2,3,4,5]."
   ]
  },
  {
   "cell_type": "code",
   "execution_count": 13,
   "id": "9d58bb8b",
   "metadata": {},
   "outputs": [
    {
     "name": "stdout",
     "output_type": "stream",
     "text": [
      "120\n"
     ]
    }
   ],
   "source": [
    "from functools import reduce\n",
    "\n",
    "numbers = [2, 3, 4, 5]\n",
    "product = reduce(lambda x, y: x * y, numbers)\n",
    "print(product)"
   ]
  },
  {
   "cell_type": "markdown",
   "id": "4f5c941a",
   "metadata": {},
   "source": [
    "### Given [1,2,3,4,5], write a one-liner that doubles odd numbers but keeps even numbers same."
   ]
  },
  {
   "cell_type": "code",
   "execution_count": 16,
   "id": "2c370ba7",
   "metadata": {},
   "outputs": [
    {
     "data": {
      "text/plain": [
       "[1, 2, 9, 4, 25]"
      ]
     },
     "execution_count": 16,
     "metadata": {},
     "output_type": "execute_result"
    }
   ],
   "source": [
    "nums = [1,2,3,4,5]\n",
    "nums = [i**2 if i%2 != 0 else i for i in nums]\n",
    "nums"
   ]
  },
  {
   "cell_type": "markdown",
   "id": "9a921c0d",
   "metadata": {},
   "source": [
    "### Sort a list of tuples by the second element:\n",
    "data = [('A',5),('B',2),('C',8),('D',3)]."
   ]
  },
  {
   "cell_type": "code",
   "execution_count": 18,
   "id": "aa029850",
   "metadata": {},
   "outputs": [
    {
     "data": {
      "text/plain": [
       "[('B', 2), ('D', 3), ('A', 5), ('C', 8)]"
      ]
     },
     "execution_count": 18,
     "metadata": {},
     "output_type": "execute_result"
    }
   ],
   "source": [
    "data = [('A',5),('B',2),('C',8),('D',3)]\n",
    "\n",
    "data = sorted(data,key=lambda x: x[1])\n",
    "data"
   ]
  },
  {
   "cell_type": "markdown",
   "id": "f68370a9",
   "metadata": {},
   "source": [
    "# String & List Manipulation"
   ]
  },
  {
   "cell_type": "markdown",
   "id": "42dcd1b2",
   "metadata": {},
   "source": [
    "### Write a function that returns all words in a string starting with a vowel."
   ]
  },
  {
   "cell_type": "code",
   "execution_count": 3,
   "id": "fb10e0c8",
   "metadata": {},
   "outputs": [],
   "source": [
    "test_str = \"This is a test input for checking vowel words Out\""
   ]
  },
  {
   "cell_type": "code",
   "execution_count": 4,
   "id": "5a227831",
   "metadata": {},
   "outputs": [
    {
     "name": "stdout",
     "output_type": "stream",
     "text": [
      "['is', 'a', 'input', 'Out']\n"
     ]
    }
   ],
   "source": [
    "def vowel_chk(in_str:str):\n",
    "    found = []\n",
    "    for words in in_str.split():\n",
    "        if words[0].upper() in ['A','E','I','O','U']:\n",
    "            found.append(words)\n",
    "    if found == []:\n",
    "        return \"No Vowel words found!\"\n",
    "    else:\n",
    "        return found\n",
    "    \n",
    "print(vowel_chk(test_str))\n"
   ]
  },
  {
   "cell_type": "markdown",
   "id": "910e24ca",
   "metadata": {},
   "source": [
    "### Given \"This is Python Programming\", count how many words contain the letter “o”."
   ]
  },
  {
   "cell_type": "code",
   "execution_count": 5,
   "id": "c8a7f2b2",
   "metadata": {},
   "outputs": [],
   "source": [
    "test_str = \"This is Python Programming\""
   ]
  },
  {
   "cell_type": "code",
   "execution_count": 7,
   "id": "6c192ec0",
   "metadata": {},
   "outputs": [
    {
     "name": "stdout",
     "output_type": "stream",
     "text": [
      "Word count with O =  2\n"
     ]
    }
   ],
   "source": [
    "def O_chk(in_str:str):\n",
    "    found = 0\n",
    "    for words in in_str.split():\n",
    "        if 'o' in words.lower():\n",
    "            found+=1\n",
    "    return found\n",
    "    \n",
    "print(\"Word count with O = \",O_chk(test_str))"
   ]
  },
  {
   "cell_type": "markdown",
   "id": "60e1928d",
   "metadata": {},
   "source": [
    "### Flatten this nested list [[1,2],[3,4],[5,6]] into [1,2,3,4,5,6] using a one-liner."
   ]
  },
  {
   "cell_type": "code",
   "execution_count": 1,
   "id": "cd9306f0",
   "metadata": {},
   "outputs": [
    {
     "data": {
      "text/plain": [
       "[1, 2, 3, 4, 5, 6]"
      ]
     },
     "execution_count": 1,
     "metadata": {},
     "output_type": "execute_result"
    }
   ],
   "source": [
    "data = [[1,2],[3,4],[5,6]]\n",
    "flat_list = [item for sublist in data for item in sublist]\n",
    "flat_list"
   ]
  },
  {
   "cell_type": "markdown",
   "id": "e0c2c2f2",
   "metadata": {},
   "source": [
    "### Find all common elements between two lists without using loops."
   ]
  },
  {
   "cell_type": "code",
   "execution_count": 3,
   "id": "e190aef1",
   "metadata": {},
   "outputs": [
    {
     "name": "stdout",
     "output_type": "stream",
     "text": [
      "Common elements [1, 2, 3, 5]\n"
     ]
    }
   ],
   "source": [
    "def find_common(lst1:list, lst2:list):\n",
    "    set1 = set(lst1)\n",
    "    set2 = set(lst2)\n",
    "\n",
    "    common = set1.intersection(set2)\n",
    "    return list(common)\n",
    "\n",
    "print(\"Common elements\",find_common([1,2,5,1,3,4,3],[2,9,1,2,5,2,3]))"
   ]
  },
  {
   "cell_type": "markdown",
   "id": "3625ea16",
   "metadata": {},
   "source": [
    "### Reverse every word in a sentence but keep word order same (e.g. \"Hello World\" → \"olleH dlroW\")."
   ]
  },
  {
   "cell_type": "code",
   "execution_count": 11,
   "id": "8b05a2ad",
   "metadata": {},
   "outputs": [
    {
     "name": "stdout",
     "output_type": "stream",
     "text": [
      "olleH dlroW\n"
     ]
    }
   ],
   "source": [
    "data = \"Hello World\"\n",
    "\n",
    "def word_rev(in_str:str):\n",
    "    in_str = in_str.split()\n",
    "    for i in range(len(in_str)):\n",
    "        in_str[i] = in_str[i][::-1]\n",
    "    in_str = \" \".join(in_str)\n",
    "    return in_str\n",
    "\n",
    "print(word_rev(data))"
   ]
  },
  {
   "cell_type": "code",
   "execution_count": null,
   "id": "ab032611",
   "metadata": {},
   "outputs": [],
   "source": []
  }
 ],
 "metadata": {
  "kernelspec": {
   "display_name": ".venv",
   "language": "python",
   "name": "python3"
  },
  "language_info": {
   "codemirror_mode": {
    "name": "ipython",
    "version": 3
   },
   "file_extension": ".py",
   "mimetype": "text/x-python",
   "name": "python",
   "nbconvert_exporter": "python",
   "pygments_lexer": "ipython3",
   "version": "3.12.7"
  }
 },
 "nbformat": 4,
 "nbformat_minor": 5
}
