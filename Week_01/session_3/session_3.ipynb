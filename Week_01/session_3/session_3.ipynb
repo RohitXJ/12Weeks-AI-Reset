{
 "cells": [
  {
   "cell_type": "markdown",
   "id": "62c957d8",
   "metadata": {},
   "source": [
    "# Exception Handling"
   ]
  },
  {
   "cell_type": "markdown",
   "id": "5d6caef8",
   "metadata": {},
   "source": [
    "### Handle divide-by-zero without crashing."
   ]
  },
  {
   "cell_type": "code",
   "execution_count": 2,
   "id": "377aeed2",
   "metadata": {},
   "outputs": [
    {
     "name": "stdout",
     "output_type": "stream",
     "text": [
      "ZeroDivisionError Caught and Handled\n"
     ]
    }
   ],
   "source": [
    "try:\n",
    "    a = 5/0\n",
    "except ZeroDivisionError:\n",
    "    print(\"ZeroDivisionError Caught and Handled\")"
   ]
  },
  {
   "cell_type": "markdown",
   "id": "29c26650",
   "metadata": {},
   "source": [
    "### Ask for user input and convert to int safely (handle ValueError)."
   ]
  },
  {
   "cell_type": "code",
   "execution_count": 5,
   "id": "ba95cbf8",
   "metadata": {},
   "outputs": [
    {
     "name": "stdout",
     "output_type": "stream",
     "text": [
      "Enter numbered value please\n",
      "Age =  20\n"
     ]
    }
   ],
   "source": [
    "def convert_to_int(prompt:str):\n",
    "    while True:\n",
    "        input_data = input(prompt)\n",
    "        try:\n",
    "            int_data = int(input_data)\n",
    "            return int_data\n",
    "        except ValueError:\n",
    "            print(\"Enter numbered value please\")\n",
    "print(\"Age = \",convert_to_int(\"Enter your age : \"))"
   ]
  },
  {
   "cell_type": "markdown",
   "id": "8c452506",
   "metadata": {},
   "source": [
    "### Try to open a file; if not found, show a custom message."
   ]
  },
  {
   "cell_type": "code",
   "execution_count": 9,
   "id": "530955d7",
   "metadata": {},
   "outputs": [
    {
     "name": "stdout",
     "output_type": "stream",
     "text": [
      "Custom message\n"
     ]
    }
   ],
   "source": [
    "def file_open(file_name:str):\n",
    "    try:\n",
    "        f = open(file_name, 'r')\n",
    "        print(f.read())\n",
    "    except FileNotFoundError:\n",
    "        print(\"Custom message\")\n",
    "\n",
    "file_open('demofile.txt')"
   ]
  },
  {
   "cell_type": "markdown",
   "id": "763e77cc",
   "metadata": {},
   "source": [
    "### Use else and finally to print messages accordingly."
   ]
  },
  {
   "cell_type": "code",
   "execution_count": 10,
   "id": "4f7c2415",
   "metadata": {},
   "outputs": [
    {
     "name": "stdout",
     "output_type": "stream",
     "text": [
      "No ZeroDivisionError is found -> Message from else section\n",
      "All previous sections are executed -> Message from finally section\n"
     ]
    }
   ],
   "source": [
    "try:\n",
    "    b = 10*(5/2)\n",
    "except ZeroDivisionError:\n",
    "    print(\"A ZeroDivisionError is found\")\n",
    "else:\n",
    "    print(\"No ZeroDivisionError is found -> Message from else section\")\n",
    "finally:\n",
    "    print(\"All previous sections are executed -> Message from finally section\")"
   ]
  },
  {
   "cell_type": "markdown",
   "id": "c3409770",
   "metadata": {},
   "source": [
    "### Write a function that raises an exception if negative numbers are passed."
   ]
  },
  {
   "cell_type": "code",
   "execution_count": 11,
   "id": "ad251694",
   "metadata": {},
   "outputs": [],
   "source": [
    "class NegativeNumberException(Exception):\n",
    "    def __init__(self, num, message = \"The number passed is a negative number\"):\n",
    "        self.num = num\n",
    "        self.message = message\n",
    "        super().__init__(self.message)\n",
    "    \n",
    "    def __str__(self):\n",
    "        return f\"NegativeNumberException: {self.num} -> {self.message}\""
   ]
  },
  {
   "cell_type": "code",
   "execution_count": 13,
   "id": "2b2245d8",
   "metadata": {},
   "outputs": [
    {
     "name": "stdout",
     "output_type": "stream",
     "text": [
      "Non Negative number is passed ->  64\n",
      "Non Negative number is passed ->  0\n",
      "NegativeNumberException: -5 -> The number passed is a negative number\n"
     ]
    }
   ],
   "source": [
    "def number_check(num:int):\n",
    "    if num < 0:\n",
    "        raise NegativeNumberException(num)\n",
    "    else:\n",
    "        print(\"Non Negative number is passed -> \",num)\n",
    "try:\n",
    "    number_check(64)\n",
    "except NegativeNumberException as e:\n",
    "    print(e)\n",
    "\n",
    "try:\n",
    "    number_check(0)\n",
    "except NegativeNumberException as e:\n",
    "    print(e)\n",
    "\n",
    "try:\n",
    "    number_check(-5)\n",
    "except NegativeNumberException as e:\n",
    "    print(e)"
   ]
  },
  {
   "cell_type": "markdown",
   "id": "b9dc5f5e",
   "metadata": {},
   "source": [
    "# Modules & Packages"
   ]
  },
  {
   "cell_type": "markdown",
   "id": "dc8c1e57",
   "metadata": {},
   "source": [
    "### Create a module with math functions (add, sub, mul, div) and import it in another file."
   ]
  },
  {
   "cell_type": "code",
   "execution_count": 3,
   "id": "d9594c81",
   "metadata": {},
   "outputs": [
    {
     "data": {
      "text/plain": [
       "'\\nSaved in math_func.py under myPackages dir\\ndef add(a, b):\\n    return a+b\\n\\ndef sub(a, b):\\n    return a-b\\n\\ndef mul(a, b):\\n    return a*b\\n\\ndef div(a, b):\\n    return a/b \\n'"
      ]
     },
     "execution_count": 3,
     "metadata": {},
     "output_type": "execute_result"
    }
   ],
   "source": [
    "\"\"\"\n",
    "Saved in math_func.py under myPackages dir\n",
    "def add(a, b):\n",
    "    return a+b\n",
    "\n",
    "def sub(a, b):\n",
    "    return a-b\n",
    "\n",
    "def mul(a, b):\n",
    "    return a*b\n",
    "\n",
    "def div(a, b):\n",
    "    return a/b \n",
    "\"\"\""
   ]
  },
  {
   "cell_type": "code",
   "execution_count": 4,
   "id": "85c75516",
   "metadata": {},
   "outputs": [
    {
     "name": "stdout",
     "output_type": "stream",
     "text": [
      "8 + 2 = 10\n",
      "8 - 2 = 6\n",
      "8 * 2 = 16\n",
      "8 / 2 = 4.0\n"
     ]
    }
   ],
   "source": [
    "from myPackages.math_func import *  #Importing all modules from math_func.py\n",
    "\n",
    "print(f\"8 + 2 = {add(8,2)}\")\n",
    "\n",
    "print(f\"8 - 2 = {sub(8,2)}\")\n",
    "\n",
    "print(f\"8 * 2 = {mul(8,2)}\")\n",
    "\n",
    "print(f\"8 / 2 = {div(8,2)}\")"
   ]
  },
  {
   "cell_type": "markdown",
   "id": "1433a210",
   "metadata": {},
   "source": [
    "### Build a small package with two modules and test imports."
   ]
  },
  {
   "cell_type": "code",
   "execution_count": 5,
   "id": "5c9429f8",
   "metadata": {},
   "outputs": [
    {
     "name": "stdout",
     "output_type": "stream",
     "text": [
      "6 + 6 = 12\n",
      "Hello, John!\n",
      "Goodbye, John!\n",
      "Hi this is greet_variable from greet_func module!\n"
     ]
    }
   ],
   "source": [
    "#Test Imports\n",
    "from myPackages import math_func, greet_func\n",
    "\n",
    "print(f\"6 + 6 = {math_func.add(6,6)}\")\n",
    "\n",
    "print(f\"{greet_func.say_hello(\"John\")}\")\n",
    "\n",
    "print(f\"{greet_func.say_goodbye(\"John\")}\")\n",
    "\n",
    "print(f\"{greet_func.greet_variable}\")"
   ]
  },
  {
   "cell_type": "markdown",
   "id": "dc73b8fb",
   "metadata": {},
   "source": [
    "### Explain difference between import module and from module import function."
   ]
  },
  {
   "cell_type": "code",
   "execution_count": 7,
   "id": "e72510a3",
   "metadata": {},
   "outputs": [
    {
     "name": "stdout",
     "output_type": "stream",
     "text": [
      "Hello, Lisa!\n"
     ]
    }
   ],
   "source": [
    "import myPackages.greet_func\n",
    "\n",
    "\"\"\"\n",
    "* This statement imports the entire module and makes its name available in the current namespace.\n",
    "* To access any function, class, or variable within the module, you must prefix it with the module name and a dot (.).\n",
    "\"\"\"\n",
    "\n",
    "print(greet_func.say_hello(\"Lisa\"))"
   ]
  },
  {
   "cell_type": "code",
   "execution_count": 8,
   "id": "d3648a11",
   "metadata": {},
   "outputs": [
    {
     "name": "stdout",
     "output_type": "stream",
     "text": [
      "Hello, Lisa!\n"
     ]
    }
   ],
   "source": [
    "from myPackages.greet_func import say_hello\n",
    "\n",
    "\"\"\"\n",
    "* This statement imports only specific functions, classes, or variables from a module directly into the current namespace.\n",
    "* You can then use the imported items directly without needing to prefix them with the module name.\n",
    "\"\"\"\n",
    "\n",
    "print(say_hello(\"Lisa\"))"
   ]
  },
  {
   "cell_type": "markdown",
   "id": "c67466fb",
   "metadata": {},
   "source": [
    "# JSON / CSV / Pickle"
   ]
  },
  {
   "cell_type": "markdown",
   "id": "a00b39c2",
   "metadata": {},
   "source": [
    "### Convert a Python dictionary to JSON and back."
   ]
  },
  {
   "cell_type": "code",
   "execution_count": 2,
   "id": "6a496f9f",
   "metadata": {},
   "outputs": [],
   "source": [
    "#Dictionary to JSON\n",
    "import json\n",
    "\n",
    "data = {\n",
    "    \"Name\":[\"Leo\",\"John\"],\n",
    "    \"Age\":[15,20]\n",
    "        }\n",
    "\n",
    "json.dump(data, open(\"data.json\", \"w\"))\n"
   ]
  },
  {
   "cell_type": "code",
   "execution_count": 4,
   "id": "2ea0db0b",
   "metadata": {},
   "outputs": [
    {
     "data": {
      "text/plain": [
       "{'Name': ['Leo', 'John'], 'Age': [15, 20]}"
      ]
     },
     "execution_count": 4,
     "metadata": {},
     "output_type": "execute_result"
    }
   ],
   "source": [
    "#JSON to Dictionary\n",
    "data = json.load(open(\"data.json\"))\n",
    "data"
   ]
  },
  {
   "cell_type": "markdown",
   "id": "63a1aa00",
   "metadata": {},
   "source": [
    "### Save student records to CSV, then read and print them."
   ]
  },
  {
   "cell_type": "code",
   "execution_count": 5,
   "id": "155f950c",
   "metadata": {},
   "outputs": [],
   "source": [
    "import csv\n",
    "\n",
    "with open(\"data.csv\", \"w\", newline=\"\") as f:\n",
    "    writer = csv.writer(f)\n",
    "    writer.writerow([\"name\", \"score\"])\n",
    "    writer.writerow([\"Lisa\", 81])\n",
    "    writer.writerow([\"Rohit\", 98])"
   ]
  },
  {
   "cell_type": "code",
   "execution_count": 6,
   "id": "6625b455",
   "metadata": {},
   "outputs": [
    {
     "name": "stdout",
     "output_type": "stream",
     "text": [
      "['name', 'score']\n",
      "['Lisa', '81']\n",
      "['Rohit', '98']\n"
     ]
    }
   ],
   "source": [
    "with open(\"data.csv\",\"r\") as f:\n",
    "    reader = csv.reader(f)\n",
    "    for row in reader:\n",
    "        print(row)"
   ]
  },
  {
   "cell_type": "markdown",
   "id": "1da229f3",
   "metadata": {},
   "source": [
    "### Store and retrieve a list using pickle."
   ]
  },
  {
   "cell_type": "code",
   "execution_count": 7,
   "id": "70f09573",
   "metadata": {},
   "outputs": [],
   "source": [
    "import pickle\n",
    "\n",
    "data = [1, 2, 3]\n",
    "pickle.dump(data, open(\"file.pkl\", \"wb\"))"
   ]
  },
  {
   "cell_type": "code",
   "execution_count": 8,
   "id": "1678139e",
   "metadata": {},
   "outputs": [
    {
     "data": {
      "text/plain": [
       "[1, 2, 3]"
      ]
     },
     "execution_count": 8,
     "metadata": {},
     "output_type": "execute_result"
    }
   ],
   "source": [
    "obj = pickle.load(open(\"file.pkl\", \"rb\"))\n",
    "obj"
   ]
  },
  {
   "cell_type": "markdown",
   "id": "555a354d",
   "metadata": {},
   "source": [
    "### Convert a list of dicts to JSON and save to file."
   ]
  },
  {
   "cell_type": "code",
   "execution_count": 9,
   "id": "ca42a641",
   "metadata": {},
   "outputs": [],
   "source": [
    "list_of_dicts = [\n",
    "    {\"name\": \"Alice\", \"age\": 25},\n",
    "    {\"name\": \"Bob\", \"age\": 30},\n",
    "    {\"name\": \"Charlie\", \"age\": 35}\n",
    "]\n",
    "\n",
    "json.dump(list_of_dicts, open(\"list_of_dicts.json\", \"w\"))"
   ]
  },
  {
   "cell_type": "markdown",
   "id": "85718bc4",
   "metadata": {},
   "source": [
    "### Read JSON and print all key–value pairs."
   ]
  },
  {
   "cell_type": "code",
   "execution_count": 10,
   "id": "406e7821",
   "metadata": {},
   "outputs": [
    {
     "name": "stdout",
     "output_type": "stream",
     "text": [
      "{'name': 'Alice', 'age': 25}\n",
      "{'name': 'Bob', 'age': 30}\n",
      "{'name': 'Charlie', 'age': 35}\n"
     ]
    }
   ],
   "source": [
    "json_data = json.load(open(\"list_of_dicts.json\"))\n",
    "for dict in json_data:\n",
    "    print(dict)"
   ]
  },
  {
   "cell_type": "markdown",
   "id": "97e5f1f0",
   "metadata": {},
   "source": [
    "# Logging"
   ]
  },
  {
   "cell_type": "markdown",
   "id": "ba82c192",
   "metadata": {},
   "source": [
    "### Set up a logger that logs both info and errors to app.log."
   ]
  },
  {
   "cell_type": "code",
   "execution_count": 6,
   "id": "17acbee7",
   "metadata": {},
   "outputs": [],
   "source": [
    "import logging\n",
    "\n",
    "logging.basicConfig(filename=\"app.log\", level=logging.INFO)\n",
    "logging.info(\"Program started\")\n"
   ]
  },
  {
   "cell_type": "markdown",
   "id": "7d9d3065",
   "metadata": {},
   "source": [
    "### Log user login attempts (simulate success/failure)."
   ]
  },
  {
   "cell_type": "code",
   "execution_count": 7,
   "id": "a88eee0f",
   "metadata": {},
   "outputs": [
    {
     "data": {
      "text/plain": [
       "True"
      ]
     },
     "execution_count": 7,
     "metadata": {},
     "output_type": "execute_result"
    }
   ],
   "source": [
    "import logging\n",
    "def login(username, password):\n",
    "    # Simulate login: password must be 'secret'\n",
    "    if password == 'secret':\n",
    "        logging.info(f\"Login successful for user: {username}\")\n",
    "        return True\n",
    "    else:\n",
    "        logging.error(f\"Login failed for user: {username}\")\n",
    "        return False\n",
    "\n",
    "# Simulate login attempts\n",
    "login(\"alice\", \"secret\")\n",
    "login(\"bob\", \"wrongpass\")\n",
    "login(\"charlie\", \"secret\")"
   ]
  },
  {
   "cell_type": "markdown",
   "id": "6c8a4a3c",
   "metadata": {},
   "source": [
    "### Write a simple try-except that logs the error message instead of printing it."
   ]
  },
  {
   "cell_type": "code",
   "execution_count": 8,
   "id": "9d0beffe",
   "metadata": {},
   "outputs": [],
   "source": [
    "import logging\n",
    "\n",
    "try:\n",
    "    a = 5* (10/0)\n",
    "\n",
    "except ZeroDivisionError as e:\n",
    "    logging.error(f\"{e}\")"
   ]
  },
  {
   "cell_type": "markdown",
   "id": "d90f1571",
   "metadata": {},
   "source": [
    "# Virtual Environments"
   ]
  },
  {
   "cell_type": "markdown",
   "id": "775eabb2",
   "metadata": {},
   "source": [
    "Virtual environments in Python allow you to create isolated spaces for your projects, each with its own dependencies and packages. <br>\n",
    "This prevents conflicts between different projects that may require different versions of libraries. <br>\n",
    "By using virtual environments, you ensure that your project's requirements do not interfere with system-wide packages or other projects, <br>\n",
    "making development, testing, and deployment more reliable and manageable. <br>"
   ]
  },
  {
   "cell_type": "markdown",
   "id": "aed03381",
   "metadata": {},
   "source": [
    "`!python -m venv .venv` To create a Virtual Environment(VE) where .venv is the name of the environment and can be anything <br>\n",
    "`!.venv\\Scripts\\activate` To activate the VE <br>\n",
    "`!python -m pip install numpy ....`  To install libraries in the activated environment only <br>\n",
    "`!.venv\\Scripts\\deactivate.bat` To deactivate the VE <br>"
   ]
  }
 ],
 "metadata": {
  "kernelspec": {
   "display_name": ".venv",
   "language": "python",
   "name": "python3"
  },
  "language_info": {
   "codemirror_mode": {
    "name": "ipython",
    "version": 3
   },
   "file_extension": ".py",
   "mimetype": "text/x-python",
   "name": "python",
   "nbconvert_exporter": "python",
   "pygments_lexer": "ipython3",
   "version": "3.12.7"
  }
 },
 "nbformat": 4,
 "nbformat_minor": 5
}
