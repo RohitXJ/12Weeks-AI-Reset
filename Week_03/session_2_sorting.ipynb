{
 "cells": [
  {
   "cell_type": "markdown",
   "id": "0f61038c",
   "metadata": {},
   "source": [
    "# Sorting Algorithms"
   ]
  },
  {
   "cell_type": "markdown",
   "id": "5d36c222",
   "metadata": {},
   "source": [
    "## Section I: Recursive $\\mathbf{O(n \\log n)}$ Sorting"
   ]
  },
  {
   "cell_type": "markdown",
   "id": "89e0e658",
   "metadata": {},
   "source": [
    "### 1. Merge Sort: Divide and Conquer 🧩<br>\n",
    "Merge Sort is a stable sort that uses the Divide and Conquer paradigm and relies on a temporary list/array, making it efficient for external storage.<br>\n",
    "* Challenge: Implement the $\\mathbf{merge\\_sort(arr)}$ function.\n",
    "The main logic is splitting the list in half recursively until single elements remain, and then merging the sorted halves back together.<br>\n",
    "* Focus: Pay close attention to the merge step—this is where the actual sorting comparison happens while combining the two sorted sub-arrays. "
   ]
  },
  {
   "cell_type": "code",
   "execution_count": 4,
   "id": "057ec548",
   "metadata": {},
   "outputs": [],
   "source": [
    "def merge_sort(arr):\n",
    "    if len(arr) <= 1:\n",
    "        return arr[:]  \n",
    "\n",
    "    mid = len(arr) // 2\n",
    "    left = merge_sort(arr[:mid])\n",
    "    right = merge_sort(arr[mid:])\n",
    "\n",
    "    \n",
    "    merged = []\n",
    "    i = j = 0\n",
    "    while i < len(left) and j < len(right):\n",
    "        if left[i] <= right[j]:\n",
    "            merged.append(left[i])\n",
    "            i += 1\n",
    "        else:\n",
    "            merged.append(right[j])\n",
    "            j += 1\n",
    "\n",
    "    \n",
    "    if i < len(left):\n",
    "        merged.extend(left[i:])\n",
    "    if j < len(right):\n",
    "        merged.extend(right[j:])\n",
    "\n",
    "    return merged"
   ]
  },
  {
   "cell_type": "code",
   "execution_count": 5,
   "id": "c4006bb4",
   "metadata": {},
   "outputs": [
    {
     "name": "stdout",
     "output_type": "stream",
     "text": [
      "original: [38, 27, 43, 3, 9, 82, 10]\n",
      "sorted:   [3, 9, 10, 27, 38, 43, 82]\n"
     ]
    }
   ],
   "source": [
    "arr = [38, 27, 43, 3, 9, 82, 10]\n",
    "print(\"original:\", arr)\n",
    "print(\"sorted:  \", merge_sort(arr))"
   ]
  },
  {
   "cell_type": "markdown",
   "id": "b27b5a78",
   "metadata": {},
   "source": [
    "### 2. Quick Sort: Pivot Selection 🚀<br>\n",
    "Quick Sort is generally faster in practice than Merge Sort and is often done in-place (requiring little extra space). It is unstable.<br>\n",
    "* Challenge: Implement the $\\mathbf{quick\\_sort(arr)}$ function using the in-place partition logic.<br>\n",
    "* Focus: The $\\mathbf{partition}$ function is key. It selects a pivot element and rearranges the array so that all elements less than the pivot are on the left, and all elements greater are on the right. This step is $O(n)$."
   ]
  },
  {
   "cell_type": "code",
   "execution_count": 6,
   "id": "18f87610",
   "metadata": {},
   "outputs": [],
   "source": [
    "def quick_sort(arr):\n",
    "    a = arr[:]  \n",
    "\n",
    "    def partition(a, low, high):\n",
    "        pivot = a[high]\n",
    "        i = low\n",
    "        for j in range(low, high):\n",
    "            if a[j] < pivot:\n",
    "                a[i], a[j] = a[j], a[i]\n",
    "                i += 1\n",
    "        a[i], a[high] = a[high], a[i]\n",
    "        return i\n",
    "\n",
    "    def _quick_sort(a, low, high):\n",
    "        if low < high:\n",
    "            p = partition(a, low, high)\n",
    "            _quick_sort(a, low, p - 1)\n",
    "            _quick_sort(a, p + 1, high)\n",
    "\n",
    "    _quick_sort(a, 0, len(a) - 1)\n",
    "    return a"
   ]
  },
  {
   "cell_type": "code",
   "execution_count": 7,
   "id": "b969455f",
   "metadata": {},
   "outputs": [
    {
     "name": "stdout",
     "output_type": "stream",
     "text": [
      "original: [38, 27, 43, 3, 9, 82, 10]\n",
      "sorted:   [3, 9, 10, 27, 38, 43, 82]\n"
     ]
    }
   ],
   "source": [
    "print(\"original:\", arr)\n",
    "print(\"sorted:  \", quick_sort(arr))"
   ]
  },
  {
   "cell_type": "markdown",
   "id": "aff6d4f0",
   "metadata": {},
   "source": [
    "## Section II: $\\mathbf{O(n \\log n)}$ Heap-Based Sort"
   ]
  },
  {
   "cell_type": "markdown",
   "id": "0efc5446",
   "metadata": {},
   "source": [
    "### Q3. Heap Sort: Array-Based Tree 🗻<br>\n",
    "Heap Sort is an in-place sorting algorithm that utilizes the Max-Heap structure.<br>\n",
    "### Challenge: Implement the $\\mathbf{heap\\_sort(arr)}$ function. It has two main phases:<br>\n",
    "* Phase 1 (Build Heap): Rearrange the input array into a Max-Heap structure (using a function like $\\mathbf{heapify}$). This is done in $O(n)$ time.<br>\n",
    "* Phase 2 (Sort): Repeatedly swap the root (largest element) with the last element of the heap, reduce the size of the heap by one, and call heapify on the new root. This phase is $O(n \\log n)$."
   ]
  },
  {
   "cell_type": "code",
   "execution_count": 8,
   "id": "c66e3c0d",
   "metadata": {},
   "outputs": [],
   "source": [
    "def heap_sort(arr):\n",
    "    a = arr[:]  \n",
    "    n = len(a)\n",
    "\n",
    "    def heapify(a, n, i):\n",
    "        largest = i\n",
    "        left = 2 * i + 1\n",
    "        right = 2 * i + 2\n",
    "\n",
    "        if left < n and a[left] > a[largest]:\n",
    "            largest = left\n",
    "        if right < n and a[right] > a[largest]:\n",
    "            largest = right\n",
    "\n",
    "        if largest != i:\n",
    "            a[i], a[largest] = a[largest], a[i]\n",
    "            heapify(a, n, largest)\n",
    "\n",
    "    for i in range(n // 2 - 1, -1, -1):\n",
    "        heapify(a, n, i)\n",
    "   \n",
    "    for end in range(n - 1, 0, -1):\n",
    "        a[0], a[end] = a[end], a[0]  \n",
    "        heapify(a, end, 0)  \n",
    "\n",
    "    return a"
   ]
  },
  {
   "cell_type": "code",
   "execution_count": 9,
   "id": "ec863595",
   "metadata": {},
   "outputs": [
    {
     "name": "stdout",
     "output_type": "stream",
     "text": [
      "data: [12, 11, 13, 5, 6, 7]\n",
      "sorted: [5, 6, 7, 11, 12, 13]\n"
     ]
    }
   ],
   "source": [
    "data = [12, 11, 13, 5, 6, 7]\n",
    "print(\"data:\", data)\n",
    "print(\"sorted:\", heap_sort(data))"
   ]
  }
 ],
 "metadata": {
  "kernelspec": {
   "display_name": "base",
   "language": "python",
   "name": "python3"
  },
  "language_info": {
   "codemirror_mode": {
    "name": "ipython",
    "version": 3
   },
   "file_extension": ".py",
   "mimetype": "text/x-python",
   "name": "python",
   "nbconvert_exporter": "python",
   "pygments_lexer": "ipython3",
   "version": "3.12.7"
  }
 },
 "nbformat": 4,
 "nbformat_minor": 5
}
