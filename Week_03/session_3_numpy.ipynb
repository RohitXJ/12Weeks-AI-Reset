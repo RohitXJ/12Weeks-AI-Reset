{
 "cells": [
  {
   "cell_type": "markdown",
   "id": "9000402f",
   "metadata": {},
   "source": [
    "# Numpy Library Mastery"
   ]
  },
  {
   "cell_type": "markdown",
   "id": "17416625",
   "metadata": {},
   "source": [
    "### Install Numpy Library "
   ]
  },
  {
   "cell_type": "code",
   "execution_count": 1,
   "id": "a1f7c4e5",
   "metadata": {},
   "outputs": [],
   "source": [
    "#!python -m pip install numpy"
   ]
  },
  {
   "cell_type": "markdown",
   "metadata": {},
   "source": [
    "### 1. Import the NumPy library and give it the alias np."
   ]
  },
  {
   "cell_type": "code",
   "execution_count": 2,
   "id": "d027795e",
   "metadata": {},
   "outputs": [],
   "source": [
    "import numpy as np"
   ]
  },
  {
   "cell_type": "markdown",
   "id": "8e15f8dc",
   "metadata": {},
   "source": [
    "### 2. Create a 1D NumPy array named `my_list` containing the integers `[1, 2, 3, 4, 5]` and a 2D NumPy array (3x3) named `my_matrix` from the list of lists: `[[1, 2, 3], [4, 5, 6], [7, 8, 9]]`."
   ]
  },
  {
   "cell_type": "markdown",
   "id": "4b300c4d",
   "metadata": {},
   "source": [
    "**Hint:** Use the `np.array()` function to convert a Python list into a NumPy array."
   ]
  },
  {
   "cell_type": "code",
   "execution_count": 3,
   "id": "da34ecc3",
   "metadata": {},
   "outputs": [],
   "source": [
    "my_list = np.array([1, 2, 3, 4, 5])"
   ]
  },
  {
   "cell_type": "code",
   "execution_count": 4,
   "id": "8cbae392",
   "metadata": {},
   "outputs": [],
   "source": [
    "my_matrix = np.array([[1,2,3],\n",
    "                      [4,5,6],\n",
    "                      [7,8,9]])"
   ]
  },
  {
   "cell_type": "markdown",
   "id": "ef837042",
   "metadata": {},
   "source": [
    "### 3. Create a 3x4 array of all zeros (`zeros_array`), a 2x5 array of all ones (`ones_array`), and a 4x4 identity matrix (`identity_matrix`)."
   ]
  },
  {
   "cell_type": "code",
   "execution_count": 5,
   "id": "7ef6fdd6",
   "metadata": {},
   "outputs": [
    {
     "data": {
      "text/plain": [
       "array([[0., 0., 0., 0.],\n",
       "       [0., 0., 0., 0.],\n",
       "       [0., 0., 0., 0.]])"
      ]
     },
     "execution_count": 5,
     "metadata": {},
     "output_type": "execute_result"
    }
   ],
   "source": [
    "zero_array = np.zeros([3,4])\n",
    "zero_array"
   ]
  },
  {
   "cell_type": "code",
   "execution_count": 6,
   "id": "292d40d1",
   "metadata": {},
   "outputs": [
    {
     "data": {
      "text/plain": [
       "array([[0., 0., 0., 0., 0.],\n",
       "       [0., 0., 0., 0., 0.]])"
      ]
     },
     "execution_count": 6,
     "metadata": {},
     "output_type": "execute_result"
    }
   ],
   "source": [
    "ones_array = np.zeros([2,5])\n",
    "ones_array"
   ]
  },
  {
   "cell_type": "code",
   "execution_count": 7,
   "id": "a8bd0f2d",
   "metadata": {},
   "outputs": [
    {
     "data": {
      "text/plain": [
       "array([[1., 0., 0., 0.],\n",
       "       [0., 1., 0., 0.],\n",
       "       [0., 0., 1., 0.],\n",
       "       [0., 0., 0., 1.]])"
      ]
     },
     "execution_count": 7,
     "metadata": {},
     "output_type": "execute_result"
    }
   ],
   "source": [
    "identity_matrix = np.identity(4)\n",
    "identity_matrix"
   ]
  },
  {
   "cell_type": "markdown",
   "id": "3433a2f0",
   "metadata": {},
   "source": [
    "### 4. Create an array of 20 evenly spaced numbers between 0 and 10 (`linear_space`) and an array of numbers from 0 to 19 with a step of 2 (`ranged_array`)."
   ]
  },
  {
   "cell_type": "code",
   "execution_count": 8,
   "id": "fafa364b",
   "metadata": {},
   "outputs": [
    {
     "data": {
      "text/plain": [
       "array([ 0.        ,  0.52631579,  1.05263158,  1.57894737,  2.10526316,\n",
       "        2.63157895,  3.15789474,  3.68421053,  4.21052632,  4.73684211,\n",
       "        5.26315789,  5.78947368,  6.31578947,  6.84210526,  7.36842105,\n",
       "        7.89473684,  8.42105263,  8.94736842,  9.47368421, 10.        ])"
      ]
     },
     "execution_count": 8,
     "metadata": {},
     "output_type": "execute_result"
    }
   ],
   "source": [
    "linear_space = np.linspace(0, 10, num = 20)\n",
    "linear_space"
   ]
  },
  {
   "cell_type": "code",
   "execution_count": 9,
   "id": "7bba6ee3",
   "metadata": {},
   "outputs": [
    {
     "data": {
      "text/plain": [
       "array([ 0,  2,  4,  6,  8, 10, 12, 14, 16, 18])"
      ]
     },
     "execution_count": 9,
     "metadata": {},
     "output_type": "execute_result"
    }
   ],
   "source": [
    "ranged_array = np.arange(0,19,2)\n",
    "ranged_array"
   ]
  },
  {
   "cell_type": "markdown",
   "metadata": {},
   "source": [
    "### 5. Create a 3x3 array of random numbers from a uniform distribution between 0 and 1 (`random_uniform`), a 3x3 array of random numbers from a standard normal distribution (`random_normal`), and a 1D array of 10 random integers between 10 and 50 (`random_integers`)."
   ]
  },
  {
   "cell_type": "markdown",
   "id": "2e8e253e",
   "metadata": {},
   "source": [
    "**Hint:** Use `np.random.rand()` for uniform distribution, `np.random.randn()` for standard normal distribution, and `np.random.randint()` for random integers."
   ]
  },
  {
   "cell_type": "code",
   "execution_count": 10,
   "metadata": {},
   "outputs": [
    {
     "data": {
      "text/plain": [
       "array([[0.80387593, 0.44750732, 0.74713235],\n",
       "       [0.50066225, 0.78423533, 0.3579764 ],\n",
       "       [0.07883205, 0.13462934, 0.96501962]])"
      ]
     },
     "execution_count": 10,
     "metadata": {},
     "output_type": "execute_result"
    }
   ],
   "source": [
    "random_uniform = np.random.rand(3,3)\n",
    "random_uniform"
   ]
  },
  {
   "cell_type": "code",
   "execution_count": 11,
   "id": "54cf432c",
   "metadata": {},
   "outputs": [
    {
     "data": {
      "text/plain": [
       "array([[ 0.07982047,  1.45463294, -0.57437685],\n",
       "       [-1.59694681,  0.82566213,  0.40751895],\n",
       "       [-0.52080704,  0.13831302, -0.77795203]])"
      ]
     },
     "execution_count": 11,
     "metadata": {},
     "output_type": "execute_result"
    }
   ],
   "source": [
    "random_normal = np.random.randn(3,3)\n",
    "random_normal"
   ]
  },
  {
   "cell_type": "code",
   "execution_count": 12,
   "id": "7032f16f",
   "metadata": {},
   "outputs": [
    {
     "data": {
      "text/plain": [
       "array([39, 16, 42, 49, 47, 37, 40, 45, 26, 26], dtype=int32)"
      ]
     },
     "execution_count": 12,
     "metadata": {},
     "output_type": "execute_result"
    }
   ],
   "source": [
    "random_integers = np.random.randint(10,50,size=10)\n",
    "random_integers"
   ]
  },
  {
   "cell_type": "markdown",
   "metadata": {},
   "source": [
    "### 6. Using the `my_matrix` from Q2, print its shape, number of dimensions (ndim), data type (dtype), and total number of elements (size)."
   ]
  },
  {
   "cell_type": "markdown",
   "id": "be1c23f8",
   "metadata": {},
   "source": [
    "**Hint:** Use the attributes `.shape`, `.ndim`, `.dtype`, and `.size` on the NumPy array."
   ]
  },
  {
   "cell_type": "code",
   "execution_count": 13,
   "id": "a65557b8",
   "metadata": {},
   "outputs": [
    {
     "name": "stdout",
     "output_type": "stream",
     "text": [
      "(3, 3)\n",
      "2\n",
      "int64\n",
      "9\n"
     ]
    }
   ],
   "source": [
    "print(my_matrix.shape)\n",
    "\n",
    "print(my_matrix.ndim)\n",
    "\n",
    "print(my_matrix.dtype)\n",
    "\n",
    "print(my_matrix.size)"
   ]
  },
  {
   "cell_type": "markdown",
   "id": "404f10ba",
   "metadata": {},
   "source": [
    "### 7. Create a 1D array with 12 elements and use the `reshape()` method to change it into a 3x4 array named `reshaped_array`."
   ]
  },
  {
   "cell_type": "code",
   "execution_count": 14,
   "id": "87e3ffbb",
   "metadata": {},
   "outputs": [
    {
     "name": "stdout",
     "output_type": "stream",
     "text": [
      "[ 1  2  3  4  5  6  7  8  9 10 11 12]\n",
      "[[ 1  2  3  4]\n",
      " [ 5  6  7  8]\n",
      " [ 9 10 11 12]]\n"
     ]
    }
   ],
   "source": [
    "temp_arr = np.arange(1,13)\n",
    "print(temp_arr)\n",
    "reshaped_array = temp_arr.reshape(3,4)\n",
    "print(reshaped_array)"
   ]
  },
  {
   "cell_type": "markdown",
   "id": "c5918f12",
   "metadata": {},
   "source": [
    "### 8. Change the data type of `reshaped_array` to `float64` and name it `float_array`."
   ]
  },
  {
   "cell_type": "markdown",
   "id": "a5b0b0b3",
   "metadata": {},
   "source": [
    "**Hint:** Use the `.astype()` method on the array to change its data type."
   ]
  },
  {
   "cell_type": "code",
   "execution_count": 15,
   "id": "cc809e1c",
   "metadata": {},
   "outputs": [
    {
     "name": "stdout",
     "output_type": "stream",
     "text": [
      "int64 [[ 1  2  3  4]\n",
      " [ 5  6  7  8]\n",
      " [ 9 10 11 12]]\n",
      "float64 [[ 1.  2.  3.  4.]\n",
      " [ 5.  6.  7.  8.]\n",
      " [ 9. 10. 11. 12.]]\n"
     ]
    }
   ],
   "source": [
    "print(reshaped_array.dtype,reshaped_array)\n",
    "reshaped_array = reshaped_array.astype(\"float64\")\n",
    "print(reshaped_array.dtype, reshaped_array)"
   ]
  },
  {
   "cell_type": "markdown",
   "id": "267891e3",
   "metadata": {},
   "source": [
    "### 9. Get the element at the 2nd row, 3rd column (value 70) and the element at the 1st row, 1st column (value 10)."
   ]
  },
  {
   "cell_type": "markdown",
   "id": "f3b3b3b3",
   "metadata": {},
   "source": [
    "**Hint:** Use index-based access `array[row, column]`. Remember that indexing is 0-based."
   ]
  },
  {
   "cell_type": "markdown",
   "id": "5bcd0e20",
   "metadata": {},
   "source": [
    "### For the following questions, use this 2D array: `data = np.array([[10, 20, 30, 40], [50, 60, 70, 80], [90, 100, 110, 120]])`"
   ]
  },
  {
   "cell_type": "code",
   "execution_count": 16,
   "id": "1ce0bc0a",
   "metadata": {},
   "outputs": [],
   "source": [
    "import numpy as np\n",
    "data = np.array([[10, 20, 30, 40], \n",
    "                 [50, 60, 70, 80], \n",
    "                 [90, 100, 110, 120]])"
   ]
  },
  {
   "cell_type": "code",
   "execution_count": 17,
   "id": "bca584bd",
   "metadata": {},
   "outputs": [
    {
     "data": {
      "text/plain": [
       "np.int64(70)"
      ]
     },
     "execution_count": 17,
     "metadata": {},
     "output_type": "execute_result"
    }
   ],
   "source": [
    "data[1,2]"
   ]
  },
  {
   "cell_type": "code",
   "execution_count": 18,
   "id": "5a1f8b3b",
   "metadata": {},
   "outputs": [
    {
     "data": {
      "text/plain": [
       "np.int64(10)"
      ]
     },
     "execution_count": 18,
     "metadata": {},
     "output_type": "execute_result"
    }
   ],
   "source": [
    "data[0,0]"
   ]
  },
  {
   "cell_type": "markdown",
   "id": "0963ee8f",
   "metadata": {},
   "source": [
    "### 10. Get the entire 2nd row and the entire 3rd column."
   ]
  },
  {
   "cell_type": "code",
   "execution_count": 19,
   "id": "a281dcf1",
   "metadata": {},
   "outputs": [
    {
     "data": {
      "text/plain": [
       "array([50, 60, 70, 80])"
      ]
     },
     "execution_count": 19,
     "metadata": {},
     "output_type": "execute_result"
    }
   ],
   "source": [
    "data[1,:]"
   ]
  },
  {
   "cell_type": "code",
   "execution_count": 20,
   "id": "c4bd253a",
   "metadata": {},
   "outputs": [
    {
     "data": {
      "text/plain": [
       "array([ 30,  70, 110])"
      ]
     },
     "execution_count": 20,
     "metadata": {},
     "output_type": "execute_result"
    }
   ],
   "source": [
    "data[:,2]"
   ]
  },
  {
   "cell_type": "markdown",
   "id": "ede3fbd7",
   "metadata": {},
   "source": [
    "### 11. Get a sub-array containing the first 2 rows and the first 2 columns."
   ]
  },
  {
   "cell_type": "code",
   "execution_count": 21,
   "id": "9059cb35",
   "metadata": {},
   "outputs": [
    {
     "data": {
      "text/plain": [
       "array([[10, 20],\n",
       "       [50, 60]])"
      ]
     },
     "execution_count": 21,
     "metadata": {},
     "output_type": "execute_result"
    }
   ],
   "source": [
    "data[0:2,0:2]"
   ]
  },
  {
   "cell_type": "markdown",
   "id": "14a46bf9",
   "metadata": {},
   "source": [
    "### 12. Get a sub-array containing the last 2 rows and the last 2 columns."
   ]
  },
  {
   "cell_type": "markdown",
   "id": "b4b4b4b4",
   "metadata": {},
   "source": [
    "**Hint:** Use negative indexing in your slice."
   ]
  },
  {
   "cell_type": "code",
   "execution_count": 22,
   "id": "894849ee",
   "metadata": {},
   "outputs": [
    {
     "data": {
      "text/plain": [
       "array([[ 70,  80],\n",
       "       [110, 120]])"
      ]
     },
     "execution_count": 22,
     "metadata": {},
     "output_type": "execute_result"
    }
   ],
   "source": [
    "data[-2:,-2:]"
   ]
  },
  {
   "cell_type": "markdown",
   "id": "f07e3f9e",
   "metadata": {},
   "source": [
    "### 13. Get every second element from the 3rd row."
   ]
  },
  {
   "cell_type": "markdown",
   "id": "a7a7a7a7",
   "metadata": {},
   "source": [
    "**Hint:** Use slicing with a step: `array[row, ::step]`."
   ]
  },
  {
   "cell_type": "code",
   "execution_count": 23,
   "id": "a26d5e70",
   "metadata": {},
   "outputs": [
    {
     "data": {
      "text/plain": [
       "array([100, 120])"
      ]
     },
     "execution_count": 23,
     "metadata": {},
     "output_type": "execute_result"
    }
   ],
   "source": [
    "data[2,1::2]"
   ]
  },
  {
   "cell_type": "markdown",
   "id": "b07b2ae5",
   "metadata": {},
   "source": [
    "### 14. Using fancy indexing, get the elements at positions (0, 1), (1, 2), and (2, 3)."
   ]
  },
  {
   "cell_type": "code",
   "execution_count": 24,
   "id": "9b022546",
   "metadata": {},
   "outputs": [
    {
     "name": "stdout",
     "output_type": "stream",
     "text": [
      "[ 20  70 120]\n"
     ]
    }
   ],
   "source": [
    "rows = np.array([0,1,2])\n",
    "colms = np.array([1,2,3])\n",
    "\n",
    "print(data[rows,colms])"
   ]
  },
  {
   "cell_type": "markdown",
   "id": "3ed0ed84",
   "metadata": {},
   "source": [
    "### For the following questions, use this array: `bool_data = np.arange(1, 26).reshape(5, 5)`"
   ]
  },
  {
   "cell_type": "code",
   "execution_count": 25,
   "id": "aef9d61e",
   "metadata": {},
   "outputs": [
    {
     "data": {
      "text/plain": [
       "array([[ 1,  2,  3,  4,  5],\n",
       "       [ 6,  7,  8,  9, 10],\n",
       "       [11, 12, 13, 14, 15],\n",
       "       [16, 17, 18, 19, 20],\n",
       "       [21, 22, 23, 24, 25]])"
      ]
     },
     "execution_count": 25,
     "metadata": {},
     "output_type": "execute_result"
    }
   ],
   "source": [
    "bool_data = np.arange(1, 26).reshape(5, 5)\n",
    "bool_data"
   ]
  },
  {
   "cell_type": "markdown",
   "id": "28769884",
   "metadata": {},
   "source": [
    "### 15. Select all elements in `bool_data` that are greater than 15, all that are even, and all that are divisible by 3."
   ]
  },
  {
   "cell_type": "markdown",
   "id": "8d8d8d8d",
   "metadata": {},
   "source": [
    "**Hint:** Use boolean indexing. Create a boolean mask with a condition (e.g., `array > 15`) and use it to index the array."
   ]
  },
  {
   "cell_type": "code",
   "execution_count": 26,
   "id": "aa271e6b",
   "metadata": {},
   "outputs": [
    {
     "name": "stdout",
     "output_type": "stream",
     "text": [
      "[18 24]\n"
     ]
    }
   ],
   "source": [
    "mask1 = bool_data > 15\n",
    "mask2 = bool_data % 2 == 0\n",
    "mask3 = bool_data % 3 == 0\n",
    "\n",
    "combined_mask = mask1 & mask2 & mask3\n",
    "print(bool_data[combined_mask])"
   ]
  },
  {
   "cell_type": "markdown",
   "id": "8241ee44",
   "metadata": {},
   "source": [
    "### 16. Create a new array, `bool_data_copy`, as a copy of `bool_data`. In the copy, replace all elements greater than 20 with the value -1."
   ]
  },
  {
   "cell_type": "code",
   "execution_count": 27,
   "id": "60bf8afc",
   "metadata": {},
   "outputs": [
    {
     "data": {
      "text/plain": [
       "array([[ 1,  2,  3,  4,  5],\n",
       "       [ 6,  7,  8,  9, 10],\n",
       "       [11, 12, 13, 14, 15],\n",
       "       [16, 17, 18, 19, 20],\n",
       "       [-1, -1, -1, -1, -1]])"
      ]
     },
     "execution_count": 27,
     "metadata": {},
     "output_type": "execute_result"
    }
   ],
   "source": [
    "bool_data_copy = bool_data.copy()\n",
    "mask = bool_data_copy > 20\n",
    "bool_data_copy[mask] = -1\n",
    "\n",
    "bool_data_copy"
   ]
  },
  {
   "cell_type": "markdown",
   "id": "0975b2ca",
   "metadata": {},
   "source": [
    "### 17. Select all rows in `bool_data` where the first element is even."
   ]
  },
  {
   "cell_type": "code",
   "execution_count": 28,
   "id": "339c4630",
   "metadata": {},
   "outputs": [
    {
     "data": {
      "text/plain": [
       "array([[ 6,  7,  8,  9, 10],\n",
       "       [16, 17, 18, 19, 20]])"
      ]
     },
     "execution_count": 28,
     "metadata": {},
     "output_type": "execute_result"
    }
   ],
   "source": [
    "mask = bool_data[:,0] % 2 == 0\n",
    "bool_data[mask]"
   ]
  },
  {
   "cell_type": "markdown",
   "id": "9f75fb45",
   "metadata": {},
   "source": [
    "### 18. Select all columns in `bool_data` where the last element is divisible by 5."
   ]
  },
  {
   "cell_type": "code",
   "execution_count": 29,
   "id": "1be6ae2b",
   "metadata": {},
   "outputs": [
    {
     "data": {
      "text/plain": [
       "array([[ 1,  2,  3,  4,  5],\n",
       "       [ 6,  7,  8,  9, 10],\n",
       "       [11, 12, 13, 14, 15],\n",
       "       [16, 17, 18, 19, 20],\n",
       "       [21, 22, 23, 24, 25]])"
      ]
     },
     "execution_count": 29,
     "metadata": {},
     "output_type": "execute_result"
    }
   ],
   "source": [
    "mask = bool_data[:, -1] % 5 == 0\n",
    "bool_data[mask]"
   ]
  },
  {
   "cell_type": "markdown",
   "id": "c733e6a8",
   "metadata": {},
   "source": [
    "### For the following questions, create two 2x3 arrays: `arr_a = np.array([[1, 2, 3], [4, 5, 6]])` and `arr_b = np.array([[10, 11, 12], [13, 14, 15]])`"
   ]
  },
  {
   "cell_type": "code",
   "execution_count": 30,
   "id": "b116dab6",
   "metadata": {},
   "outputs": [],
   "source": [
    "arr_a = np.array([[1, 2, 3], [4, 5, 6]])\n",
    "arr_b = np.array([[10, 11, 12], [13, 14, 15]])"
   ]
  },
  {
   "cell_type": "markdown",
   "id": "856dcf38",
   "metadata": {},
   "source": [
    "### 19. Perform element-wise addition, subtraction, multiplication, and division on `arr_a` and `arr_b`."
   ]
  },
  {
   "cell_type": "code",
   "execution_count": 31,
   "id": "63ac43df",
   "metadata": {},
   "outputs": [
    {
     "data": {
      "text/plain": [
       "array([[11, 13, 15],\n",
       "       [17, 19, 21]])"
      ]
     },
     "execution_count": 31,
     "metadata": {},
     "output_type": "execute_result"
    }
   ],
   "source": [
    "arr_a + arr_b"
   ]
  },
  {
   "cell_type": "code",
   "execution_count": 32,
   "id": "5254d382",
   "metadata": {},
   "outputs": [
    {
     "data": {
      "text/plain": [
       "array([[-9, -9, -9],\n",
       "       [-9, -9, -9]])"
      ]
     },
     "execution_count": 32,
     "metadata": {},
     "output_type": "execute_result"
    }
   ],
   "source": [
    "arr_a - arr_b"
   ]
  },
  {
   "cell_type": "code",
   "execution_count": 33,
   "id": "daef903b",
   "metadata": {},
   "outputs": [
    {
     "data": {
      "text/plain": [
       "array([[10, 22, 36],\n",
       "       [52, 70, 90]])"
      ]
     },
     "execution_count": 33,
     "metadata": {},
     "output_type": "execute_result"
    }
   ],
   "source": [
    "arr_a * arr_b"
   ]
  },
  {
   "cell_type": "code",
   "execution_count": 34,
   "id": "d9fb99ed",
   "metadata": {},
   "outputs": [
    {
     "data": {
      "text/plain": [
       "array([[0.1       , 0.18181818, 0.25      ],\n",
       "       [0.30769231, 0.35714286, 0.4       ]])"
      ]
     },
     "execution_count": 34,
     "metadata": {},
     "output_type": "execute_result"
    }
   ],
   "source": [
    "arr_a / arr_b"
   ]
  },
  {
   "cell_type": "markdown",
   "id": "dbbf2723",
   "metadata": {},
   "source": [
    "### 20. Add a scalar value of 100 to all elements in `arr_a`."
   ]
  },
  {
   "cell_type": "code",
   "execution_count": 35,
   "id": "2f127363",
   "metadata": {},
   "outputs": [
    {
     "data": {
      "text/plain": [
       "array([[101, 102, 103],\n",
       "       [104, 105, 106]])"
      ]
     },
     "execution_count": 35,
     "metadata": {},
     "output_type": "execute_result"
    }
   ],
   "source": [
    "arr_a + 100"
   ]
  },
  {
   "cell_type": "markdown",
   "id": "5d3e4277",
   "metadata": {},
   "source": [
    "### 21. Calculate the square root of every element in `arr_b`, the exponential of `arr_a`, the natural log of `arr_b`, and the sine of `arr_a`."
   ]
  },
  {
   "cell_type": "markdown",
   "id": "e5e5e5e5",
   "metadata": {},
   "source": [
    "**Hint:** Use NumPy's universal functions: `np.sqrt()`, `np.exp()`, `np.log()`, and `np.sin()`."
   ]
  },
  {
   "cell_type": "code",
   "execution_count": 36,
   "id": "bc05d5ce",
   "metadata": {},
   "outputs": [
    {
     "data": {
      "text/plain": [
       "array([[1.        , 1.41421356, 1.73205081],\n",
       "       [2.        , 2.23606798, 2.44948974]])"
      ]
     },
     "execution_count": 36,
     "metadata": {},
     "output_type": "execute_result"
    }
   ],
   "source": [
    "np.sqrt(arr_a)"
   ]
  },
  {
   "cell_type": "code",
   "execution_count": 37,
   "id": "97391e88",
   "metadata": {},
   "outputs": [
    {
     "data": {
      "text/plain": [
       "array([[  2.71828183,   7.3890561 ,  20.08553692],\n",
       "       [ 54.59815003, 148.4131591 , 403.42879349]])"
      ]
     },
     "execution_count": 37,
     "metadata": {},
     "output_type": "execute_result"
    }
   ],
   "source": [
    "np.exp(arr_a)"
   ]
  },
  {
   "cell_type": "code",
   "execution_count": 38,
   "id": "e43a7708",
   "metadata": {},
   "outputs": [
    {
     "data": {
      "text/plain": [
       "array([[0.        , 0.69314718, 1.09861229],\n",
       "       [1.38629436, 1.60943791, 1.79175947]])"
      ]
     },
     "execution_count": 38,
     "metadata": {},
     "output_type": "execute_result"
    }
   ],
   "source": [
    "np.log(arr_a)"
   ]
  },
  {
   "cell_type": "code",
   "execution_count": 39,
   "id": "2dfb7865",
   "metadata": {},
   "outputs": [
    {
     "data": {
      "text/plain": [
       "array([[ 0.84147098,  0.90929743,  0.14112001],\n",
       "       [-0.7568025 , -0.95892427, -0.2794155 ]])"
      ]
     },
     "execution_count": 39,
     "metadata": {},
     "output_type": "execute_result"
    }
   ],
   "source": [
    "np.sin(arr_a)"
   ]
  },
  {
   "cell_type": "markdown",
   "id": "7bb5bd11",
   "metadata": {},
   "source": [
    "### 22. Compare `arr_a` and `arr_b` to find elements where `arr_b` is greater than `arr_a`. Return a boolean array."
   ]
  },
  {
   "cell_type": "code",
   "execution_count": 40,
   "id": "fcc2b306",
   "metadata": {},
   "outputs": [
    {
     "data": {
      "text/plain": [
       "array([[ True,  True,  True],\n",
       "       [ True,  True,  True]])"
      ]
     },
     "execution_count": 40,
     "metadata": {},
     "output_type": "execute_result"
    }
   ],
   "source": [
    "bool_array = arr_b > arr_a\n",
    "bool_array"
   ]
  },
  {
   "cell_type": "markdown",
   "id": "25905198",
   "metadata": {},
   "source": [
    "### 23. Create a 3x3 array `matrix_c` with values 0 to 8. Create a 1D array `vector_c` with values `[10, 20, 30]`. Add `vector_c` to each row of `matrix_c`."
   ]
  },
  {
   "cell_type": "markdown",
   "id": "adadadad",
   "metadata": {},
   "source": [
    "**Hint:** This is an example of broadcasting. NumPy will automatically add the 1D array to each row of the 2D array."
   ]
  },
  {
   "cell_type": "code",
   "execution_count": 41,
   "id": "48395c4a",
   "metadata": {},
   "outputs": [
    {
     "data": {
      "text/plain": [
       "array([[10, 21, 32],\n",
       "       [13, 24, 35],\n",
       "       [16, 27, 38]])"
      ]
     },
     "execution_count": 41,
     "metadata": {},
     "output_type": "execute_result"
    }
   ],
   "source": [
    "matrix_c = np.arange(0,9).reshape(3,3)\n",
    "vector_c = np.array([10, 20, 30])\n",
    "\n",
    "matrix_c + vector_c"
   ]
  },
  {
   "cell_type": "markdown",
   "id": "01cadafd",
   "metadata": {},
   "source": [
    "### 24. Create a 1D array `vector_d` with values `[1, 2, 3]`, reshape it into a 2D column vector, and add it to each column of `matrix_c`."
   ]
  },
  {
   "cell_type": "code",
   "execution_count": 42,
   "id": "36bbeea3",
   "metadata": {},
   "outputs": [
    {
     "data": {
      "text/plain": [
       "array([[ 1,  2,  3],\n",
       "       [ 5,  6,  7],\n",
       "       [ 9, 10, 11]])"
      ]
     },
     "execution_count": 42,
     "metadata": {},
     "output_type": "execute_result"
    }
   ],
   "source": [
    "vector_d = np.array([1, 2, 3])\n",
    "vector_d.reshape(3,1) + matrix_c"
   ]
  },
  {
   "cell_type": "markdown",
   "id": "f94806a4",
   "metadata": {},
   "source": [
    "### 25. Create a 5x1 array `v1` and a 1x4 array `v2`. Add them together and determine the shape of the resulting array."
   ]
  },
  {
   "cell_type": "markdown",
   "id": "73737373",
   "metadata": {},
   "source": [
    "**Hint:** When adding arrays with different dimensions, broadcasting rules apply. The resulting shape will be the maximum size along each dimension."
   ]
  },
  {
   "cell_type": "code",
   "execution_count": 43,
   "metadata": {},
   "outputs": [
    {
     "data": {
      "text/plain": [
       "array([[ 7,  8,  9, 10],\n",
       "       [ 8,  9, 10, 11],\n",
       "       [ 9, 10, 11, 12],\n",
       "       [10, 11, 12, 13],\n",
       "       [11, 12, 13, 14]])"
      ]
     },
     "execution_count": 43,
     "metadata": {},
     "output_type": "execute_result"
    }
   ],
   "source": [
    "v1 = np.array([1, 2, 3, 4, 5]).reshape(5,1)\n",
    "v2 = np.array([6, 7, 8, 9]).reshape(1,4)\n",
    "\n",
    "v1 + v2"
   ]
  }
 ],
 "metadata": {
  "kernelspec": {
   "display_name": ".venv",
   "language": "python",
   "name": "python3"
  },
  "language_info": {
   "codemirror_mode": {
    "name": "ipython",
    "version": 3
   },
   "file_extension": ".py",
   "mimetype": "text/x-python",
   "name": "python",
   "nbconvert_exporter": "python",
   "pygments_lexer": "ipython3",
   "version": "3.12.7"
  }
 },
 "nbformat": 4,
 "nbformat_minor": 5
}
