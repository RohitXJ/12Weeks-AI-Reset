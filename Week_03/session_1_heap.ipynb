{
 "cells": [
  {
   "cell_type": "markdown",
   "id": "151a3469",
   "metadata": {},
   "source": [
    "# Heap (Priority Queue)"
   ]
  },
  {
   "cell_type": "markdown",
   "id": "586c29df",
   "metadata": {},
   "source": [
    "### Q1. Min-Heap Insertion: Use Python's built-in $\\mathbf{heapq}$ module. Start with an empty list and demonstrate $\\mathbf{heappush()}$ for several items, showing the list's resulting array form."
   ]
  },
  {
   "cell_type": "code",
   "execution_count": 6,
   "id": "ac3c9117",
   "metadata": {},
   "outputs": [
    {
     "data": {
      "text/plain": [
       "[]"
      ]
     },
     "execution_count": 6,
     "metadata": {},
     "output_type": "execute_result"
    }
   ],
   "source": [
    "import heapq\n",
    "\n",
    "heap_lst = []\n",
    "heapq.heapify(heap_lst)\n",
    "heap_lst"
   ]
  },
  {
   "cell_type": "code",
   "execution_count": 17,
   "id": "69490025",
   "metadata": {},
   "outputs": [
    {
     "data": {
      "text/plain": [
       "[0, 40, 20]"
      ]
     },
     "execution_count": 17,
     "metadata": {},
     "output_type": "execute_result"
    }
   ],
   "source": [
    "heapq.heappush(heap_lst,20)\n",
    "heapq.heappush(heap_lst,40)\n",
    "heapq.heappush(heap_lst,0)\n",
    "heap_lst"
   ]
  },
  {
   "cell_type": "markdown",
   "id": "2d09d87f",
   "metadata": {},
   "source": [
    "### Q2. Min-Heap Extraction: Use $\\mathbf{heappop()}$ to extract elements from the heap created in H1 until it's empty. Record the order of extraction. "
   ]
  },
  {
   "cell_type": "code",
   "execution_count": 18,
   "id": "bba90c8b",
   "metadata": {},
   "outputs": [
    {
     "name": "stdout",
     "output_type": "stream",
     "text": [
      "Extracted : 0\n",
      "Extracted : 20\n",
      "Extracted : 40\n"
     ]
    }
   ],
   "source": [
    "print(f\"Extracted : {heapq.heappop(heap_lst)}\")\n",
    "print(f\"Extracted : {heapq.heappop(heap_lst)}\")\n",
    "print(f\"Extracted : {heapq.heappop(heap_lst)}\")"
   ]
  },
  {
   "cell_type": "markdown",
   "id": "0180715a",
   "metadata": {},
   "source": [
    "### Q3. Conceptual Difference: Describe the core difference between a Heap and a Binary Search Tree (BST) in terms of ordering and structure (completeness). No code needed."
   ]
  },
  {
   "cell_type": "markdown",
   "id": "3ab3cdfd",
   "metadata": {},
   "source": [
    "- Ordering:\n",
    "    - Heap: Every parent satisfies a local heap property relative to its children (min-heap: parent ≤ children; max-heap: parent ≥ children). There is no global sorted order across levels or between siblings — only the root is guaranteed to be the global minimum/maximum.\n",
    "    - BST: Every node enforces a global binary-search ordering: all keys in the left subtree are < node.key and all keys in the right subtree are > node.key. This yields an in-order traversal that produces the keys in sorted order.\n",
    "\n",
    "- Structure (completeness):\n",
    "    - Heap: Typically implemented as a complete binary tree (all levels filled except possibly the last, which is filled left-to-right). This property enables a compact array representation and guarantees height = O(log n).\n",
    "    - BST: No completeness requirement; shape depends on insertion/deletion order. A plain BST can become unbalanced (height up to O(n)); balanced BST variants (AVL, red–black) enforce additional constraints to keep height = O(log n)."
   ]
  },
  {
   "cell_type": "markdown",
   "id": "f6736a19",
   "metadata": {},
   "source": [
    "### Q4. Array Index Relationship: Given a heap implemented as an array where the root is at index $0$, write functions to calculate the $\\mathbf{parent\\_index}$, $\\mathbf{left\\_child\\_index}$, and $\\mathbf{right\\_child\\_index}$ for any given index $i$."
   ]
  },
  {
   "cell_type": "code",
   "execution_count": 2,
   "id": "53c40d19",
   "metadata": {},
   "outputs": [],
   "source": [
    "def parent_index(i):\n",
    "    return (i - 1)//2\n",
    "\n",
    "def left_child_index(i):\n",
    "    return 2*i + 1\n",
    "\n",
    "def right_child_index(i):\n",
    "    return 2*i + 2"
   ]
  },
  {
   "cell_type": "code",
   "execution_count": 8,
   "id": "141639bb",
   "metadata": {},
   "outputs": [
    {
     "name": "stdout",
     "output_type": "stream",
     "text": [
      "\n",
      "Safe access (None means child/parent out of bounds):\n",
      "i=0: parent_index=None, parent_value=None; left_index=1, left_value=10; right_index=2, right_value=20\n",
      "i=1: parent_index=0, parent_value=0; left_index=3, left_value=50; right_index=4, right_value=40\n",
      "i=2: parent_index=0, parent_value=0; left_index=5, left_value=30; right_index=None, right_value=None\n",
      "i=3: parent_index=1, parent_value=10; left_index=None, left_value=None; right_index=None, right_value=None\n",
      "i=4: parent_index=1, parent_value=10; left_index=None, left_value=None; right_index=None, right_value=None\n",
      "i=5: parent_index=2, parent_value=20; left_index=None, left_value=None; right_index=None, right_value=None\n",
      "\n",
      "Summary:\n",
      "Index functions (parent, left, right) are the standard 0-based formulas.\n",
      "parent_index(i) == (i-1)//2  -> returns -1 for root (no parent).\n",
      "left_child_index(i) == 2*i+1, right_child_index(i) == 2*i+2.\n"
     ]
    }
   ],
   "source": [
    "nums = [0, 40, 20, 50, 10, 30]\n",
    "heapq.heapify(nums)\n",
    "n = len(nums)\n",
    "\n",
    "def parent_index_safe(i):\n",
    "    p = parent_index(i)\n",
    "    return p if p >= 0 else None\n",
    "\n",
    "def left_child_index_safe(i):\n",
    "    c = left_child_index(i)\n",
    "    return c if c < n else None\n",
    "\n",
    "def right_child_index_safe(i):\n",
    "    c = right_child_index(i)\n",
    "    return c if c < n else None\n",
    "\n",
    "print(\"\\nSafe access (None means child/parent out of bounds):\")\n",
    "for i in range(n):\n",
    "    p = parent_index_safe(i)\n",
    "    l = left_child_index_safe(i)\n",
    "    r = right_child_index_safe(i)\n",
    "    pv = nums[p] if p is not None else None\n",
    "    lv = nums[l] if l is not None else None\n",
    "    rv = nums[r] if r is not None else None\n",
    "    print(f\"i={i}: parent_index={p}, parent_value={pv}; left_index={l}, left_value={lv}; right_index={r}, right_value={rv}\")\n",
    "\n",
    "print(\"\\nSummary:\")\n",
    "print(\"Index functions (parent, left, right) are the standard 0-based formulas.\")\n",
    "print(\"parent_index(i) == (i-1)//2  -> returns -1 for root (no parent).\")\n",
    "print(\"left_child_index(i) == 2*i+1, right_child_index(i) == 2*i+2.\")"
   ]
  },
  {
   "cell_type": "markdown",
   "id": "c6ce64aa",
   "metadata": {},
   "source": [
    "### Q5. Find Kth Smallest Element: Write a function that uses a Max-Heap of size $K$ to find the $\\mathbf{K\\text{-th smallest element}}$ in an unsorted list of $N$ numbers."
   ]
  },
  {
   "cell_type": "code",
   "execution_count": null,
   "id": "b527153b",
   "metadata": {},
   "outputs": [
    {
     "name": "stdout",
     "output_type": "stream",
     "text": [
      "3-th smallest in nums = 20\n",
      "4-th smallest in data = 5\n"
     ]
    }
   ],
   "source": [
    "def kth_smallest_maxheap(arr, k):\n",
    "    \"\"\"\n",
    "    Return the k-th smallest element using a max-heap of size k.\n",
    "    Uses heapq with inverted values to simulate a max-heap.\n",
    "    Complexity: O(n log k) time, O(k) extra space.\n",
    "    \"\"\"\n",
    "    if k <= 0 or k > len(arr):\n",
    "        raise ValueError(\"k must be between 1 and len(arr)\")\n",
    "\n",
    "    max_heap = []  # will store negatives so heapq acts as max-heap\n",
    "    for x in arr:\n",
    "        if len(max_heap) < k:\n",
    "            heapq.heappush(max_heap, -x)\n",
    "        else:\n",
    "            # if current element is smaller than current max (top of max-heap),\n",
    "            # replace the max with the current element\n",
    "            if x < -max_heap[0]:\n",
    "                heapq.heapreplace(max_heap, -x)\n",
    "\n",
    "    return -max_heap[0]\n",
    "\n",
    "data = [7, 3, 1, 9, 5, 2]\n",
    "k = 4\n",
    "print(f\"{k}-th smallest in data = {kth_smallest_maxheap(data, k)}\")"
   ]
  },
  {
   "cell_type": "markdown",
   "id": "842d2a4c",
   "metadata": {},
   "source": [
    "### Q6. Custom Priority Queue: Using a list and your knowledge of the heap property, outline the steps (the \"sift-up\" and \"sift-down\" process) required to manually $\\mathbf{insert}$ an element into a Min-Heap while maintaining the heap property. Outline the logic, no full implementation needed."
   ]
  },
  {
   "cell_type": "code",
   "execution_count": 1,
   "id": "0667a18b",
   "metadata": {},
   "outputs": [],
   "source": [
    "def sift_up(heap, i):\n",
    "    while i > 0:\n",
    "        p = (i - 1) // 2\n",
    "        if heap[i] < heap[p]:\n",
    "            heap[i], heap[p] = heap[p], heap[i]\n",
    "            i = p\n",
    "        else:\n",
    "            break\n",
    "\n",
    "def sift_down(heap, i):\n",
    "    n = len(heap)\n",
    "    while True:\n",
    "        l = 2 * i + 1\n",
    "        r = 2 * i + 2\n",
    "        smallest = i\n",
    "        if l < n and heap[l] < heap[smallest]:\n",
    "            smallest = l\n",
    "        if r < n and heap[r] < heap[smallest]:\n",
    "            smallest = r\n",
    "        if smallest == i:\n",
    "            break\n",
    "        heap[i], heap[smallest] = heap[smallest], heap[i]\n",
    "        i = smallest\n",
    "\n",
    "def insert_min_heap(heap, val):\n",
    "    heap.append(val)\n",
    "    sift_up(heap, len(heap) - 1)\n",
    "\n",
    "def pop_min(heap):\n",
    "    if not heap:\n",
    "        raise IndexError(\"pop from empty heap\")\n",
    "    res = heap[0]\n",
    "    last = heap.pop()\n",
    "    if heap:\n",
    "        heap[0] = last\n",
    "        sift_down(heap, 0)\n",
    "    return res"
   ]
  },
  {
   "cell_type": "code",
   "execution_count": 2,
   "id": "06ad4c73",
   "metadata": {},
   "outputs": [
    {
     "name": "stdout",
     "output_type": "stream",
     "text": [
      "after insert 12 -> [12]\n",
      "after insert 3 -> [3, 12]\n",
      "after insert 6 -> [3, 12, 6]\n",
      "after insert 8 -> [3, 8, 6, 12]\n",
      "after insert 1 -> [1, 3, 6, 12, 8]\n",
      "after insert 15 -> [1, 3, 6, 12, 8, 15]\n",
      "pop sequence:\n",
      "1\n",
      "3\n",
      "6\n",
      "8\n",
      "12\n",
      "15\n"
     ]
    }
   ],
   "source": [
    "custom_heap = []\n",
    "data = [12, 3, 6, 8, 1, 15]\n",
    "for x in data:\n",
    "    insert_min_heap(custom_heap, x)\n",
    "    print(\"after insert\", x, \"->\", custom_heap)\n",
    "\n",
    "print(\"pop sequence:\")\n",
    "while custom_heap:\n",
    "    print(pop_min(custom_heap))\n",
    "    "
   ]
  }
 ],
 "metadata": {
  "kernelspec": {
   "display_name": "base",
   "language": "python",
   "name": "python3"
  },
  "language_info": {
   "codemirror_mode": {
    "name": "ipython",
    "version": 3
   },
   "file_extension": ".py",
   "mimetype": "text/x-python",
   "name": "python",
   "nbconvert_exporter": "python",
   "pygments_lexer": "ipython3",
   "version": "3.12.7"
  }
 },
 "nbformat": 4,
 "nbformat_minor": 5
}
