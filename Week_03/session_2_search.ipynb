{
 "cells": [
  {
   "cell_type": "markdown",
   "id": "ca101809",
   "metadata": {},
   "source": [
    "# Section I: Linear Search (Unsorted Data)"
   ]
  },
  {
   "cell_type": "markdown",
   "id": "86710188",
   "metadata": {},
   "source": [
    "### Q1.Basic Linear Search: Write a function $\\mathbf{linear\\_search(arr, target)}$ that iterates through an unsorted list arr to find the target value. Return the index of the first occurrence, or -1 if the target is not found."
   ]
  },
  {
   "cell_type": "code",
   "execution_count": 1,
   "id": "10e7f437",
   "metadata": {},
   "outputs": [
    {
     "name": "stdout",
     "output_type": "stream",
     "text": [
      "3\n",
      "-1\n"
     ]
    }
   ],
   "source": [
    "def linear_search(arr,target):\n",
    "    if target in arr:\n",
    "        return arr.index(target)\n",
    "    else:\n",
    "        return -1\n",
    "\n",
    "arr = [2,1,4,0,3,5,2]\n",
    "print(linear_search(arr,0))\n",
    "print(linear_search(arr,7))"
   ]
  },
  {
   "cell_type": "markdown",
   "id": "28dc2015",
   "metadata": {},
   "source": [
    "### Q2.\tFind All Occurrences: Modify the function from Q1 to return a list of all indices where the target value is found in the array. "
   ]
  },
  {
   "cell_type": "code",
   "execution_count": 2,
   "id": "9bde3b82",
   "metadata": {},
   "outputs": [
    {
     "name": "stdout",
     "output_type": "stream",
     "text": [
      "[0, 6]\n",
      "-1\n"
     ]
    }
   ],
   "source": [
    "def linear_search_mod(arr,target):\n",
    "    count = []\n",
    "    for i in range(len(arr)):\n",
    "        if target == arr[i]:\n",
    "            count.append(i)\n",
    "    if count:\n",
    "        return count\n",
    "    else:\n",
    "        return -1\n",
    "\n",
    "arr = [2,1,4,0,3,5,2]\n",
    "print(linear_search_mod(arr,2))\n",
    "print(linear_search_mod(arr,7))"
   ]
  },
  {
   "cell_type": "markdown",
   "id": "dae3b7f1",
   "metadata": {},
   "source": [
    "# Section II: Binary Search (Sorted Data)"
   ]
  },
  {
   "cell_type": "markdown",
   "id": "7a8317fd",
   "metadata": {},
   "source": [
    "### Q3.Iterative Binary Search: Write a function $\\mathbf{binary\\_search\\_iterative(arr, target)}$ that uses a while loop and low/high pointers to find the target in a sorted list arr. Return the index, or -1."
   ]
  },
  {
   "cell_type": "code",
   "execution_count": 3,
   "id": "c639bf7d",
   "metadata": {},
   "outputs": [],
   "source": [
    "def binary_search_iterative(arr, target):\n",
    "    low = 0\n",
    "    high = len(arr) - 1\n",
    "\n",
    "    while low <= high:\n",
    "        mid = (low + high) // 2\n",
    "        if arr[mid] == target:\n",
    "            return mid\n",
    "        elif arr[mid] < target:\n",
    "            low = mid + 1\n",
    "        else:\n",
    "            high = mid - 1\n",
    "\n",
    "    return -1"
   ]
  },
  {
   "cell_type": "code",
   "execution_count": 4,
   "id": "0a680ab3",
   "metadata": {},
   "outputs": [
    {
     "name": "stdout",
     "output_type": "stream",
     "text": [
      "3\n",
      "-1\n"
     ]
    }
   ],
   "source": [
    "arr = [0, 1, 2, 3, 4, 5]\n",
    "print(binary_search_iterative(arr,3))\n",
    "print(binary_search_iterative(arr,7))"
   ]
  },
  {
   "cell_type": "markdown",
   "id": "7f80fb1d",
   "metadata": {},
   "source": [
    "### Q4.Recursive Binary Search: Write a function $\\mathbf{binary\\_search\\_recursive(arr, target, low, high)}$ to achieve the same result as Q3, but using recursion."
   ]
  },
  {
   "cell_type": "code",
   "execution_count": 5,
   "id": "5fbb64a6",
   "metadata": {},
   "outputs": [],
   "source": [
    "def binary_search_recursive(arr, target, low, high):\n",
    "    if low >= high:\n",
    "        return -1\n",
    "\n",
    "    mid = (low + high) // 2\n",
    "\n",
    "    if arr[mid] == target:\n",
    "        return mid\n",
    "    elif target < arr[mid]:\n",
    "        return binary_search_recursive(arr, target, low, mid)\n",
    "    else:\n",
    "        return binary_search_recursive(arr, target, mid + 1, high)"
   ]
  },
  {
   "cell_type": "code",
   "execution_count": 6,
   "id": "e643482a",
   "metadata": {},
   "outputs": [
    {
     "name": "stdout",
     "output_type": "stream",
     "text": [
      "3\n",
      "-1\n"
     ]
    }
   ],
   "source": [
    "arr = [0, 1, 3, 6, 8, 9]\n",
    "print(binary_search_recursive(arr,6,0,len(arr)))\n",
    "print(binary_search_recursive(arr,2,0,len(arr)))"
   ]
  },
  {
   "cell_type": "markdown",
   "id": "1c72c1cf",
   "metadata": {},
   "source": [
    "# Section III: Advanced Binary Search & Applications"
   ]
  },
  {
   "cell_type": "markdown",
   "id": "d773f90b",
   "metadata": {},
   "source": [
    "### Q5.\tFind First Occurrence: Modify your Binary Search to find the index of the first occurrence of the target value in a sorted array that might contain duplicates. If the target is found at mid, you must continue searching in the left half (high = mid - 1) to ensure it's the absolute first index."
   ]
  },
  {
   "cell_type": "code",
   "execution_count": 7,
   "id": "2e6bc3b2",
   "metadata": {},
   "outputs": [],
   "source": [
    "def binary_search_iterative_mod(arr,target):\n",
    "    low = 0\n",
    "    high = len(arr) - 1\n",
    "\n",
    "    while low <= high:\n",
    "        mid = (low + high) // 2\n",
    "        if arr[mid] == target:\n",
    "            while True:\n",
    "                if arr[mid-1] == target:\n",
    "                    mid -= 1\n",
    "                else:\n",
    "                    break\n",
    "            return mid\n",
    "        elif arr[mid] < target:\n",
    "            low = mid + 1\n",
    "        else:\n",
    "            high = mid - 1\n",
    "\n",
    "    return -1"
   ]
  },
  {
   "cell_type": "code",
   "execution_count": 8,
   "id": "743a1d89",
   "metadata": {},
   "outputs": [
    {
     "name": "stdout",
     "output_type": "stream",
     "text": [
      "2\n",
      "5\n"
     ]
    }
   ],
   "source": [
    "arr = [0, 1, 2, 2, 2, 3, 3, 4, 5]\n",
    "print(binary_search_iterative_mod(arr,2))\n",
    "print(binary_search_iterative_mod(arr,3))"
   ]
  },
  {
   "cell_type": "markdown",
   "id": "c70f6cf1",
   "metadata": {},
   "source": [
    "### Q6.Search in Rotated Sorted Array: Implement Binary Search to find the target in a sorted array that has been rotated at some unknown pivot point (e.g., [4, 5, 6, 7, 0, 1, 2]). Your solution must still run in $O(\\log n)$ time."
   ]
  },
  {
   "cell_type": "code",
   "execution_count": 9,
   "id": "2d623346",
   "metadata": {},
   "outputs": [],
   "source": [
    "def search_rotated(arr, target):\n",
    "    low, high = 0, len(arr) - 1\n",
    "    while low <= high:\n",
    "        mid = (low + high) // 2\n",
    "        if arr[mid] == target:\n",
    "            return mid\n",
    "        if arr[low] < arr[mid]:\n",
    "            if arr[low] <= target < arr[mid]:\n",
    "                high = mid - 1\n",
    "            else:\n",
    "                low = mid + 1\n",
    "        elif arr[low] > arr[mid]:\n",
    "            if arr[mid] < target <= arr[high]:\n",
    "                low = mid + 1\n",
    "            else:\n",
    "                high = mid - 1\n",
    "        else:\n",
    "            low += 1\n",
    "    return -1"
   ]
  },
  {
   "cell_type": "code",
   "execution_count": 10,
   "id": "c0aea64c",
   "metadata": {},
   "outputs": [
    {
     "name": "stdout",
     "output_type": "stream",
     "text": [
      "4\n",
      "-1\n"
     ]
    }
   ],
   "source": [
    "arr_rot = [4, 5, 6, 7, 0, 1, 2]\n",
    "print(search_rotated(arr_rot, 0))\n",
    "print(search_rotated(arr_rot, 3))"
   ]
  }
 ],
 "metadata": {
  "kernelspec": {
   "display_name": "base",
   "language": "python",
   "name": "python3"
  },
  "language_info": {
   "codemirror_mode": {
    "name": "ipython",
    "version": 3
   },
   "file_extension": ".py",
   "mimetype": "text/x-python",
   "name": "python",
   "nbconvert_exporter": "python",
   "pygments_lexer": "ipython3",
   "version": "3.12.7"
  }
 },
 "nbformat": 4,
 "nbformat_minor": 5
}
